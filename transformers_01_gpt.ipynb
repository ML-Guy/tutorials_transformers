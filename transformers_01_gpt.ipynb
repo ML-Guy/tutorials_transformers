{
  "cells": [
    {
      "cell_type": "markdown",
      "metadata": {
        "id": "view-in-github",
        "colab_type": "text"
      },
      "source": [
        "<a href=\"https://colab.research.google.com/github/ML-Guy/tutorials_transformers/blob/main/transformers_01_gpt.ipynb\" target=\"_parent\"><img src=\"https://colab.research.google.com/assets/colab-badge.svg\" alt=\"Open In Colab\"/></a>"
      ]
    },
    {
      "cell_type": "markdown",
      "metadata": {
        "id": "wJpXpmjEYC_T"
      },
      "source": [
        "## Building a GPT\n",
        "\n",
        "A significant part of code is referenced from companion notebook to the Karpathy's [Zero To Hero](https://karpathy.ai/zero-to-hero.html) video on GPT. You can follow along with blogpost [Building a Transformer LLM with Code: Fundamental Transformer & GPT](https://www.yadavsaurabh.com/building-a-transformer-llm-with-code-fundamental-transformer-gpt/) for better conceptual understanding."
      ]
    },
    {
      "cell_type": "code",
      "execution_count": 2,
      "metadata": {
        "colab": {
          "base_uri": "https://localhost:8080/"
        },
        "id": "b79cQ218-yDF",
        "outputId": "70e73484-b53e-42cd-9308-bfc76d277ea9"
      },
      "outputs": [
        {
          "output_type": "stream",
          "name": "stdout",
          "text": [
            "\u001b[2K     \u001b[90m━━━━━━━━━━━━━━━━━━━━━━━━━━━━━━━━━━━━━━━━\u001b[0m \u001b[32m42.2/42.2 kB\u001b[0m \u001b[31m1.5 MB/s\u001b[0m eta \u001b[36m0:00:00\u001b[0m\n",
            "\u001b[2K     \u001b[90m━━━━━━━━━━━━━━━━━━━━━━━━━━━━━━━━━━━━━━━━\u001b[0m \u001b[32m7.4/7.4 MB\u001b[0m \u001b[31m36.1 MB/s\u001b[0m eta \u001b[36m0:00:00\u001b[0m\n",
            "\u001b[2K     \u001b[90m━━━━━━━━━━━━━━━━━━━━━━━━━━━━━━━━━━━━━━\u001b[0m \u001b[32m268.8/268.8 kB\u001b[0m \u001b[31m23.3 MB/s\u001b[0m eta \u001b[36m0:00:00\u001b[0m\n",
            "\u001b[2K     \u001b[90m━━━━━━━━━━━━━━━━━━━━━━━━━━━━━━━━━━━━━━━━\u001b[0m \u001b[32m7.8/7.8 MB\u001b[0m \u001b[31m98.2 MB/s\u001b[0m eta \u001b[36m0:00:00\u001b[0m\n",
            "\u001b[2K     \u001b[90m━━━━━━━━━━━━━━━━━━━━━━━━━━━━━━━━━━━━━━━━\u001b[0m \u001b[32m1.3/1.3 MB\u001b[0m \u001b[31m61.1 MB/s\u001b[0m eta \u001b[36m0:00:00\u001b[0m\n",
            "\u001b[?25h"
          ]
        }
      ],
      "source": [
        "%pip install -q einops transformers"
      ]
    },
    {
      "cell_type": "code",
      "execution_count": 3,
      "metadata": {
        "colab": {
          "base_uri": "https://localhost:8080/"
        },
        "id": "h5hjCcLDr2WC",
        "outputId": "6dbefea5-b6fe-498b-d974-341d836da861"
      },
      "outputs": [
        {
          "output_type": "stream",
          "name": "stdout",
          "text": [
            "--2023-08-17 05:55:35--  https://raw.githubusercontent.com/karpathy/char-rnn/master/data/tinyshakespeare/input.txt\n",
            "Resolving raw.githubusercontent.com (raw.githubusercontent.com)... 185.199.108.133, 185.199.110.133, 185.199.111.133, ...\n",
            "Connecting to raw.githubusercontent.com (raw.githubusercontent.com)|185.199.108.133|:443... connected.\n",
            "HTTP request sent, awaiting response... 200 OK\n",
            "Length: 1115394 (1.1M) [text/plain]\n",
            "Saving to: ‘input.txt’\n",
            "\n",
            "input.txt           100%[===================>]   1.06M  --.-KB/s    in 0.008s  \n",
            "\n",
            "2023-08-17 05:55:36 (129 MB/s) - ‘input.txt’ saved [1115394/1115394]\n",
            "\n"
          ]
        }
      ],
      "source": [
        "# We always start with a dataset to train on. Let's download the tiny shakespeare dataset\n",
        "!wget https://raw.githubusercontent.com/karpathy/char-rnn/master/data/tinyshakespeare/input.txt"
      ]
    },
    {
      "cell_type": "code",
      "execution_count": 4,
      "metadata": {
        "id": "O6medjfRsLD9"
      },
      "outputs": [],
      "source": [
        "# read it in to inspect it\n",
        "with open('input.txt', 'r', encoding='utf-8') as f:\n",
        "    text = f.read()"
      ]
    },
    {
      "cell_type": "code",
      "execution_count": 5,
      "metadata": {
        "colab": {
          "base_uri": "https://localhost:8080/"
        },
        "id": "6xWI_VyAsN8F",
        "outputId": "9a79f6eb-34f9-4cf5-e571-67217eebbf64"
      },
      "outputs": [
        {
          "output_type": "stream",
          "name": "stdout",
          "text": [
            "length of dataset in characters:  1115394\n"
          ]
        }
      ],
      "source": [
        "print(\"length of dataset in characters: \", len(text))"
      ]
    },
    {
      "cell_type": "code",
      "execution_count": 6,
      "metadata": {
        "colab": {
          "base_uri": "https://localhost:8080/"
        },
        "id": "2c5V0FvqseE0",
        "outputId": "071cd4ec-5dc5-457a-cfcf-1e65b44345e5"
      },
      "outputs": [
        {
          "output_type": "stream",
          "name": "stdout",
          "text": [
            "First Citizen:\n",
            "Before we proceed any further, hear me speak.\n",
            "\n",
            "All:\n",
            "Speak, speak.\n",
            "\n",
            "First Citizen:\n",
            "You are all resolved rather to die than to famish?\n",
            "\n",
            "All:\n",
            "Resolved. resolved.\n",
            "\n",
            "First Citizen:\n",
            "First, you know Caius Marcius is chief enemy to the people.\n",
            "\n",
            "All:\n",
            "We know't, we know't.\n",
            "\n",
            "First Citizen:\n",
            "Let us kill him, and we'll have corn at our own price.\n",
            "Is't a verdict?\n",
            "\n",
            "All:\n",
            "No more talking on't; let it be done: away, away!\n",
            "\n",
            "Second Citizen:\n",
            "One word, good citizens.\n",
            "\n",
            "First Citizen:\n",
            "We are accounted poor citizens, the patricians good.\n",
            "What authority surfeits on would relieve us: if they\n",
            "would yield us but the superfluity, while it were\n",
            "wholesome, we might guess they relieved us humanely;\n",
            "but they think we are too dear: the leanness that\n",
            "afflicts us, the object of our misery, is as an\n",
            "inventory to particularise their abundance; our\n",
            "sufferance is a gain to them Let us revenge this with\n",
            "our pikes, ere we become rakes: for the gods know I\n",
            "speak this in hunger for bread, not in thirst for revenge.\n",
            "\n",
            "\n"
          ]
        }
      ],
      "source": [
        "# let's look at the first 1000 characters\n",
        "print(text[:1000])"
      ]
    },
    {
      "cell_type": "markdown",
      "metadata": {
        "id": "UUoVRWEXSb70"
      },
      "source": [
        "# 1. Basic Tokenizer"
      ]
    },
    {
      "cell_type": "code",
      "execution_count": 7,
      "metadata": {
        "colab": {
          "base_uri": "https://localhost:8080/"
        },
        "id": "0e-Rbyr8sfM8",
        "outputId": "7155313d-b37a-49c2-cc14-5c9eb83d7e26"
      },
      "outputs": [
        {
          "output_type": "stream",
          "name": "stdout",
          "text": [
            "\n",
            " !$&',-.3:;?ABCDEFGHIJKLMNOPQRSTUVWXYZabcdefghijklmnopqrstuvwxyz\n",
            "65\n"
          ]
        }
      ],
      "source": [
        "# here are all the unique characters that occur in this text\n",
        "chars = sorted(list(set(text)))\n",
        "vocab_size = len(chars)\n",
        "print(''.join(chars))\n",
        "print(vocab_size)"
      ]
    },
    {
      "cell_type": "code",
      "execution_count": 8,
      "metadata": {
        "colab": {
          "base_uri": "https://localhost:8080/"
        },
        "id": "Yw1LKNCgwjj1",
        "outputId": "0e00af04-699e-4641-b97b-3f1e3b954a4d"
      },
      "outputs": [
        {
          "output_type": "stream",
          "name": "stdout",
          "text": [
            "[46, 47, 47, 1, 58, 46, 43, 56, 43]\n",
            "hii there\n"
          ]
        }
      ],
      "source": [
        "# create a mapping from characters to integers\n",
        "stoi = { ch:i for i,ch in enumerate(chars) }\n",
        "itos = { i:ch for i,ch in enumerate(chars) }\n",
        "encode = lambda s: [stoi[c] for c in s] # encoder: take a string, output a list of integers\n",
        "decode = lambda l: ''.join([itos[i] for i in l]) # decoder: take a list of integers, output a string\n",
        "\n",
        "print(encode(\"hii there\"))\n",
        "print(decode(encode(\"hii there\")))"
      ]
    },
    {
      "cell_type": "markdown",
      "metadata": {
        "id": "tZbfnI3vTbQQ"
      },
      "source": [
        "# 2. Data Loader"
      ]
    },
    {
      "cell_type": "code",
      "execution_count": 9,
      "metadata": {
        "colab": {
          "base_uri": "https://localhost:8080/"
        },
        "id": "YJb0OXPwzvqg",
        "outputId": "041229ba-c9d4-43c6-d261-b5b8e93503a3"
      },
      "outputs": [
        {
          "output_type": "stream",
          "name": "stdout",
          "text": [
            "torch.Size([1115394]) torch.int64\n",
            "tensor([18, 47, 56, 57, 58,  1, 15, 47, 58, 47, 64, 43, 52, 10,  0, 14, 43, 44,\n",
            "        53, 56, 43,  1, 61, 43,  1, 54, 56, 53, 41, 43, 43, 42,  1, 39, 52, 63,\n",
            "         1, 44, 59, 56, 58, 46, 43, 56,  6,  1, 46, 43, 39, 56,  1, 51, 43,  1,\n",
            "        57, 54, 43, 39, 49,  8,  0,  0, 13, 50, 50, 10,  0, 31, 54, 43, 39, 49,\n",
            "         6,  1, 57, 54, 43, 39, 49,  8,  0,  0, 18, 47, 56, 57, 58,  1, 15, 47,\n",
            "        58, 47, 64, 43, 52, 10,  0, 37, 53, 59,  1, 39, 56, 43,  1, 39, 50, 50,\n",
            "         1, 56, 43, 57, 53, 50, 60, 43, 42,  1, 56, 39, 58, 46, 43, 56,  1, 58,\n",
            "        53,  1, 42, 47, 43,  1, 58, 46, 39, 52,  1, 58, 53,  1, 44, 39, 51, 47,\n",
            "        57, 46, 12,  0,  0, 13, 50, 50, 10,  0, 30, 43, 57, 53, 50, 60, 43, 42,\n",
            "         8,  1, 56, 43, 57, 53, 50, 60, 43, 42,  8,  0,  0, 18, 47, 56, 57, 58,\n",
            "         1, 15, 47, 58, 47, 64, 43, 52, 10,  0, 18, 47, 56, 57, 58,  6,  1, 63,\n",
            "        53, 59,  1, 49, 52, 53, 61,  1, 15, 39, 47, 59, 57,  1, 25, 39, 56, 41,\n",
            "        47, 59, 57,  1, 47, 57,  1, 41, 46, 47, 43, 44,  1, 43, 52, 43, 51, 63,\n",
            "         1, 58, 53,  1, 58, 46, 43,  1, 54, 43, 53, 54, 50, 43,  8,  0,  0, 13,\n",
            "        50, 50, 10,  0, 35, 43,  1, 49, 52, 53, 61,  5, 58,  6,  1, 61, 43,  1,\n",
            "        49, 52, 53, 61,  5, 58,  8,  0,  0, 18, 47, 56, 57, 58,  1, 15, 47, 58,\n",
            "        47, 64, 43, 52, 10,  0, 24, 43, 58,  1, 59, 57,  1, 49, 47, 50, 50,  1,\n",
            "        46, 47, 51,  6,  1, 39, 52, 42,  1, 61, 43,  5, 50, 50,  1, 46, 39, 60,\n",
            "        43,  1, 41, 53, 56, 52,  1, 39, 58,  1, 53, 59, 56,  1, 53, 61, 52,  1,\n",
            "        54, 56, 47, 41, 43,  8,  0, 21, 57,  5, 58,  1, 39,  1, 60, 43, 56, 42,\n",
            "        47, 41, 58, 12,  0,  0, 13, 50, 50, 10,  0, 26, 53,  1, 51, 53, 56, 43,\n",
            "         1, 58, 39, 50, 49, 47, 52, 45,  1, 53, 52,  5, 58, 11,  1, 50, 43, 58,\n",
            "         1, 47, 58,  1, 40, 43,  1, 42, 53, 52, 43, 10,  1, 39, 61, 39, 63,  6,\n",
            "         1, 39, 61, 39, 63,  2,  0,  0, 31, 43, 41, 53, 52, 42,  1, 15, 47, 58,\n",
            "        47, 64, 43, 52, 10,  0, 27, 52, 43,  1, 61, 53, 56, 42,  6,  1, 45, 53,\n",
            "        53, 42,  1, 41, 47, 58, 47, 64, 43, 52, 57,  8,  0,  0, 18, 47, 56, 57,\n",
            "        58,  1, 15, 47, 58, 47, 64, 43, 52, 10,  0, 35, 43,  1, 39, 56, 43,  1,\n",
            "        39, 41, 41, 53, 59, 52, 58, 43, 42,  1, 54, 53, 53, 56,  1, 41, 47, 58,\n",
            "        47, 64, 43, 52, 57,  6,  1, 58, 46, 43,  1, 54, 39, 58, 56, 47, 41, 47,\n",
            "        39, 52, 57,  1, 45, 53, 53, 42,  8,  0, 35, 46, 39, 58,  1, 39, 59, 58,\n",
            "        46, 53, 56, 47, 58, 63,  1, 57, 59, 56, 44, 43, 47, 58, 57,  1, 53, 52,\n",
            "         1, 61, 53, 59, 50, 42,  1, 56, 43, 50, 47, 43, 60, 43,  1, 59, 57, 10,\n",
            "         1, 47, 44,  1, 58, 46, 43, 63,  0, 61, 53, 59, 50, 42,  1, 63, 47, 43,\n",
            "        50, 42,  1, 59, 57,  1, 40, 59, 58,  1, 58, 46, 43,  1, 57, 59, 54, 43,\n",
            "        56, 44, 50, 59, 47, 58, 63,  6,  1, 61, 46, 47, 50, 43,  1, 47, 58,  1,\n",
            "        61, 43, 56, 43,  0, 61, 46, 53, 50, 43, 57, 53, 51, 43,  6,  1, 61, 43,\n",
            "         1, 51, 47, 45, 46, 58,  1, 45, 59, 43, 57, 57,  1, 58, 46, 43, 63,  1,\n",
            "        56, 43, 50, 47, 43, 60, 43, 42,  1, 59, 57,  1, 46, 59, 51, 39, 52, 43,\n",
            "        50, 63, 11,  0, 40, 59, 58,  1, 58, 46, 43, 63,  1, 58, 46, 47, 52, 49,\n",
            "         1, 61, 43,  1, 39, 56, 43,  1, 58, 53, 53,  1, 42, 43, 39, 56, 10,  1,\n",
            "        58, 46, 43,  1, 50, 43, 39, 52, 52, 43, 57, 57,  1, 58, 46, 39, 58,  0,\n",
            "        39, 44, 44, 50, 47, 41, 58, 57,  1, 59, 57,  6,  1, 58, 46, 43,  1, 53,\n",
            "        40, 48, 43, 41, 58,  1, 53, 44,  1, 53, 59, 56,  1, 51, 47, 57, 43, 56,\n",
            "        63,  6,  1, 47, 57,  1, 39, 57,  1, 39, 52,  0, 47, 52, 60, 43, 52, 58,\n",
            "        53, 56, 63,  1, 58, 53,  1, 54, 39, 56, 58, 47, 41, 59, 50, 39, 56, 47,\n",
            "        57, 43,  1, 58, 46, 43, 47, 56,  1, 39, 40, 59, 52, 42, 39, 52, 41, 43,\n",
            "        11,  1, 53, 59, 56,  0, 57, 59, 44, 44, 43, 56, 39, 52, 41, 43,  1, 47,\n",
            "        57,  1, 39,  1, 45, 39, 47, 52,  1, 58, 53,  1, 58, 46, 43, 51,  1, 24,\n",
            "        43, 58,  1, 59, 57,  1, 56, 43, 60, 43, 52, 45, 43,  1, 58, 46, 47, 57,\n",
            "         1, 61, 47, 58, 46,  0, 53, 59, 56,  1, 54, 47, 49, 43, 57,  6,  1, 43,\n",
            "        56, 43,  1, 61, 43,  1, 40, 43, 41, 53, 51, 43,  1, 56, 39, 49, 43, 57,\n",
            "        10,  1, 44, 53, 56,  1, 58, 46, 43,  1, 45, 53, 42, 57,  1, 49, 52, 53,\n",
            "        61,  1, 21,  0, 57, 54, 43, 39, 49,  1, 58, 46, 47, 57,  1, 47, 52,  1,\n",
            "        46, 59, 52, 45, 43, 56,  1, 44, 53, 56,  1, 40, 56, 43, 39, 42,  6,  1,\n",
            "        52, 53, 58,  1, 47, 52,  1, 58, 46, 47, 56, 57, 58,  1, 44, 53, 56,  1,\n",
            "        56, 43, 60, 43, 52, 45, 43,  8,  0,  0])\n"
          ]
        }
      ],
      "source": [
        "# let's now encode the entire text dataset and store it into a torch.Tensor\n",
        "import torch # we use PyTorch: https://pytorch.org\n",
        "data = torch.tensor(encode(text), dtype=torch.long)\n",
        "print(data.shape, data.dtype)\n",
        "print(data[:1000]) # the 1000 characters we looked at earier will to the GPT look like this"
      ]
    },
    {
      "cell_type": "code",
      "execution_count": 10,
      "metadata": {
        "id": "f_WIXqxz0lU5"
      },
      "outputs": [],
      "source": [
        "# Let's now split up the data into train and validation sets\n",
        "n = int(0.9*len(data)) # first 90% will be train, rest val\n",
        "train_data = data[:n]\n",
        "val_data = data[n:]"
      ]
    },
    {
      "cell_type": "code",
      "execution_count": 11,
      "metadata": {
        "colab": {
          "base_uri": "https://localhost:8080/"
        },
        "id": "TD5Bj8Y6IAD4",
        "outputId": "06b734f7-cf94-491e-f2f3-97df0e8c1f26"
      },
      "outputs": [
        {
          "output_type": "execute_result",
          "data": {
            "text/plain": [
              "tensor([18, 47, 56, 57, 58,  1, 15, 47, 58])"
            ]
          },
          "metadata": {},
          "execution_count": 11
        }
      ],
      "source": [
        "block_size = 8\n",
        "train_data[:block_size+1]"
      ]
    },
    {
      "cell_type": "code",
      "execution_count": 12,
      "metadata": {
        "colab": {
          "base_uri": "https://localhost:8080/"
        },
        "id": "9HXDe8vGJCEn",
        "outputId": "367cc9b9-7811-40ff-d2eb-1fe3e4e594e6"
      },
      "outputs": [
        {
          "output_type": "stream",
          "name": "stdout",
          "text": [
            "when input is tensor([18]) the target: 47\n",
            "when input is tensor([18, 47]) the target: 56\n",
            "when input is tensor([18, 47, 56]) the target: 57\n",
            "when input is tensor([18, 47, 56, 57]) the target: 58\n",
            "when input is tensor([18, 47, 56, 57, 58]) the target: 1\n",
            "when input is tensor([18, 47, 56, 57, 58,  1]) the target: 15\n",
            "when input is tensor([18, 47, 56, 57, 58,  1, 15]) the target: 47\n",
            "when input is tensor([18, 47, 56, 57, 58,  1, 15, 47]) the target: 58\n"
          ]
        }
      ],
      "source": [
        "x = train_data[:block_size]\n",
        "y = train_data[1:block_size+1]\n",
        "for t in range(block_size):\n",
        "    context = x[:t+1]\n",
        "    target = y[t]\n",
        "    print(f\"when input is {context} the target: {target}\")"
      ]
    },
    {
      "cell_type": "code",
      "execution_count": 13,
      "metadata": {
        "colab": {
          "base_uri": "https://localhost:8080/"
        },
        "id": "Q3k1Czf7LuA9",
        "outputId": "016e5929-f15f-4bad-c22f-eaec322915e9"
      },
      "outputs": [
        {
          "output_type": "stream",
          "name": "stdout",
          "text": [
            "inputs:\n",
            "torch.Size([4, 8])\n",
            "tensor([[24, 43, 58,  5, 57,  1, 46, 43],\n",
            "        [44, 53, 56,  1, 58, 46, 39, 58],\n",
            "        [52, 58,  1, 58, 46, 39, 58,  1],\n",
            "        [25, 17, 27, 10,  0, 21,  1, 54]])\n",
            "targets:\n",
            "torch.Size([4, 8])\n",
            "tensor([[43, 58,  5, 57,  1, 46, 43, 39],\n",
            "        [53, 56,  1, 58, 46, 39, 58,  1],\n",
            "        [58,  1, 58, 46, 39, 58,  1, 46],\n",
            "        [17, 27, 10,  0, 21,  1, 54, 39]])\n"
          ]
        }
      ],
      "source": [
        "torch.manual_seed(1337)\n",
        "batch_size = 4 # how many independent sequences will we process in parallel?\n",
        "block_size = 8 # what is the maximum context length for predictions?\n",
        "\n",
        "def get_batch(split, device=\"cpu\"):\n",
        "    # generate a small batch of data of inputs x and targets y\n",
        "    data = train_data if split == 'train' else val_data\n",
        "    ix = torch.randint(len(data) - block_size, (batch_size,))\n",
        "    x = torch.stack([data[i:i+block_size] for i in ix])\n",
        "    y = torch.stack([data[i+1:i+block_size+1] for i in ix])\n",
        "    return x.to(device), y.to(device)\n",
        "\n",
        "xb, yb = get_batch('train')\n",
        "print('inputs:')\n",
        "print(xb.shape)\n",
        "print(xb)\n",
        "print('targets:')\n",
        "print(yb.shape)\n",
        "print(yb)"
      ]
    },
    {
      "cell_type": "markdown",
      "metadata": {
        "id": "_6NRUtyXVdI1"
      },
      "source": [
        "# 3. Basic Bigram Model"
      ]
    },
    {
      "cell_type": "code",
      "execution_count": 14,
      "metadata": {
        "colab": {
          "base_uri": "https://localhost:8080/"
        },
        "id": "nql_1ER53oCf",
        "outputId": "5c75d96d-bdb0-49ca-ffa3-8d748136b122"
      },
      "outputs": [
        {
          "output_type": "stream",
          "name": "stdout",
          "text": [
            "torch.Size([32, 65])\n",
            "tensor(4.8786, grad_fn=<NllLossBackward0>)\n",
            "\n",
            "Sr?qP-QWktXoL&jLDJgOLVz'RIoDqHdhsV&vLLxatjscMpwLERSPyao.qfzs$Ys$zF-w,;eEkzxjgCKFChs!iWW.ObzDnxA Ms$3\n"
          ]
        }
      ],
      "source": [
        "import torch\n",
        "import torch.nn as nn\n",
        "from torch.nn import functional as F\n",
        "torch.manual_seed(1337)\n",
        "\n",
        "class BigramLanguageModel(nn.Module):\n",
        "\n",
        "    def __init__(self, vocab_size):\n",
        "        super().__init__()\n",
        "        # each token directly reads off the logits for the next token from a lookup table\n",
        "        self.token_embedding_table = nn.Embedding(vocab_size, vocab_size)\n",
        "\n",
        "    def forward(self, idx, targets=None):\n",
        "\n",
        "        # idx and targets are both (B,T) tensor of integers\n",
        "        logits = self.token_embedding_table(idx) # (B,T,C)\n",
        "\n",
        "        if targets is None:\n",
        "            loss = None\n",
        "        else:\n",
        "            B, T, C = logits.shape\n",
        "            logits = logits.view(B*T, C)\n",
        "            targets = targets.view(B*T)\n",
        "            loss = F.cross_entropy(logits, targets)\n",
        "\n",
        "        return logits, loss\n",
        "\n",
        "    def generate(self, idx, max_new_tokens):\n",
        "        # idx is (B, T) array of indices in the current context\n",
        "        for _ in range(max_new_tokens):\n",
        "            # get the predictions\n",
        "            logits, loss = self(idx)\n",
        "            # focus only on the last time step\n",
        "            logits = logits[:, -1, :] # becomes (B, C)\n",
        "            # apply softmax to get probabilities\n",
        "            probs = F.softmax(logits, dim=-1) # (B, C)\n",
        "            # sample from the distribution\n",
        "            idx_next = torch.multinomial(probs, num_samples=1) # (B, 1)\n",
        "            # append sampled index to the running sequence\n",
        "            idx = torch.cat((idx, idx_next), dim=1) # (B, T+1)\n",
        "        return idx\n",
        "\n",
        "m = BigramLanguageModel(vocab_size)\n",
        "logits, loss = m(xb, yb)\n",
        "print(logits.shape)\n",
        "print(loss)\n",
        "\n",
        "print(decode(m.generate(idx = torch.zeros((1, 1), dtype=torch.long), max_new_tokens=100)[0].tolist()))\n"
      ]
    },
    {
      "cell_type": "code",
      "execution_count": 15,
      "metadata": {
        "id": "eTyJ8qAaDdiF"
      },
      "outputs": [],
      "source": [
        "# create a PyTorch optimizer\n",
        "optimizer = torch.optim.AdamW(m.parameters(), lr=1e-3)"
      ]
    },
    {
      "cell_type": "code",
      "execution_count": 16,
      "metadata": {
        "colab": {
          "base_uri": "https://localhost:8080/"
        },
        "id": "Hs4kI8YdEkQj",
        "outputId": "00344414-1457-473e-c544-371a80acba7c"
      },
      "outputs": [
        {
          "output_type": "stream",
          "name": "stdout",
          "text": [
            "0 4.704006195068359\n",
            "1000 3.7031264305114746\n",
            "2000 3.137178659439087\n",
            "3000 2.776794672012329\n",
            "4000 2.5844571590423584\n",
            "5000 2.5105183124542236\n",
            "6000 2.531585931777954\n",
            "7000 2.504757881164551\n",
            "8000 2.4696712493896484\n",
            "9000 2.4838879108428955\n",
            "10000 2.4183998107910156\n",
            "11000 2.529956817626953\n",
            "12000 2.379727363586426\n",
            "13000 2.4651365280151367\n",
            "14000 2.3533310890197754\n",
            "15000 2.4624435901641846\n",
            "16000 2.4509522914886475\n",
            "17000 2.325801372528076\n",
            "18000 2.4357123374938965\n",
            "19000 2.493601083755493\n",
            "2.4832067489624023\n"
          ]
        }
      ],
      "source": [
        "batch_size = 32\n",
        "for steps in range(20000): # increase number of steps for good results...\n",
        "\n",
        "    # sample a batch of data\n",
        "    xb, yb = get_batch('train')\n",
        "\n",
        "    # evaluate the loss\n",
        "    logits, loss = m(xb, yb)\n",
        "    optimizer.zero_grad(set_to_none=True)\n",
        "    loss.backward()\n",
        "    optimizer.step()\n",
        "    if steps%1000==0: print(steps, loss.item())\n",
        "\n",
        "print(loss.item())\n"
      ]
    },
    {
      "cell_type": "code",
      "execution_count": 17,
      "metadata": {
        "colab": {
          "base_uri": "https://localhost:8080/"
        },
        "id": "EcVIDWAZEtjN",
        "outputId": "08a2e7b7-9844-403a-ada0-d8c6a9242454"
      },
      "outputs": [
        {
          "output_type": "stream",
          "name": "stdout",
          "text": [
            "\n",
            "\n",
            "\n",
            "\n",
            "QUCatheesicis bas, angomitouze chifomerawhe ty ag\n",
            "\n",
            "Doone thesellande west, me fffol, whandiffe IAfithods misue, knild he I:\n",
            "Whe! toudirer' My ayosbly louroura s m', uthos s reveprthoukerdi't avorure fotemowe.\n",
            "Whamo es t, tstt g t RTRushy,\n",
            "WAsbr spr my ou pl y,\n",
            "Witoft at o s me,\n",
            "Whabr'the Cicuomants awonte qungur thme wrar d parsupl by:\n",
            "'sul ve ave,\n",
            "Kconit ped bim; fam elathelch easutlll teye A d che'd, met its\n",
            "\n",
            "IVo wnkn cave!\n",
            "I thengr ts, IO t\n",
            "Hoyoolove\n",
            "ONCENo breppo onder t this r is.\n",
            "I cken\n"
          ]
        }
      ],
      "source": [
        "print(decode(m.generate(idx = torch.zeros((1, 1), dtype=torch.long), max_new_tokens=500)[0].tolist()))"
      ]
    },
    {
      "cell_type": "markdown",
      "metadata": {
        "id": "3YgluxhTWc7C"
      },
      "source": [
        "# 4. Decoder based Transformer Model"
      ]
    },
    {
      "cell_type": "markdown",
      "metadata": {
        "id": "PXnTKKhgWv0-"
      },
      "source": [
        "## Self-Attention"
      ]
    },
    {
      "cell_type": "code",
      "execution_count": 18,
      "metadata": {
        "colab": {
          "base_uri": "https://localhost:8080/"
        },
        "id": "GOa4bY7cj16U",
        "outputId": "c4802591-4247-46b7-d37e-e8c65558eb00"
      },
      "outputs": [
        {
          "output_type": "stream",
          "name": "stdout",
          "text": [
            "torch.Size([4, 8, 8])\n",
            "tensor([[-1.4140, -1.4541,  1.2883, -0.8343, -0.7507,  0.2150,  0.2863,  1.2984],\n",
            "        [-0.8598, -1.0200,  2.2931, -0.0266, -0.3606, -0.2385,  0.6361,  0.4431],\n",
            "        [ 0.4401,  0.0087,  0.7046,  0.4918,  1.1250, -0.2419, -0.9671, -0.1771],\n",
            "        [ 1.1277,  1.2113,  0.0667, -2.2026, -0.2301,  0.1449,  0.6227,  0.2465],\n",
            "        [ 1.3303,  0.4084,  0.2546, -1.4567, -0.0959,  0.8121, -0.5556,  0.1851],\n",
            "        [-2.9640, -1.2445, -0.3679,  1.2755, -0.2505,  0.9012, -0.6636,  0.2606],\n",
            "        [-1.1415,  0.4146, -1.0367,  1.2819, -0.1212,  1.3331, -1.0537, -0.7873],\n",
            "        [-1.1877, -1.2639,  0.5272,  0.5571, -0.7398,  0.0139, -0.9727,  1.1099]])\n"
          ]
        }
      ],
      "source": [
        "B, T, head_size = 4, 8, 20  # batch, time, head_size\n",
        "k = torch.randn(B, T, head_size)\n",
        "q = torch.randn(B, T, head_size)\n",
        "v = torch.randn(B, T, head_size)\n",
        "\n",
        "# Attention calculation\n",
        "attention = torch.einsum('b t h, b s h-> b t s', q, k) * head_size ** -0.5\n",
        "\n",
        "print(attention.shape)\n",
        "print(attention[0])"
      ]
    },
    {
      "cell_type": "code",
      "execution_count": 19,
      "metadata": {
        "colab": {
          "base_uri": "https://localhost:8080/"
        },
        "id": "NkyFGyuRbvcW",
        "outputId": "2d8aaeee-3323-424a-8813-8f9148dc7660"
      },
      "outputs": [
        {
          "output_type": "execute_result",
          "data": {
            "text/plain": [
              "tensor(1.0022)"
            ]
          },
          "metadata": {},
          "execution_count": 19
        }
      ],
      "source": [
        "k.var()"
      ]
    },
    {
      "cell_type": "code",
      "execution_count": 20,
      "metadata": {
        "colab": {
          "base_uri": "https://localhost:8080/"
        },
        "id": "h2dASCuMbvcW",
        "outputId": "78698ac5-cb48-4acf-9978-d80c6ed4506a"
      },
      "outputs": [
        {
          "output_type": "execute_result",
          "data": {
            "text/plain": [
              "tensor(1.1228)"
            ]
          },
          "metadata": {},
          "execution_count": 20
        }
      ],
      "source": [
        "q.var()"
      ]
    },
    {
      "cell_type": "code",
      "execution_count": 21,
      "metadata": {
        "colab": {
          "base_uri": "https://localhost:8080/"
        },
        "id": "lbnLeWfYbvcX",
        "outputId": "d6f7fdec-cfcb-4678-cf1f-d66cb1eedc85"
      },
      "outputs": [
        {
          "output_type": "execute_result",
          "data": {
            "text/plain": [
              "tensor(1.2978)"
            ]
          },
          "metadata": {},
          "execution_count": 21
        }
      ],
      "source": [
        "attention.var()"
      ]
    },
    {
      "cell_type": "code",
      "execution_count": 22,
      "metadata": {
        "colab": {
          "base_uri": "https://localhost:8080/"
        },
        "id": "s1GMe0KmbvcX",
        "outputId": "3818a828-8719-4e74-d412-d9b544438526"
      },
      "outputs": [
        {
          "output_type": "execute_result",
          "data": {
            "text/plain": [
              "tensor([0.1925, 0.1426, 0.2351, 0.1426, 0.2872])"
            ]
          },
          "metadata": {},
          "execution_count": 22
        }
      ],
      "source": [
        "torch.softmax(torch.tensor([0.1, -0.2, 0.3, -0.2, 0.5]), dim=-1)"
      ]
    },
    {
      "cell_type": "code",
      "execution_count": 23,
      "metadata": {
        "colab": {
          "base_uri": "https://localhost:8080/"
        },
        "id": "a9o_fYg_bvcY",
        "outputId": "dd1c626d-7903-4e46-d3f4-c3aaf737173d"
      },
      "outputs": [
        {
          "output_type": "execute_result",
          "data": {
            "text/plain": [
              "tensor([0.0326, 0.0030, 0.1615, 0.0030, 0.8000])"
            ]
          },
          "metadata": {},
          "execution_count": 23
        }
      ],
      "source": [
        "torch.softmax(torch.tensor([0.1, -0.2, 0.3, -0.2, 0.5])*8, dim=-1) # gets too peaky, converges to one-hot"
      ]
    },
    {
      "cell_type": "code",
      "execution_count": 24,
      "metadata": {
        "colab": {
          "base_uri": "https://localhost:8080/"
        },
        "id": "lj9YQO_bkQ70",
        "outputId": "07c73e5f-b62b-42b4-b6d7-6721378237a9"
      },
      "outputs": [
        {
          "output_type": "execute_result",
          "data": {
            "text/plain": [
              "(torch.Size([4, 8, 20]),\n",
              " tensor([[ 1.3185,  0.2416, -2.1490,  1.5089,  1.3606,  1.6404, -3.7433,  0.7983,\n",
              "           3.2315,  1.1444,  1.9813,  2.9230,  0.2450, -1.5903,  1.2641,  0.9344,\n",
              "           1.3850,  1.1515, -4.9946, -4.6597],\n",
              "         [ 3.7353,  4.3092, -2.1823,  5.1039,  0.2383,  4.5018, -2.6678,  0.1401,\n",
              "           2.6685,  0.1990, -1.3295,  2.2029,  0.6242, -1.4831, -0.2833, -1.2358,\n",
              "           4.2056,  1.4439, -1.6959, -4.7094],\n",
              "         [ 5.0230,  1.6963, -3.0545, -1.0792, -3.2957, -2.3639,  0.8241, -0.7501,\n",
              "          -2.2606, -0.2115, -4.5275, -0.0738, -2.8369,  1.8390, -1.6529, -3.2078,\n",
              "           0.1043, -0.4969,  0.8913, -1.1536],\n",
              "         [-4.0455,  1.5426,  1.8352, -0.4279,  5.5237, -0.2386,  2.5327,  0.2951,\n",
              "          -2.5087, -5.2358,  0.9561,  2.0047,  1.0873, -5.0192, -1.3411,  2.0614,\n",
              "           2.3928,  4.1955,  0.8336,  1.7550],\n",
              "         [ 1.0922,  0.1419, -1.8042, -2.8209,  1.3728, -2.7551,  3.1434, -0.5888,\n",
              "          -5.8389, -2.3750, -0.0225,  3.3857, -2.7820, -1.9067, -1.8443,  1.0546,\n",
              "           0.4596,  3.1248,  0.3113,  1.9103],\n",
              "         [-2.3199, -4.6585, -0.2980, -1.2351, -3.2679,  0.4415, -6.3302,  1.9391,\n",
              "           4.2933,  3.7635,  2.3951,  2.3134, -1.2623,  4.1552,  3.9699, -2.0595,\n",
              "          -3.9443, -3.4569, -6.2263, -3.8780],\n",
              "         [-3.3701, -3.8849,  1.2413, -3.3447, -3.0174, -1.3407, -1.9603,  0.6277,\n",
              "          -1.3560,  1.2637,  1.2437,  3.1658, -2.4273,  4.1259,  2.0845, -1.8297,\n",
              "          -3.8018, -2.3985, -2.1068,  1.6142],\n",
              "         [ 4.2036, -1.1372, -3.0609, -2.4699, -2.3121, -2.5150, -3.9842, -0.8316,\n",
              "           2.4097,  4.3719,  0.6141,  2.2406, -0.6546,  2.0893,  1.3639,  1.0044,\n",
              "          -0.6200, -1.7766, -4.4635, -2.3522]]))"
            ]
          },
          "metadata": {},
          "execution_count": 24
        }
      ],
      "source": [
        "out = torch.einsum(\"b t s, b s h -> b t h\", attention, v)\n",
        "out.shape, out[0]"
      ]
    },
    {
      "cell_type": "markdown",
      "metadata": {
        "id": "1IRmmJcMcH7t"
      },
      "source": [
        "Notes:\n",
        "\n",
        "* Attention is a communication mechanism. Can be seen as nodes in a directed\n",
        "graph looking at each other and aggregating information with a weighted sum from all nodes that point to them, with data-dependent weights.\n",
        "* There is no notion of space. Attention simply acts over a set of vectors. This is why we need to positionally encode tokens.\n",
        "* Each example across batch dimension is of course processed completely independently and never \"talk\" to each other\n",
        "* \"Scaled\" attention additional divides wei by 1/sqrt(head_size). This makes it so when input Q,K are unit variance, wei will be unit variance too and Softmax will stay diffuse and not saturate too much."
      ]
    },
    {
      "cell_type": "code",
      "execution_count": 24,
      "metadata": {
        "id": "pQ7_dPINcGla"
      },
      "outputs": [],
      "source": []
    },
    {
      "cell_type": "markdown",
      "metadata": {
        "id": "XinV8nmAnmKN"
      },
      "source": [
        "## Casual-attention"
      ]
    },
    {
      "cell_type": "code",
      "execution_count": 25,
      "metadata": {
        "colab": {
          "base_uri": "https://localhost:8080/"
        },
        "id": "tukiH-NbRBhA",
        "outputId": "616165f8-b98f-45cc-b32a-c3c1d69718f0"
      },
      "outputs": [
        {
          "output_type": "stream",
          "name": "stdout",
          "text": [
            "a=\n",
            "tensor([[1.0000, 0.0000, 0.0000],\n",
            "        [0.5000, 0.5000, 0.0000],\n",
            "        [0.3333, 0.3333, 0.3333]])\n",
            "--\n",
            "b=\n",
            "tensor([[2., 7.],\n",
            "        [6., 4.],\n",
            "        [6., 5.]])\n",
            "--\n",
            "c=\n",
            "tensor([[2.0000, 7.0000],\n",
            "        [4.0000, 5.5000],\n",
            "        [4.6667, 5.3333]])\n"
          ]
        }
      ],
      "source": [
        "# toy example illustrating how matrix multiplication can be used for a \"weighted aggregation\"\n",
        "torch.manual_seed(42)\n",
        "a = torch.tril(torch.ones(3, 3))\n",
        "a = a / torch.sum(a, 1, keepdim=True)\n",
        "b = torch.randint(0,10,(3,2)).float()\n",
        "c = a @ b\n",
        "print('a=')\n",
        "print(a)\n",
        "print('--')\n",
        "print('b=')\n",
        "print(b)\n",
        "print('--')\n",
        "print('c=')\n",
        "print(c)"
      ]
    },
    {
      "cell_type": "code",
      "execution_count": 26,
      "metadata": {
        "colab": {
          "base_uri": "https://localhost:8080/"
        },
        "id": "Hs_E24uRE8kr",
        "outputId": "dc7b082a-053c-485d-8cf3-eb946cf736e3"
      },
      "outputs": [
        {
          "output_type": "execute_result",
          "data": {
            "text/plain": [
              "torch.Size([4, 8, 2])"
            ]
          },
          "metadata": {},
          "execution_count": 26
        }
      ],
      "source": [
        "# consider the following toy example:\n",
        "B,T,C = 4,8,2 # batch, time, channels\n",
        "x = torch.randn(B,T,C)\n",
        "x.shape"
      ]
    },
    {
      "cell_type": "code",
      "execution_count": 27,
      "metadata": {
        "colab": {
          "base_uri": "https://localhost:8080/"
        },
        "id": "yhdOAd6-wXkZ",
        "outputId": "4ddce6a8-b448-4ddc-f166-d6f66e39c12c"
      },
      "outputs": [
        {
          "output_type": "execute_result",
          "data": {
            "text/plain": [
              "(tensor([[1.0000, 0.0000, 0.0000, 0.0000, 0.0000, 0.0000, 0.0000, 0.0000],\n",
              "         [0.5000, 0.5000, 0.0000, 0.0000, 0.0000, 0.0000, 0.0000, 0.0000],\n",
              "         [0.3333, 0.3333, 0.3333, 0.0000, 0.0000, 0.0000, 0.0000, 0.0000],\n",
              "         [0.2500, 0.2500, 0.2500, 0.2500, 0.0000, 0.0000, 0.0000, 0.0000],\n",
              "         [0.2000, 0.2000, 0.2000, 0.2000, 0.2000, 0.0000, 0.0000, 0.0000],\n",
              "         [0.1667, 0.1667, 0.1667, 0.1667, 0.1667, 0.1667, 0.0000, 0.0000],\n",
              "         [0.1429, 0.1429, 0.1429, 0.1429, 0.1429, 0.1429, 0.1429, 0.0000],\n",
              "         [0.1250, 0.1250, 0.1250, 0.1250, 0.1250, 0.1250, 0.1250, 0.1250]]),\n",
              " torch.Size([4, 8, 2]))"
            ]
          },
          "metadata": {},
          "execution_count": 27
        }
      ],
      "source": [
        "# version 1: using matrix multiply for a weighted aggregation\n",
        "wei = torch.tril(torch.ones(T, T))\n",
        "wei = wei / wei.sum(1, keepdim=True)\n",
        "xbow = torch.einsum(\"t s, b s c -> b t c\", wei, x) # (B, T, T) @ (B, T, C) ----> (B, T, C)\n",
        "wei, xbow.shape"
      ]
    },
    {
      "cell_type": "code",
      "execution_count": 28,
      "metadata": {
        "colab": {
          "base_uri": "https://localhost:8080/"
        },
        "id": "wOURrfG-ysoL",
        "outputId": "b75f4772-8d2a-4260-d777-2ba4240a76e9"
      },
      "outputs": [
        {
          "output_type": "execute_result",
          "data": {
            "text/plain": [
              "(True,\n",
              " tensor([[1.0000, 0.0000, 0.0000, 0.0000, 0.0000, 0.0000, 0.0000, 0.0000],\n",
              "         [0.5000, 0.5000, 0.0000, 0.0000, 0.0000, 0.0000, 0.0000, 0.0000],\n",
              "         [0.3333, 0.3333, 0.3333, 0.0000, 0.0000, 0.0000, 0.0000, 0.0000],\n",
              "         [0.2500, 0.2500, 0.2500, 0.2500, 0.0000, 0.0000, 0.0000, 0.0000],\n",
              "         [0.2000, 0.2000, 0.2000, 0.2000, 0.2000, 0.0000, 0.0000, 0.0000],\n",
              "         [0.1667, 0.1667, 0.1667, 0.1667, 0.1667, 0.1667, 0.0000, 0.0000],\n",
              "         [0.1429, 0.1429, 0.1429, 0.1429, 0.1429, 0.1429, 0.1429, 0.0000],\n",
              "         [0.1250, 0.1250, 0.1250, 0.1250, 0.1250, 0.1250, 0.1250, 0.1250]]))"
            ]
          },
          "metadata": {},
          "execution_count": 28
        }
      ],
      "source": [
        "# version 2: use Softmax\n",
        "tril = torch.tril(torch.ones(T, T))\n",
        "wei = torch.zeros((T,T))\n",
        "wei = wei.masked_fill(tril == 0, float('-inf'))\n",
        "wei = F.softmax(wei, dim=-1)\n",
        "xbow2 = torch.einsum(\"t s, b s c -> b t c\", wei, x)\n",
        "torch.allclose(xbow, xbow2), wei"
      ]
    },
    {
      "cell_type": "code",
      "execution_count": 29,
      "metadata": {
        "id": "EDarxEWIRMKq",
        "colab": {
          "base_uri": "https://localhost:8080/"
        },
        "outputId": "f6821eb3-99d0-487d-93c3-439cdafc0c94"
      },
      "outputs": [
        {
          "output_type": "execute_result",
          "data": {
            "text/plain": [
              "torch.Size([4, 8, 16])"
            ]
          },
          "metadata": {},
          "execution_count": 29
        }
      ],
      "source": [
        "# version 3: self-attention!\n",
        "torch.manual_seed(1337)\n",
        "B,T,C = 4,8,32 # batch, time, channels\n",
        "x = torch.randn(B,T,C)\n",
        "\n",
        "# let's see a single Head perform self-attention\n",
        "head_size = 16\n",
        "key = nn.Linear(C, head_size, bias=False)\n",
        "query = nn.Linear(C, head_size, bias=False)\n",
        "value = nn.Linear(C, head_size, bias=False)\n",
        "k = key(x)   # (B, T, 16)\n",
        "q = query(x) # (B, T, 16)\n",
        "wei =  torch.einsum('B T H, B S H-> B T S', q, k) * head_size ** -0.5 # S=T\n",
        "\n",
        "tril = torch.tril(torch.ones(T, T))\n",
        "#wei = torch.zeros((T,T))\n",
        "wei = wei.masked_fill(tril == 0, float('-inf'))\n",
        "wei = F.softmax(wei, dim=-1)\n",
        "\n",
        "v = value(x)\n",
        "out = torch.einsum(\"B T S, B S H-> B T H\", wei, v)\n",
        "\n",
        "out.shape"
      ]
    },
    {
      "cell_type": "code",
      "execution_count": 30,
      "metadata": {
        "colab": {
          "base_uri": "https://localhost:8080/"
        },
        "id": "vT1hdtzXCjgL",
        "outputId": "5a7c4be2-8d52-40e5-d4e1-97d9966f49bf"
      },
      "outputs": [
        {
          "output_type": "execute_result",
          "data": {
            "text/plain": [
              "tensor([[1.0000, 0.0000, 0.0000, 0.0000, 0.0000, 0.0000, 0.0000, 0.0000],\n",
              "        [0.3966, 0.6034, 0.0000, 0.0000, 0.0000, 0.0000, 0.0000, 0.0000],\n",
              "        [0.3069, 0.2892, 0.4039, 0.0000, 0.0000, 0.0000, 0.0000, 0.0000],\n",
              "        [0.3233, 0.2175, 0.2443, 0.2149, 0.0000, 0.0000, 0.0000, 0.0000],\n",
              "        [0.1479, 0.2034, 0.1663, 0.1455, 0.3369, 0.0000, 0.0000, 0.0000],\n",
              "        [0.1259, 0.2490, 0.1324, 0.1062, 0.3141, 0.0724, 0.0000, 0.0000],\n",
              "        [0.1598, 0.1990, 0.1140, 0.1125, 0.1418, 0.1669, 0.1061, 0.0000],\n",
              "        [0.0845, 0.1197, 0.1078, 0.1537, 0.1086, 0.1146, 0.1558, 0.1553]],\n",
              "       grad_fn=<SelectBackward0>)"
            ]
          },
          "metadata": {},
          "execution_count": 30
        }
      ],
      "source": [
        "wei[0]"
      ]
    },
    {
      "cell_type": "markdown",
      "metadata": {
        "id": "M5CvobiQ0pLr"
      },
      "source": [
        "Notes:\n",
        "- Attention is a **communication mechanism**. Can be seen as nodes in a directed graph looking at each other and aggregating information with a weighted sum from all nodes that point to them, with data-dependent weights.\n",
        "- There is no notion of space. Attention simply acts over a set of vectors. This is why we need to positionally encode tokens.\n",
        "- Each example across batch dimension is of course processed completely independently and never \"talk\" to each other\n",
        "- In an \"encoder\" attention block just delete the single line that does masking with `tril`, allowing all tokens to communicate. This block here is called a \"decoder\" attention block because it has triangular masking, and is usually used in autoregressive settings, like language modeling.\n",
        "- \"self-attention\" just means that the keys and values are produced from the same source as queries. In \"cross-attention\", the queries still get produced from x, but the keys and values come from some other, external source (e.g. an encoder module)\n",
        "- \"Scaled\" attention additional divides `wei` by 1/sqrt(head_size). This makes it so when input Q,K are unit variance, wei will be unit variance too and Softmax will stay diffuse and not saturate too much. Illustration below"
      ]
    },
    {
      "cell_type": "code",
      "execution_count": 31,
      "metadata": {
        "colab": {
          "base_uri": "https://localhost:8080/"
        },
        "id": "2Num7sX9CKOH",
        "outputId": "6fd9e577-da7c-4540-cc7d-4154f767f712"
      },
      "outputs": [
        {
          "output_type": "execute_result",
          "data": {
            "text/plain": [
              "torch.Size([32, 100])"
            ]
          },
          "metadata": {},
          "execution_count": 31
        }
      ],
      "source": [
        "class LayerNorm1d: # (used to be BatchNorm1d)\n",
        "\n",
        "  def __init__(self, dim, eps=1e-5, momentum=0.1):\n",
        "    self.eps = eps\n",
        "    self.gamma = torch.ones(dim)\n",
        "    self.beta = torch.zeros(dim)\n",
        "\n",
        "  def __call__(self, x):\n",
        "    # calculate the forward pass\n",
        "    xmean = x.mean(1, keepdim=True) # batch mean\n",
        "    xvar = x.var(1, keepdim=True) # batch variance\n",
        "    xhat = (x - xmean) / torch.sqrt(xvar + self.eps) # normalize to unit variance\n",
        "    self.out = self.gamma * xhat + self.beta\n",
        "    return self.out\n",
        "\n",
        "  def parameters(self):\n",
        "    return [self.gamma, self.beta]\n",
        "\n",
        "torch.manual_seed(1337)\n",
        "module = LayerNorm1d(100)\n",
        "x = torch.randn(32, 100) # batch size 32 of 100-dimensional vectors\n",
        "x = module(x)\n",
        "x.shape"
      ]
    },
    {
      "cell_type": "code",
      "execution_count": 32,
      "metadata": {
        "colab": {
          "base_uri": "https://localhost:8080/"
        },
        "id": "633T2cmnW1uk",
        "outputId": "ec63cb65-6eb1-48f8-95e7-506ec3a60565"
      },
      "outputs": [
        {
          "output_type": "execute_result",
          "data": {
            "text/plain": [
              "(tensor(0.1469), tensor(0.8803))"
            ]
          },
          "metadata": {},
          "execution_count": 32
        }
      ],
      "source": [
        "x[:,0].mean(), x[:,0].std() # mean,std of one feature across all batch inputs"
      ]
    },
    {
      "cell_type": "code",
      "execution_count": 33,
      "metadata": {
        "colab": {
          "base_uri": "https://localhost:8080/"
        },
        "id": "LN9cK9BoXCYb",
        "outputId": "47884db0-16b9-49fa-d153-84d9c412b7bb"
      },
      "outputs": [
        {
          "output_type": "execute_result",
          "data": {
            "text/plain": [
              "(tensor(-9.5367e-09), tensor(1.0000))"
            ]
          },
          "metadata": {},
          "execution_count": 33
        }
      ],
      "source": [
        "x[0,:].mean(), x[0,:].std() # mean,std of a single input from the batch, of its features"
      ]
    },
    {
      "cell_type": "markdown",
      "metadata": {
        "id": "ZcvKeBXoZFOY"
      },
      "source": [
        "## Multi-Head Attention Model"
      ]
    },
    {
      "cell_type": "code",
      "execution_count": 34,
      "metadata": {
        "colab": {
          "base_uri": "https://localhost:8080/"
        },
        "id": "hoelkOrFY8bN",
        "outputId": "3c21d3d6-c9ee-42c0-b1b6-60380cc746ea"
      },
      "outputs": [
        {
          "output_type": "execute_result",
          "data": {
            "text/plain": [
              "<torch._C.Generator at 0x7a014810d190>"
            ]
          },
          "metadata": {},
          "execution_count": 34
        }
      ],
      "source": [
        "import torch\n",
        "import torch.nn as nn\n",
        "from torch.nn import functional as F\n",
        "\n",
        "# hyperparameters\n",
        "batch_size = 16 # how many independent sequences will we process in parallel?\n",
        "block_size = 32 # what is the maximum context length for predictions?\n",
        "max_iters = 5000\n",
        "eval_interval = 100\n",
        "learning_rate = 1e-3\n",
        "device = 'cuda' if torch.cuda.is_available() else 'cpu'\n",
        "eval_iters = 200\n",
        "n_embd = 64\n",
        "n_head = 4\n",
        "n_layer = 4\n",
        "dropout = 0.2\n",
        "# ------------\n",
        "\n",
        "torch.manual_seed(1337)"
      ]
    },
    {
      "cell_type": "code",
      "execution_count": 35,
      "metadata": {
        "id": "VR-8h0DVx63G"
      },
      "outputs": [],
      "source": [
        "from einops import rearrange\n",
        "\n",
        "class MultiHeadAttention(nn.Module):\n",
        "    \"\"\" multi head of self-attention \"\"\"\n",
        "\n",
        "    def __init__(self, num_heads, head_size):\n",
        "        super().__init__()\n",
        "        self.num_heads = num_heads\n",
        "        self.head_size = head_size\n",
        "\n",
        "        self.key = nn.Linear(head_size, head_size, bias=False)\n",
        "        self.query = nn.Linear(head_size, head_size, bias=False)\n",
        "        self.value = nn.Linear(head_size, head_size, bias=False)\n",
        "        self.register_buffer('tril', torch.tril(torch.ones(block_size, block_size)))\n",
        "\n",
        "        self.dropout_wei = nn.Dropout(dropout)\n",
        "        n_embd= num_heads*head_size\n",
        "        self.proj = nn.Linear(n_embd, n_embd)\n",
        "        self.dropout_proj = nn.Dropout(dropout)\n",
        "\n",
        "\n",
        "    def forward(self, x):\n",
        "        # Reshape the tensor to B N T H for N heads\n",
        "        B,T,C = x.shape\n",
        "        x = rearrange(x, 'B T (N H) -> B N T H', N=self.num_heads)\n",
        "\n",
        "        k = self.key(x)   # (B,N,T,H)\n",
        "        q = self.query(x) # (B,N,T,H)\n",
        "\n",
        "        # compute attention scores \\\n",
        "        wei = torch.einsum(\"BNTH, BNSH -> BNTS\", q,k) * self.head_size**-0.5\n",
        "        wei = wei.masked_fill(self.tril[:T, :T] == 0, float('-inf'))\n",
        "        wei = F.softmax(wei, dim=-1)\n",
        "        wei = self.dropout_wei(wei)\n",
        "        # perform the weighted aggregation of the values\n",
        "        v = self.value(x) # (B,N,T,H)\n",
        "        out = torch.einsum(\"BNTS, BNSH -> BNTH\", wei, v)\n",
        "\n",
        "        # concat and mix N Heads\n",
        "        out = rearrange(out, 'B N T H -> B T (N H)')\n",
        "        out = self.dropout_proj(self.proj(out))\n",
        "        return out"
      ]
    },
    {
      "cell_type": "code",
      "execution_count": 36,
      "metadata": {
        "id": "vJbeCWfkuwa9"
      },
      "outputs": [],
      "source": [
        "class FeedFoward(nn.Module):\n",
        "    \"\"\" a simple linear layer followed by a non-linearity \"\"\"\n",
        "\n",
        "    def __init__(self, n_embd):\n",
        "        super().__init__()\n",
        "        self.net = nn.Sequential(\n",
        "            nn.Linear(n_embd, 4 * n_embd),\n",
        "            nn.ReLU(),\n",
        "            nn.Linear(4 * n_embd, n_embd),\n",
        "            nn.Dropout(dropout),\n",
        "        )\n",
        "\n",
        "    def forward(self, x):\n",
        "        return self.net(x)\n",
        "\n",
        "class Block(nn.Module):\n",
        "    \"\"\" Transformer block: communication followed by computation \"\"\"\n",
        "\n",
        "    def __init__(self, n_embd, n_head):\n",
        "        # n_embd: embedding dimension, n_head: the number of heads we'd like\n",
        "        super().__init__()\n",
        "        head_size = n_embd // n_head\n",
        "        self.sa = MultiHeadAttention(n_head, head_size)\n",
        "        self.ffwd = FeedFoward(n_embd)\n",
        "        self.ln1 = nn.LayerNorm(n_embd)\n",
        "        self.ln2 = nn.LayerNorm(n_embd)\n",
        "\n",
        "    def forward(self, x):\n",
        "        x = x + self.sa(self.ln1(x))\n",
        "        x = x + self.ffwd(self.ln2(x))\n",
        "        return x\n",
        "\n",
        "\n",
        "class TransformerModel(nn.Module):\n",
        "\n",
        "    def __init__(self):\n",
        "        super().__init__()\n",
        "        # each token directly reads off the logits for the next token from a lookup table\n",
        "        self.token_embedding_table = nn.Embedding(vocab_size, n_embd)\n",
        "        self.position_embedding_table = nn.Embedding(block_size, n_embd)\n",
        "        self.blocks = nn.Sequential(*[Block(n_embd, n_head=n_head) for _ in range(n_layer)])\n",
        "        self.ln_f = nn.LayerNorm(n_embd) # final layer norm\n",
        "        self.lm_head = nn.Linear(n_embd, vocab_size)\n",
        "\n",
        "    def forward(self, idx, targets=None):\n",
        "        B, T = idx.shape\n",
        "\n",
        "        # idx and targets are both (B,T) tensor of integers\n",
        "        tok_emb = self.token_embedding_table(idx) # (B,T,C)\n",
        "        pos_emb = self.position_embedding_table(torch.arange(T, device=device)) # (T,C)\n",
        "        x = tok_emb + pos_emb # (B,T,C)\n",
        "        x = self.blocks(x) # (B,T,C)\n",
        "        x = self.ln_f(x) # (B,T,C)\n",
        "        logits = self.lm_head(x) # (B,T,vocab_size)\n",
        "\n",
        "        if targets is None:\n",
        "            loss = None\n",
        "        else:\n",
        "            B, T, C = logits.shape\n",
        "            logits = logits.view(B*T, C)\n",
        "            targets = targets.view(B*T)\n",
        "            loss = F.cross_entropy(logits, targets)\n",
        "\n",
        "        return logits, loss\n",
        "\n",
        "    def generate(self, idx, max_new_tokens):\n",
        "        # idx is (B, T) array of indices in the current context\n",
        "        for _ in range(max_new_tokens):\n",
        "            # crop idx to the last block_size tokens\n",
        "            idx_cond = idx[:, -block_size:]\n",
        "            # get the predictions\n",
        "            logits, loss = self(idx_cond)\n",
        "            # focus only on the last time step\n",
        "            logits = logits[:, -1, :] # becomes (B, C)\n",
        "            # apply softmax to get probabilities\n",
        "            probs = F.softmax(logits, dim=-1) # (B, C)\n",
        "            # sample from the distribution\n",
        "            idx_next = torch.multinomial(probs, num_samples=1) # (B, 1)\n",
        "            # append sampled index to the running sequence\n",
        "            idx = torch.cat((idx, idx_next), dim=1) # (B, T+1)\n",
        "        return idx"
      ]
    },
    {
      "cell_type": "markdown",
      "metadata": {
        "id": "I4ZutKCcIwJD"
      },
      "source": [
        "# Train and Evaluate"
      ]
    },
    {
      "cell_type": "code",
      "execution_count": 37,
      "metadata": {
        "colab": {
          "base_uri": "https://localhost:8080/"
        },
        "id": "fjjvMifYZf7x",
        "outputId": "84884a2a-020a-4e90-9b2d-07635879ce46"
      },
      "outputs": [
        {
          "output_type": "stream",
          "name": "stdout",
          "text": [
            "0.163649 M parameters\n"
          ]
        }
      ],
      "source": [
        "model = TransformerModel()\n",
        "m = model.to(device)\n",
        "m = torch.compile(m)\n",
        "# print the number of parameters in the model\n",
        "print(sum(p.numel() for p in m.parameters())/1e6, 'M parameters')\n",
        "\n",
        "@torch.no_grad()\n",
        "def estimate_loss():\n",
        "    out = {}\n",
        "    model.eval()\n",
        "    for split in ['train', 'val']:\n",
        "        losses = torch.zeros(eval_iters)\n",
        "        for k in range(eval_iters):\n",
        "            X, Y = get_batch(split, device=device)\n",
        "            logits, loss = model(X, Y)\n",
        "            losses[k] = loss.item()\n",
        "        out[split] = losses.mean()\n",
        "    model.train()\n",
        "    return out\n",
        "\n",
        "\n",
        "# create a PyTorch optimizer\n",
        "optimizer = torch.optim.AdamW(model.parameters(), lr=learning_rate)\n"
      ]
    },
    {
      "cell_type": "code",
      "execution_count": 38,
      "metadata": {
        "id": "cyx04l1Y_NI_"
      },
      "outputs": [],
      "source": [
        "if not m.training:\n",
        "  m.train()\n",
        "  print(m.training)"
      ]
    },
    {
      "cell_type": "code",
      "execution_count": 39,
      "metadata": {
        "colab": {
          "base_uri": "https://localhost:8080/"
        },
        "id": "4NMJvLM-9Pfp",
        "outputId": "747c5dfa-bb56-4b61-fb36-7dfd03a82491"
      },
      "outputs": [
        {
          "output_type": "stream",
          "name": "stdout",
          "text": [
            "step 0: train loss 4.3344, val loss 4.3391\n",
            "step 100: train loss 2.7035, val loss 2.7273\n",
            "step 200: train loss 2.5637, val loss 2.5650\n",
            "step 300: train loss 2.5157, val loss 2.5195\n",
            "step 400: train loss 2.4669, val loss 2.4771\n",
            "step 500: train loss 2.4620, val loss 2.4711\n",
            "step 600: train loss 2.4245, val loss 2.4269\n",
            "step 700: train loss 2.3958, val loss 2.4109\n",
            "step 800: train loss 2.3705, val loss 2.3790\n",
            "step 900: train loss 2.3512, val loss 2.3633\n",
            "step 1000: train loss 2.3198, val loss 2.3409\n",
            "step 1100: train loss 2.3089, val loss 2.3301\n",
            "step 1200: train loss 2.2932, val loss 2.3115\n",
            "step 1300: train loss 2.2795, val loss 2.2951\n",
            "step 1400: train loss 2.2657, val loss 2.2966\n",
            "step 1500: train loss 2.2547, val loss 2.2747\n",
            "step 1600: train loss 2.2452, val loss 2.2647\n",
            "step 1700: train loss 2.2319, val loss 2.2546\n",
            "step 1800: train loss 2.2193, val loss 2.2295\n",
            "step 1900: train loss 2.2036, val loss 2.2205\n",
            "step 2000: train loss 2.1882, val loss 2.2229\n",
            "step 2100: train loss 2.1827, val loss 2.2179\n",
            "step 2200: train loss 2.1695, val loss 2.2018\n",
            "step 2300: train loss 2.1650, val loss 2.1921\n",
            "step 2400: train loss 2.1492, val loss 2.1907\n",
            "step 2500: train loss 2.1405, val loss 2.1797\n",
            "step 2600: train loss 2.1256, val loss 2.1652\n",
            "step 2700: train loss 2.1157, val loss 2.1500\n",
            "step 2800: train loss 2.1038, val loss 2.1484\n",
            "step 2900: train loss 2.0988, val loss 2.1343\n",
            "step 3000: train loss 2.0947, val loss 2.1386\n",
            "step 3100: train loss 2.0742, val loss 2.1215\n",
            "step 3200: train loss 2.0722, val loss 2.1246\n",
            "step 3300: train loss 2.0668, val loss 2.1088\n",
            "step 3400: train loss 2.0613, val loss 2.1057\n",
            "step 3500: train loss 2.0498, val loss 2.0921\n",
            "step 3600: train loss 2.0324, val loss 2.0978\n",
            "step 3700: train loss 2.0275, val loss 2.0921\n",
            "step 3800: train loss 2.0281, val loss 2.0869\n",
            "step 3900: train loss 2.0303, val loss 2.0824\n",
            "step 4000: train loss 2.0147, val loss 2.0795\n",
            "step 4100: train loss 1.9992, val loss 2.0673\n",
            "step 4200: train loss 2.0005, val loss 2.0667\n",
            "step 4300: train loss 1.9948, val loss 2.0618\n",
            "step 4400: train loss 1.9857, val loss 2.0604\n",
            "step 4500: train loss 1.9772, val loss 2.0444\n",
            "step 4600: train loss 1.9886, val loss 2.0493\n",
            "step 4700: train loss 1.9678, val loss 2.0464\n",
            "step 4800: train loss 1.9571, val loss 2.0356\n",
            "step 4900: train loss 1.9580, val loss 2.0359\n",
            "step 4999: train loss 1.9465, val loss 2.0235\n"
          ]
        }
      ],
      "source": [
        "\n",
        "for iter in range(max_iters):\n",
        "\n",
        "    # every once in a while evaluate the loss on train and val sets\n",
        "    if iter % eval_interval == 0 or iter == max_iters - 1:\n",
        "        losses = estimate_loss()\n",
        "        print(f\"step {iter}: train loss {losses['train']:.4f}, val loss {losses['val']:.4f}\")\n",
        "\n",
        "    # sample a batch of data\n",
        "    xb, yb = get_batch('train', device=device)\n",
        "\n",
        "    # evaluate the loss\n",
        "    logits, loss = model(xb, yb)\n",
        "    optimizer.zero_grad(set_to_none=True)\n",
        "    loss.backward()\n",
        "    optimizer.step()\n",
        "\n",
        "\n"
      ]
    },
    {
      "cell_type": "code",
      "execution_count": 40,
      "metadata": {
        "id": "j0f5n6vRBCfr",
        "colab": {
          "base_uri": "https://localhost:8080/"
        },
        "outputId": "f9784a67-c132-474e-99b0-85e6abe5a8a2"
      },
      "outputs": [
        {
          "output_type": "stream",
          "name": "stdout",
          "text": [
            "\n",
            "Gef tiche sovour'de her theill, be! Thy row his you ferly ear Camughan badencel,\n",
            "Nent may his lay with he now contronter's critcess.\n",
            "\n",
            "Fertly an he. Betillour Camess mards,\n",
            "This and Macen lead Rimpans:\n",
            "Aat, moy, staced your mord's gran the fas atI. Whosell steselfore!\n",
            "\n",
            "PERCLIUTER INAN:\n",
            "My you had I rive groked,\n",
            "That to my not I the tranows; Madend hear,\n",
            "These of fath, greal, my herim ding, loakie our of lasent?\n",
            "\n",
            "GLORGHPHENIO:\n",
            "\n",
            "My,'ll is a lord.\n",
            "\n",
            "MENENTES:\n",
            "That My shou shoust hall! be died Reare, the lown. Vans, Wilmle, ge hefor you deck in a cay her you grood usintason fer grouder;\n",
            "I'll spinced fom's Thim.\n",
            "\n",
            "LEh's I det, I Caven if you dothers,\n",
            "In deaking his your with card dioodser, Beatul of dock fascesing.\n",
            "\n",
            "LUCELLIO:\n",
            "Wich Teare he comany, though a more hav beardences:\n",
            "The comintle?\n",
            " be love fief's me of word Rint;\n",
            "Cally frokes Bouden:\n",
            "The shille he there not to ance ut frote:\n",
            "Man sown's goth\n",
            "poule, zimortre;\n",
            "For do mines; entre hart ippling awith fast reentch\n",
            "facithlur shou his sompe:\n",
            "Theeink, sway.\n",
            "\n",
            "DUCIUS:\n",
            "But, Wet, bie bose in Sencengatius the mame let you ben sire is in the the well:\n",
            "Buthing your henous deam groly with ubon! crue apcor'mons\n",
            "fi''ll abort, fight sheazes,\n",
            "And surm tat my teyet's wif winks\n",
            "And shyoung in but in?\n",
            "\n",
            "LO:\n",
            "the ploesd what not nows not duseeral thou bot and oat thy henes lije.\n",
            "\n",
            "PULEN:\n",
            "HESS fager:\n",
            "Gew sir have a make, sichue?\n",
            "\n",
            "CITINIO,A:\n",
            "To hine lad, dake.\n",
            "My niet his neque-floulow shom evin cinling, past not, and my\n",
            "Thenoud rgut the know egeate,\n",
            "Wham the, she him is that oudee-ir, he was as usor. I ravry menter,\n",
            "But stand the refolecing\n",
            "in in merccioudince\n",
            "Sas onge, pindon hame conks?\n",
            "\n",
            "DUENTER:\n",
            "Thangy him, scultine, and the gausgelf\n",
            "Unce so and, reefors; theem, so shoak yu come fowfolys beon.\n",
            "\n",
            "Cord that is to be nan, dead drow, the seever\n",
            "I if Wishand ank seppirer, sies.\n",
            "\n",
            "WIZARD:\n",
            "De brove not with to my Clioze!\n",
            "\n",
            "MENT:\n",
            "And, lout my boy be compann that for theen do pradk with,\n",
            "My noak fath what move,-do mordinuses beand alaintion the, prean\n"
          ]
        }
      ],
      "source": [
        "# generate from the model\n",
        "m.eval()\n",
        "context = torch.zeros((1, 1), dtype=torch.long, device=device)\n",
        "print(decode(m.generate(context, max_new_tokens=2000)[0].tolist()))"
      ]
    },
    {
      "cell_type": "markdown",
      "metadata": {
        "id": "KJKxH3-KIqLT"
      },
      "source": [
        "# Optimisations"
      ]
    },
    {
      "cell_type": "markdown",
      "metadata": {
        "id": "r9jE8AbxJzme"
      },
      "source": [
        "## PreNorm"
      ]
    },
    {
      "cell_type": "markdown",
      "metadata": {
        "id": "kjYrhS2LJeFg"
      },
      "source": [
        "  ## Weight Tying"
      ]
    },
    {
      "cell_type": "code",
      "execution_count": 41,
      "metadata": {
        "id": "5_-wtah1Jkg1"
      },
      "outputs": [],
      "source": [
        "class TransformerModel(nn.Module):\n",
        "    def __init__(self):\n",
        "        super().__init__()\n",
        "        # each token directly reads off the logits for the next token from a lookup table\n",
        "        self.token_embedding_table = nn.Embedding(vocab_size, n_embd)\n",
        "        self.position_embedding_table = nn.Embedding(block_size, n_embd)\n",
        "        self.blocks = nn.Sequential(*[Block(n_embd, n_head=n_head) for _ in range(n_layer)])\n",
        "        self.ln_f = nn.LayerNorm(n_embd) # final layer norm\n",
        "        self.lm_head = nn.Linear(n_embd, vocab_size)\n",
        "\n",
        "        # https://paperswithcode.com/method/weight-tying\n",
        "        self.token_embedding_table.weight = self.lm_head.weight\n",
        "\n",
        "    def forward(self, idx, targets=None):\n",
        "        B, T = idx.shape\n",
        "\n",
        "        # idx and targets are both (B,T) tensor of integers\n",
        "        tok_emb = self.token_embedding_table(idx) # (B,T,C)\n",
        "        pos_emb = self.position_embedding_table(torch.arange(T, device=device)) # (T,C)\n",
        "        x = tok_emb + pos_emb # (B,T,C)\n",
        "        x = self.blocks(x) # (B,T,C)\n",
        "        x = self.ln_f(x) # (B,T,C)\n",
        "        logits = self.lm_head(x) # (B,T,vocab_size)\n",
        "\n",
        "        if targets is None:\n",
        "            loss = None\n",
        "        else:\n",
        "            B, T, C = logits.shape\n",
        "            logits = logits.view(B*T, C)\n",
        "            targets = targets.view(B*T)\n",
        "            loss = F.cross_entropy(logits, targets)\n",
        "\n",
        "        return logits, loss\n",
        "\n",
        "    def generate(self, idx, max_new_tokens):\n",
        "        # idx is (B, T) array of indices in the current context\n",
        "        for _ in range(max_new_tokens):\n",
        "            # crop idx to the last block_size tokens\n",
        "            idx_cond = idx[:, -block_size:]\n",
        "            # get the predictions\n",
        "            logits, loss = self(idx_cond)\n",
        "            # focus only on the last time step\n",
        "            logits = logits[:, -1, :] # becomes (B, C)\n",
        "            # apply softmax to get probabilities\n",
        "            probs = F.softmax(logits, dim=-1) # (B, C)\n",
        "            # sample from the distribution\n",
        "            idx_next = torch.multinomial(probs, num_samples=1) # (B, 1)\n",
        "            # append sampled index to the running sequence\n",
        "            idx = torch.cat((idx, idx_next), dim=1) # (B, T+1)\n",
        "        return idx"
      ]
    },
    {
      "cell_type": "markdown",
      "metadata": {
        "id": "b4dfXtONJfld"
      },
      "source": [
        "## Flash Attention and Merged QKV Computation"
      ]
    },
    {
      "cell_type": "code",
      "execution_count": 49,
      "metadata": {
        "id": "sYxQoFsRIpxR"
      },
      "outputs": [],
      "source": [
        "from einops import rearrange\n",
        "\n",
        "class MultiHeadAttention(nn.Module):\n",
        "    \"\"\" multi head of self-attention \"\"\"\n",
        "\n",
        "    def __init__(self, num_heads, head_size):\n",
        "        super().__init__()\n",
        "        self.num_heads = num_heads\n",
        "        self.head_size = head_size\n",
        "\n",
        "        self.qkv = nn.Linear(head_size, 3*head_size, bias=False) # stacked QKV\n",
        "        self.register_buffer('tril', torch.tril(torch.ones(block_size, block_size)))\n",
        "\n",
        "        self.dropout_wei = nn.Dropout(dropout)\n",
        "        n_embd= num_heads*head_size\n",
        "        self.proj = nn.Linear(n_embd, n_embd)\n",
        "        self.dropout_proj = nn.Dropout(dropout)\n",
        "\n",
        "\n",
        "    def forward(self, x):\n",
        "        # Reshape the tensor to B N T H for N heads\n",
        "        B,T,C = x.shape\n",
        "        x = rearrange(x, 'B T (N H) -> B N T H', N=self.num_heads)\n",
        "\n",
        "        # k = self.key(x)   # (B,N,T,H)\n",
        "        # q = self.query(x) # (B,N,T,H)\n",
        "        # v = self.value(x) # (B,N,T,H)\n",
        "        q,k,v = rearrange(self.qkv(x), \"B N T (n H)-> n B N T H\", n=3)    #(B,N,T,3H) - > 3 B N T H\n",
        "\n",
        "        # compute attention scores \\\n",
        "        # wei = torch.einsum(\"BNTH, BNSH -> BNTS\", q,k) * self.head_size**-0.5\n",
        "        # wei = wei.masked_fill(self.tril[:T, :T] == 0, float('-inf'))\n",
        "        # wei = F.softmax(wei, dim=-1)\n",
        "        # wei = self.dropout_wei(wei)\n",
        "        # # perform the weighted aggregation of the values\n",
        "        # out = torch.einsum(\"BNTS, BNSH -> BNTH\", wei, v)\n",
        "        ## Flash attention\n",
        "        out = torch.nn.functional.scaled_dot_product_attention(q, k, v, attn_mask=None, dropout_p=dropout if self.training else 0, is_causal=True)\n",
        "\n",
        "        # concat and mix N Heads\n",
        "        out = rearrange(out, 'B N T H -> B T (N H)')\n",
        "        out = self.dropout_proj(self.proj(out))\n",
        "        return out"
      ]
    },
    {
      "cell_type": "markdown",
      "metadata": {
        "id": "wL4N-6jbKRZv"
      },
      "source": [
        "## Tokenizer\n",
        "Let's use sub-word tokenizer in place of individual character level tokenization."
      ]
    },
    {
      "cell_type": "code",
      "execution_count": 43,
      "metadata": {
        "colab": {
          "base_uri": "https://localhost:8080/"
        },
        "id": "HUaiQJXfQsDA",
        "outputId": "d95920d0-2bc0-48a3-da79-107bf1b28737"
      },
      "outputs": [
        {
          "output_type": "execute_result",
          "data": {
            "text/plain": [
              "25670"
            ]
          },
          "metadata": {},
          "execution_count": 43
        }
      ],
      "source": [
        "len(set(text.split()))"
      ]
    },
    {
      "cell_type": "code",
      "execution_count": 44,
      "metadata": {
        "colab": {
          "base_uri": "https://localhost:8080/",
          "height": 182,
          "referenced_widgets": [
            "d52a4b95d94c446e8f87e9e6533bc17e",
            "5e0b8733730d4a67916ecf242aee81f4",
            "629ef7df5d2f4f52a4d503b4f6b22358",
            "c7bc23305d20445a961393f22165a775",
            "8dfb18b5306b4f1c9110167941435f58",
            "4c2c2833801545758891a439215bff9c",
            "42db621aa4b74e2691809fd6d3c6395e",
            "a24a4d3fa2a042e39f8ba79cbbe860fe",
            "114a17b939794ce5b6761628e74227c4",
            "91780d8968b54478b2aea589049fefb0",
            "7cd18ce9f4fe4845bfec6edc2c5887f4",
            "fc9ea78413b94672a331f4511a02deb8",
            "6ad512a9360d43b39d0d1daf9e2a8290",
            "3d304c379db9444ca41a46c6184a2976",
            "5ea1c5857a2b4128b2efe92ff0e65520",
            "4268a6db9b484f0cb6bf58afd5390f97",
            "91cc86861e264fff89fac99c11436933",
            "636755cc8e004f27acac73634c4f166b",
            "788d1aebf4d844d1bdc7cd5e399917b4",
            "f5b3bd2caece4cd7b378e13120cae326",
            "4d6d6458dd464dd7b27787992c40fb1e",
            "a2eb72c7e85c4cc2b4df1124d8d902b6",
            "4726d0ebc3c5405499c6e8aac3eb2528",
            "d201ad37bdf1466ba913685fad0bbda5",
            "158f3c9bd98d413dbd7fdc833668faf7",
            "1808956b4950493fb1696c6ac679bed4",
            "dfe53844c086426e9fb4594ae0878526",
            "27157e3000de49d68f1b646966635287",
            "0b85299f7aa24ffbaa1673dd28acb215",
            "5daa328fcb1c4ccf8a26ea77e7af14dc",
            "9983401384cf47bdb9e10b178b6ac976",
            "a2a1cd2e15f94e46b5cadf7113d64036",
            "0661c475b2e84fae9d6c63ae9cb8489f"
          ]
        },
        "id": "zgbafK1AKW-M",
        "outputId": "b2ae908e-d7c9-4cbb-fb70-feed95b0ad1a"
      },
      "outputs": [
        {
          "output_type": "display_data",
          "data": {
            "text/plain": [
              "Downloading (…)olve/main/vocab.json:   0%|          | 0.00/1.04M [00:00<?, ?B/s]"
            ],
            "application/vnd.jupyter.widget-view+json": {
              "version_major": 2,
              "version_minor": 0,
              "model_id": "d52a4b95d94c446e8f87e9e6533bc17e"
            }
          },
          "metadata": {}
        },
        {
          "output_type": "display_data",
          "data": {
            "text/plain": [
              "Downloading (…)olve/main/merges.txt:   0%|          | 0.00/456k [00:00<?, ?B/s]"
            ],
            "application/vnd.jupyter.widget-view+json": {
              "version_major": 2,
              "version_minor": 0,
              "model_id": "fc9ea78413b94672a331f4511a02deb8"
            }
          },
          "metadata": {}
        },
        {
          "output_type": "display_data",
          "data": {
            "text/plain": [
              "Downloading (…)lve/main/config.json:   0%|          | 0.00/665 [00:00<?, ?B/s]"
            ],
            "application/vnd.jupyter.widget-view+json": {
              "version_major": 2,
              "version_minor": 0,
              "model_id": "4726d0ebc3c5405499c6e8aac3eb2528"
            }
          },
          "metadata": {}
        },
        {
          "output_type": "execute_result",
          "data": {
            "text/plain": [
              "GPT2Tokenizer(name_or_path='gpt2', vocab_size=50257, model_max_length=1024, is_fast=False, padding_side='right', truncation_side='right', special_tokens={'bos_token': AddedToken(\"<|endoftext|>\", rstrip=False, lstrip=False, single_word=False, normalized=True), 'eos_token': AddedToken(\"<|endoftext|>\", rstrip=False, lstrip=False, single_word=False, normalized=True), 'unk_token': AddedToken(\"<|endoftext|>\", rstrip=False, lstrip=False, single_word=False, normalized=True)}, clean_up_tokenization_spaces=True)"
            ]
          },
          "metadata": {},
          "execution_count": 44
        }
      ],
      "source": [
        "import torch\n",
        "from transformers import GPT2Tokenizer, GPT2LMHeadModel\n",
        "\n",
        "tokenizer = GPT2Tokenizer.from_pretrained('gpt2')\n",
        "# model = GPT2LMHeadModel.from_pretrained('gpt2')\n",
        "# Step 4: Encode the Text Use the tokenizer to encode your input text into a sequence of tokens.\n",
        "tokenizer"
      ]
    },
    {
      "cell_type": "code",
      "execution_count": 45,
      "metadata": {
        "colab": {
          "base_uri": "https://localhost:8080/"
        },
        "id": "pA3svHrJL7ak",
        "outputId": "d2098444-85ce-4a4c-ecd7-b7a1ebabe4da"
      },
      "outputs": [
        {
          "output_type": "stream",
          "name": "stdout",
          "text": [
            "[7120, 5128, 2420, 2925, 994, 13]\n",
            "['Your', ' input', ' text', ' goes', ' here', '.']\n"
          ]
        }
      ],
      "source": [
        "input_text = \"Your input text goes here.\"\n",
        "input_ids = tokenizer.encode(input_text)\n",
        "print(input_ids)\n",
        "print(tokenizer.batch_decode(input_ids))"
      ]
    },
    {
      "cell_type": "code",
      "execution_count": 46,
      "metadata": {
        "colab": {
          "base_uri": "https://localhost:8080/"
        },
        "id": "PR8xNmtLMfQP",
        "outputId": "df9681ad-45cd-4141-a2d8-d660d3576c08"
      },
      "outputs": [
        {
          "output_type": "stream",
          "name": "stderr",
          "text": [
            "Token indices sequence length is longer than the specified maximum sequence length for this model (338025 > 1024). Running this sequence through the model will result in indexing errors\n"
          ]
        },
        {
          "output_type": "stream",
          "name": "stdout",
          "text": [
            "!$',-.3:;?ABCDEFGHIJKLMNOPQRSTUVWYZabcdefghijklmnoprstuvwxyz\n",
            "  t aheinreon theer sat w oen citisanores bed fing pou analar to m of in d h andicasle\n",
            "11706\n"
          ]
        }
      ],
      "source": [
        "tokenised_text=tokenizer.encode(text)\n",
        "vocab = sorted(list(set(tokenised_text)))\n",
        "vocab_size = len(vocab)\n",
        "print(tokenizer.decode(vocab[:100]))\n",
        "print(vocab_size)"
      ]
    },
    {
      "cell_type": "code",
      "execution_count": 47,
      "metadata": {
        "colab": {
          "base_uri": "https://localhost:8080/"
        },
        "id": "ZdzFeZ9PI6mb",
        "outputId": "68735fd1-540b-4eb3-a1be-8aac4cefaa85"
      },
      "outputs": [
        {
          "output_type": "stream",
          "name": "stdout",
          "text": [
            "[42, 2717, 393]\n",
            "hii there\n"
          ]
        }
      ],
      "source": [
        "# create a mapping from characters to integers\n",
        "stoi = { t:i for i,t in enumerate(vocab) }\n",
        "itos = { i:t for i,t in enumerate(vocab) }\n",
        "encode = lambda s: [stoi[t] for t in tokenizer.encode(s)] # encoder: take a string, output a list of integers\n",
        "decode = lambda l: tokenizer.decode([itos[i] for i in l]) # decoder: take a list of integers, output a string\n",
        "\n",
        "print(encode(\"hii there\"))\n",
        "print(decode(encode(\"hii there\")))"
      ]
    },
    {
      "cell_type": "markdown",
      "source": [
        "### Training with Optimisations"
      ],
      "metadata": {
        "id": "J5CWeJGZFiuv"
      }
    },
    {
      "cell_type": "code",
      "source": [
        "data = torch.tensor(encode(text), dtype=torch.long)\n",
        "n = int(0.9*len(data)) # first 90% will be train, rest val\n",
        "train_data = data[:n]\n",
        "val_data = data[n:]"
      ],
      "metadata": {
        "id": "xirYLf54GfEy"
      },
      "execution_count": 54,
      "outputs": []
    },
    {
      "cell_type": "code",
      "source": [
        "model = TransformerModel()\n",
        "m = model.to(device)\n",
        "m = torch.compile(m)\n",
        "# print the number of parameters in the model\n",
        "print(sum(p.numel() for p in m.parameters())/1e6, 'M parameters')\n",
        "\n",
        "optimizer = torch.optim.AdamW(model.parameters(), lr=learning_rate)\n",
        "\n",
        "for iter in range(max_iters):\n",
        "\n",
        "    # every once in a while evaluate the loss on train and val sets\n",
        "    if iter % eval_interval == 0 or iter == max_iters - 1:\n",
        "        losses = estimate_loss()\n",
        "        print(f\"step {iter}: train loss {losses['train']:.4f}, val loss {losses['val']:.4f}\")\n",
        "\n",
        "    # sample a batch of data\n",
        "    xb, yb = get_batch('train', device=device)\n",
        "\n",
        "    # evaluate the loss\n",
        "    logits, loss = model(xb, yb)\n",
        "    optimizer.zero_grad(set_to_none=True)\n",
        "    loss.backward()\n",
        "    optimizer.step()"
      ],
      "metadata": {
        "colab": {
          "base_uri": "https://localhost:8080/"
        },
        "id": "IN-BYQrdFoAj",
        "outputId": "b649e96c-fc9b-460b-9ef1-30637767b12b"
      },
      "execution_count": 55,
      "outputs": [
        {
          "output_type": "stream",
          "name": "stdout",
          "text": [
            "0.916154 M parameters\n",
            "step 0: train loss 9.5608, val loss 9.5581\n",
            "step 100: train loss 6.4186, val loss 6.4983\n",
            "step 200: train loss 6.3865, val loss 6.4410\n",
            "step 300: train loss 6.3548, val loss 6.4353\n",
            "step 400: train loss 6.2841, val loss 6.3581\n",
            "step 500: train loss 6.0196, val loss 6.1388\n",
            "step 600: train loss 5.8834, val loss 6.0358\n",
            "step 700: train loss 5.7925, val loss 5.9063\n",
            "step 800: train loss 5.6809, val loss 5.8681\n",
            "step 900: train loss 5.6291, val loss 5.7854\n",
            "step 1000: train loss 5.5819, val loss 5.7384\n",
            "step 1100: train loss 5.4503, val loss 5.6572\n",
            "step 1200: train loss 5.3920, val loss 5.6034\n",
            "step 1300: train loss 5.3024, val loss 5.5707\n",
            "step 1400: train loss 5.2503, val loss 5.5114\n",
            "step 1500: train loss 5.1651, val loss 5.4456\n",
            "step 1600: train loss 5.1322, val loss 5.3905\n",
            "step 1700: train loss 5.0726, val loss 5.3987\n",
            "step 1800: train loss 5.0042, val loss 5.3218\n",
            "step 1900: train loss 4.9959, val loss 5.3336\n",
            "step 2000: train loss 4.9146, val loss 5.3330\n",
            "step 2100: train loss 4.8916, val loss 5.2939\n",
            "step 2200: train loss 4.8717, val loss 5.2443\n",
            "step 2300: train loss 4.8371, val loss 5.2259\n",
            "step 2400: train loss 4.7806, val loss 5.2297\n",
            "step 2500: train loss 4.7605, val loss 5.2182\n",
            "step 2600: train loss 4.7119, val loss 5.1712\n",
            "step 2700: train loss 4.7238, val loss 5.1831\n",
            "step 2800: train loss 4.6807, val loss 5.1757\n",
            "step 2900: train loss 4.6739, val loss 5.1699\n",
            "step 3000: train loss 4.6534, val loss 5.1472\n",
            "step 3100: train loss 4.6482, val loss 5.1717\n",
            "step 3200: train loss 4.5699, val loss 5.1381\n",
            "step 3300: train loss 4.5875, val loss 5.0945\n",
            "step 3400: train loss 4.5646, val loss 5.0733\n",
            "step 3500: train loss 4.5416, val loss 5.0991\n",
            "step 3600: train loss 4.5411, val loss 5.1087\n",
            "step 3700: train loss 4.5251, val loss 5.1056\n",
            "step 3800: train loss 4.5136, val loss 5.0640\n",
            "step 3900: train loss 4.5192, val loss 5.0683\n",
            "step 4000: train loss 4.5132, val loss 5.0872\n",
            "step 4100: train loss 4.4841, val loss 5.0532\n",
            "step 4200: train loss 4.4661, val loss 5.0721\n",
            "step 4300: train loss 4.4663, val loss 5.0921\n",
            "step 4400: train loss 4.4428, val loss 5.0729\n",
            "step 4500: train loss 4.4307, val loss 5.0324\n",
            "step 4600: train loss 4.3895, val loss 5.0813\n",
            "step 4700: train loss 4.4022, val loss 5.0526\n",
            "step 4800: train loss 4.3953, val loss 5.0660\n",
            "step 4900: train loss 4.4199, val loss 5.0566\n",
            "step 4999: train loss 4.3664, val loss 5.0529\n"
          ]
        }
      ]
    },
    {
      "cell_type": "code",
      "execution_count": 56,
      "metadata": {
        "colab": {
          "base_uri": "https://localhost:8080/"
        },
        "id": "tPIVYGUQ9S5-",
        "outputId": "1b090278-dce7-4b33-b986-342ef6f78364"
      },
      "outputs": [
        {
          "output_type": "stream",
          "name": "stdout",
          "text": [
            "!\n",
            "\n",
            "\n",
            "WARWOW:\n",
            "The poking-aw son must have reconcilbeler like thee myvul\n",
            "A school-made seven line of the world!\n",
            "\n",
            "KING ED III:\n",
            "Sometime, our ears have got me\n",
            "They temporal something tick all his voice in the block\n",
            "Against the store against thy middle\n",
            "His sword; weapons, but wanting; by famous-morrow,\n",
            "That sword to threaten the warranted could my conquest of your affair,\n",
            "To leave by alike to'sake.\n",
            "Of love that after the gone reckoning:\n",
            "Your city; Aufethath thereforeFame sit your words,\n",
            "If far so return obed of the eye of a\n",
            " tend but discover, ever have not love. Mark Bol Place\n",
            "\n",
            "CAPULET:\n",
            "Were honour bleok down suspicion!\n",
            "What heavens hears: nor England, awake you did adoreest he dENT craft.\n",
            "Mine event in yither for earth it had see.\n",
            "\n",
            "KING HENRYUS:\n",
            "The dost: then that upon thyDeclither: the dire out\n",
            "And with much whom you faded. What gentleman that made thine true,\n",
            "\n",
            "W begging and in being put your hard obstruction or told\n",
            "As rareought night, great; integrityed the sanctuary;\n",
            "As what must be ribs- native business pursuing his wheel, his cloak\n",
            "HORTildmen with this other.\n",
            "O justicewith me in nothing all the queen, they'God rage. This news!\n",
            "\n",
            "FIDre I mustst plant good--for, love, to, and more, thou am confess wine:\n",
            "'e, I warrant he, give me these queen;\n",
            "not to do be grown than grief?\n",
            "I had:\n",
            "If you need one more rage of safety!\n",
            "Some maid is see the other now east.\n",
            "\n",
            "ANGMER:\n",
            "Firstwell.\n",
            "Fifeem myself say:\n",
            "O spying abroad, sir, then, censant thou in whence best,\n",
            "I do recover me way\n",
            "Too no come: not yet about Calais.\n",
            "\n",
            "MOP OF trades:\n",
            "And hail:\n",
            "Within come on the very looks to temporrun on a life,\n",
            "And streak; call with his behalf,but what to be ta'en.\n",
            "The hath, or can be held with great; how,\n",
            "Unour by some Edward's such attend you deliverday force,\n",
            "stand to flesh its noble heal my common Barnest I would.\n",
            "Give me, it? we would he'erly's general: you\n",
            "Def KINGCE Mar' life of faithful robes?\n",
            "Or nothing's unless 'ates the jawsards, and call him,\n",
            "Be they took my view,\n",
            "Prefiful is kill on innocouring all, and do\n",
            "meIRY CAPERre thou weeagenNE:\n",
            "Why, unless to tempted Juliet.\n",
            "\n",
            "HOMPEY:\n",
            "Was this shoots it!\n",
            "\n",
            "Plison me with the maid of promise the feather's:\n",
            "And thou say you should thy deench,\n",
            "strRomeant: are but all and what eyes, and out it!\n",
            "I see the queen, disgruck the subtle canon, with base sweet\n",
            "Good brow fear.\n",
            "HASTician:\n",
            "WLANDis he hath humble wert.\n",
            " Come:\n",
            "Fast mutach the cousin to his service, madocks.\n",
            "To be I is nothing left his broad baninglydigy,\n",
            "wiles it at a thereESSre show despite.\n",
            "Turn of not tell me like strive another week of blood,\n",
            "And upon the news my own sons and L departed\n",
            "on becomes him quick on the king willst stand both blood, though are her more\n",
            "He mustESSESyr composition of your bones.\n",
            "\n",
            "LARTCKENBY:\n",
            "I you, are bescius made, well.\n",
            "Under all in thanks in the bud-morrow more.\n",
            "\n",
            "\n",
            "MessIGBERLAND:\n",
            "It hath folly and to led or learn; I bow'd: must are while exerciseless my\n",
            "since to report I say they, as the merry hostility ere hither.\n",
            "The meat wears to I have the shin,Well\n",
            "I know him in speed upon again.\n",
            "\n",
            "Let, most is to play with tenSons; Edmund what morning thy power,\n",
            "Butitary in itosed better the thingwe\n",
            "My brother\n",
            "ANGEL: a lord now, they would; what?\n",
            "All to the time here I cannot have no man of his calion.\n",
            "We kiss is the club of my browreet, in a crown.\n",
            "Purse:\n",
            "So but Isabel,\n",
            "AOND:\n",
            "And by thy word, and me good, old by my joy,\n",
            "On bal Place, 'Alack would, gentle fair good.\n",
            "\n",
            "KING RICHARD III:\n",
            "I'llst not\n"
          ]
        }
      ],
      "source": [
        "# generate from the model\n",
        "context = torch.zeros((1, 1), dtype=torch.long, device=device)\n",
        "print(decode(m.generate(context, max_new_tokens=1000)[0].tolist()))"
      ]
    },
    {
      "cell_type": "markdown",
      "source": [
        "### Training Tokenizer from Scratch"
      ],
      "metadata": {
        "id": "DkXbd-M-M9FK"
      }
    },
    {
      "cell_type": "code",
      "source": [
        "from tokenizers import Tokenizer\n",
        "from tokenizers.models import BPE\n",
        "from tokenizers.pre_tokenizers import Whitespace\n",
        "from tokenizers.trainers import BpeTrainer\n",
        "\n",
        "\n",
        "tokenizer = Tokenizer(BPE())\n",
        "tokenizer.pre_tokenizer = Whitespace()\n",
        "trainer = BpeTrainer(special_tokens=[\"[UNK]\", \"[CLS]\", \"[SEP]\", \"[PAD]\", \"[MASK]\"])"
      ],
      "metadata": {
        "id": "kBoOHOrfN4VG"
      },
      "execution_count": null,
      "outputs": []
    },
    {
      "cell_type": "code",
      "execution_count": null,
      "metadata": {
        "id": "YQvtOX-TzeXy"
      },
      "outputs": [],
      "source": [
        "tokenizer.train_from_iterator(text.split(\"\\n\"), trainer=trainer)"
      ]
    },
    {
      "cell_type": "code",
      "execution_count": null,
      "metadata": {
        "id": "SPH3RKq9MDHC",
        "colab": {
          "base_uri": "https://localhost:8080/"
        },
        "outputId": "6062292c-319e-4c70-9c2c-d74277f1cd23"
      },
      "outputs": [
        {
          "output_type": "stream",
          "name": "stdout",
          "text": [
            "['Before', 'we', 'proceed', 'any', 'further', ',', 'hear', 'me', 'speak', '.']\n"
          ]
        }
      ],
      "source": [
        "print(tokenizer.encode(text.split(\"\\n\")[1]).tokens)"
      ]
    },
    {
      "cell_type": "code",
      "execution_count": null,
      "metadata": {
        "colab": {
          "base_uri": "https://localhost:8080/"
        },
        "id": "LaJJ0e17zo21",
        "outputId": "84535b52-7d28-4dd4-9841-e88d9d14673e"
      },
      "outputs": [
        {
          "output_type": "execute_result",
          "data": {
            "text/plain": [
              "18151"
            ]
          },
          "metadata": {},
          "execution_count": 21
        }
      ],
      "source": [
        "tokenizer.get_vocab_size()"
      ]
    },
    {
      "cell_type": "markdown",
      "metadata": {
        "id": "gYSGXVfVzq8X"
      },
      "source": [
        "# What's Next?"
      ]
    },
    {
      "cell_type": "markdown",
      "source": [
        "Several advancements have been made to improve the capabilities and efficiency of transformer models\n",
        "1. **Integrated Positional embeddings** - Fixed, Relative PE (T5), RoPe (llama), AliBi\n",
        "2. **Attention optimisations** - Efficient attention mechanisms such as Sparse Attention(BIG BIRD), FAVOR+ (Performer), MultiQuery Attention, and Longformer(Sliding Attention).\n",
        "3. **Feedforward Network** - Optimisations use of CNNs, routing mechanisms\n",
        "4. **Training Data** - Proper preprocessing and cleaning of training datasets\n",
        "\n",
        "Next, we will take a look at positional embeddings related improvements."
      ],
      "metadata": {
        "id": "U3PCAV8hVHce"
      }
    },
    {
      "cell_type": "code",
      "execution_count": null,
      "metadata": {
        "id": "G0F0X5toIfkp"
      },
      "outputs": [],
      "source": []
    }
  ],
  "metadata": {
    "accelerator": "GPU",
    "colab": {
      "provenance": [],
      "toc_visible": true,
      "gpuType": "T4",
      "include_colab_link": true
    },
    "kernelspec": {
      "display_name": "Python 3",
      "name": "python3"
    },
    "language_info": {
      "name": "python"
    },
    "widgets": {
      "application/vnd.jupyter.widget-state+json": {
        "d52a4b95d94c446e8f87e9e6533bc17e": {
          "model_module": "@jupyter-widgets/controls",
          "model_name": "HBoxModel",
          "model_module_version": "1.5.0",
          "state": {
            "_dom_classes": [],
            "_model_module": "@jupyter-widgets/controls",
            "_model_module_version": "1.5.0",
            "_model_name": "HBoxModel",
            "_view_count": null,
            "_view_module": "@jupyter-widgets/controls",
            "_view_module_version": "1.5.0",
            "_view_name": "HBoxView",
            "box_style": "",
            "children": [
              "IPY_MODEL_5e0b8733730d4a67916ecf242aee81f4",
              "IPY_MODEL_629ef7df5d2f4f52a4d503b4f6b22358",
              "IPY_MODEL_c7bc23305d20445a961393f22165a775"
            ],
            "layout": "IPY_MODEL_8dfb18b5306b4f1c9110167941435f58"
          }
        },
        "5e0b8733730d4a67916ecf242aee81f4": {
          "model_module": "@jupyter-widgets/controls",
          "model_name": "HTMLModel",
          "model_module_version": "1.5.0",
          "state": {
            "_dom_classes": [],
            "_model_module": "@jupyter-widgets/controls",
            "_model_module_version": "1.5.0",
            "_model_name": "HTMLModel",
            "_view_count": null,
            "_view_module": "@jupyter-widgets/controls",
            "_view_module_version": "1.5.0",
            "_view_name": "HTMLView",
            "description": "",
            "description_tooltip": null,
            "layout": "IPY_MODEL_4c2c2833801545758891a439215bff9c",
            "placeholder": "​",
            "style": "IPY_MODEL_42db621aa4b74e2691809fd6d3c6395e",
            "value": "Downloading (…)olve/main/vocab.json: 100%"
          }
        },
        "629ef7df5d2f4f52a4d503b4f6b22358": {
          "model_module": "@jupyter-widgets/controls",
          "model_name": "FloatProgressModel",
          "model_module_version": "1.5.0",
          "state": {
            "_dom_classes": [],
            "_model_module": "@jupyter-widgets/controls",
            "_model_module_version": "1.5.0",
            "_model_name": "FloatProgressModel",
            "_view_count": null,
            "_view_module": "@jupyter-widgets/controls",
            "_view_module_version": "1.5.0",
            "_view_name": "ProgressView",
            "bar_style": "success",
            "description": "",
            "description_tooltip": null,
            "layout": "IPY_MODEL_a24a4d3fa2a042e39f8ba79cbbe860fe",
            "max": 1042301,
            "min": 0,
            "orientation": "horizontal",
            "style": "IPY_MODEL_114a17b939794ce5b6761628e74227c4",
            "value": 1042301
          }
        },
        "c7bc23305d20445a961393f22165a775": {
          "model_module": "@jupyter-widgets/controls",
          "model_name": "HTMLModel",
          "model_module_version": "1.5.0",
          "state": {
            "_dom_classes": [],
            "_model_module": "@jupyter-widgets/controls",
            "_model_module_version": "1.5.0",
            "_model_name": "HTMLModel",
            "_view_count": null,
            "_view_module": "@jupyter-widgets/controls",
            "_view_module_version": "1.5.0",
            "_view_name": "HTMLView",
            "description": "",
            "description_tooltip": null,
            "layout": "IPY_MODEL_91780d8968b54478b2aea589049fefb0",
            "placeholder": "​",
            "style": "IPY_MODEL_7cd18ce9f4fe4845bfec6edc2c5887f4",
            "value": " 1.04M/1.04M [00:00&lt;00:00, 1.23MB/s]"
          }
        },
        "8dfb18b5306b4f1c9110167941435f58": {
          "model_module": "@jupyter-widgets/base",
          "model_name": "LayoutModel",
          "model_module_version": "1.2.0",
          "state": {
            "_model_module": "@jupyter-widgets/base",
            "_model_module_version": "1.2.0",
            "_model_name": "LayoutModel",
            "_view_count": null,
            "_view_module": "@jupyter-widgets/base",
            "_view_module_version": "1.2.0",
            "_view_name": "LayoutView",
            "align_content": null,
            "align_items": null,
            "align_self": null,
            "border": null,
            "bottom": null,
            "display": null,
            "flex": null,
            "flex_flow": null,
            "grid_area": null,
            "grid_auto_columns": null,
            "grid_auto_flow": null,
            "grid_auto_rows": null,
            "grid_column": null,
            "grid_gap": null,
            "grid_row": null,
            "grid_template_areas": null,
            "grid_template_columns": null,
            "grid_template_rows": null,
            "height": null,
            "justify_content": null,
            "justify_items": null,
            "left": null,
            "margin": null,
            "max_height": null,
            "max_width": null,
            "min_height": null,
            "min_width": null,
            "object_fit": null,
            "object_position": null,
            "order": null,
            "overflow": null,
            "overflow_x": null,
            "overflow_y": null,
            "padding": null,
            "right": null,
            "top": null,
            "visibility": null,
            "width": null
          }
        },
        "4c2c2833801545758891a439215bff9c": {
          "model_module": "@jupyter-widgets/base",
          "model_name": "LayoutModel",
          "model_module_version": "1.2.0",
          "state": {
            "_model_module": "@jupyter-widgets/base",
            "_model_module_version": "1.2.0",
            "_model_name": "LayoutModel",
            "_view_count": null,
            "_view_module": "@jupyter-widgets/base",
            "_view_module_version": "1.2.0",
            "_view_name": "LayoutView",
            "align_content": null,
            "align_items": null,
            "align_self": null,
            "border": null,
            "bottom": null,
            "display": null,
            "flex": null,
            "flex_flow": null,
            "grid_area": null,
            "grid_auto_columns": null,
            "grid_auto_flow": null,
            "grid_auto_rows": null,
            "grid_column": null,
            "grid_gap": null,
            "grid_row": null,
            "grid_template_areas": null,
            "grid_template_columns": null,
            "grid_template_rows": null,
            "height": null,
            "justify_content": null,
            "justify_items": null,
            "left": null,
            "margin": null,
            "max_height": null,
            "max_width": null,
            "min_height": null,
            "min_width": null,
            "object_fit": null,
            "object_position": null,
            "order": null,
            "overflow": null,
            "overflow_x": null,
            "overflow_y": null,
            "padding": null,
            "right": null,
            "top": null,
            "visibility": null,
            "width": null
          }
        },
        "42db621aa4b74e2691809fd6d3c6395e": {
          "model_module": "@jupyter-widgets/controls",
          "model_name": "DescriptionStyleModel",
          "model_module_version": "1.5.0",
          "state": {
            "_model_module": "@jupyter-widgets/controls",
            "_model_module_version": "1.5.0",
            "_model_name": "DescriptionStyleModel",
            "_view_count": null,
            "_view_module": "@jupyter-widgets/base",
            "_view_module_version": "1.2.0",
            "_view_name": "StyleView",
            "description_width": ""
          }
        },
        "a24a4d3fa2a042e39f8ba79cbbe860fe": {
          "model_module": "@jupyter-widgets/base",
          "model_name": "LayoutModel",
          "model_module_version": "1.2.0",
          "state": {
            "_model_module": "@jupyter-widgets/base",
            "_model_module_version": "1.2.0",
            "_model_name": "LayoutModel",
            "_view_count": null,
            "_view_module": "@jupyter-widgets/base",
            "_view_module_version": "1.2.0",
            "_view_name": "LayoutView",
            "align_content": null,
            "align_items": null,
            "align_self": null,
            "border": null,
            "bottom": null,
            "display": null,
            "flex": null,
            "flex_flow": null,
            "grid_area": null,
            "grid_auto_columns": null,
            "grid_auto_flow": null,
            "grid_auto_rows": null,
            "grid_column": null,
            "grid_gap": null,
            "grid_row": null,
            "grid_template_areas": null,
            "grid_template_columns": null,
            "grid_template_rows": null,
            "height": null,
            "justify_content": null,
            "justify_items": null,
            "left": null,
            "margin": null,
            "max_height": null,
            "max_width": null,
            "min_height": null,
            "min_width": null,
            "object_fit": null,
            "object_position": null,
            "order": null,
            "overflow": null,
            "overflow_x": null,
            "overflow_y": null,
            "padding": null,
            "right": null,
            "top": null,
            "visibility": null,
            "width": null
          }
        },
        "114a17b939794ce5b6761628e74227c4": {
          "model_module": "@jupyter-widgets/controls",
          "model_name": "ProgressStyleModel",
          "model_module_version": "1.5.0",
          "state": {
            "_model_module": "@jupyter-widgets/controls",
            "_model_module_version": "1.5.0",
            "_model_name": "ProgressStyleModel",
            "_view_count": null,
            "_view_module": "@jupyter-widgets/base",
            "_view_module_version": "1.2.0",
            "_view_name": "StyleView",
            "bar_color": null,
            "description_width": ""
          }
        },
        "91780d8968b54478b2aea589049fefb0": {
          "model_module": "@jupyter-widgets/base",
          "model_name": "LayoutModel",
          "model_module_version": "1.2.0",
          "state": {
            "_model_module": "@jupyter-widgets/base",
            "_model_module_version": "1.2.0",
            "_model_name": "LayoutModel",
            "_view_count": null,
            "_view_module": "@jupyter-widgets/base",
            "_view_module_version": "1.2.0",
            "_view_name": "LayoutView",
            "align_content": null,
            "align_items": null,
            "align_self": null,
            "border": null,
            "bottom": null,
            "display": null,
            "flex": null,
            "flex_flow": null,
            "grid_area": null,
            "grid_auto_columns": null,
            "grid_auto_flow": null,
            "grid_auto_rows": null,
            "grid_column": null,
            "grid_gap": null,
            "grid_row": null,
            "grid_template_areas": null,
            "grid_template_columns": null,
            "grid_template_rows": null,
            "height": null,
            "justify_content": null,
            "justify_items": null,
            "left": null,
            "margin": null,
            "max_height": null,
            "max_width": null,
            "min_height": null,
            "min_width": null,
            "object_fit": null,
            "object_position": null,
            "order": null,
            "overflow": null,
            "overflow_x": null,
            "overflow_y": null,
            "padding": null,
            "right": null,
            "top": null,
            "visibility": null,
            "width": null
          }
        },
        "7cd18ce9f4fe4845bfec6edc2c5887f4": {
          "model_module": "@jupyter-widgets/controls",
          "model_name": "DescriptionStyleModel",
          "model_module_version": "1.5.0",
          "state": {
            "_model_module": "@jupyter-widgets/controls",
            "_model_module_version": "1.5.0",
            "_model_name": "DescriptionStyleModel",
            "_view_count": null,
            "_view_module": "@jupyter-widgets/base",
            "_view_module_version": "1.2.0",
            "_view_name": "StyleView",
            "description_width": ""
          }
        },
        "fc9ea78413b94672a331f4511a02deb8": {
          "model_module": "@jupyter-widgets/controls",
          "model_name": "HBoxModel",
          "model_module_version": "1.5.0",
          "state": {
            "_dom_classes": [],
            "_model_module": "@jupyter-widgets/controls",
            "_model_module_version": "1.5.0",
            "_model_name": "HBoxModel",
            "_view_count": null,
            "_view_module": "@jupyter-widgets/controls",
            "_view_module_version": "1.5.0",
            "_view_name": "HBoxView",
            "box_style": "",
            "children": [
              "IPY_MODEL_6ad512a9360d43b39d0d1daf9e2a8290",
              "IPY_MODEL_3d304c379db9444ca41a46c6184a2976",
              "IPY_MODEL_5ea1c5857a2b4128b2efe92ff0e65520"
            ],
            "layout": "IPY_MODEL_4268a6db9b484f0cb6bf58afd5390f97"
          }
        },
        "6ad512a9360d43b39d0d1daf9e2a8290": {
          "model_module": "@jupyter-widgets/controls",
          "model_name": "HTMLModel",
          "model_module_version": "1.5.0",
          "state": {
            "_dom_classes": [],
            "_model_module": "@jupyter-widgets/controls",
            "_model_module_version": "1.5.0",
            "_model_name": "HTMLModel",
            "_view_count": null,
            "_view_module": "@jupyter-widgets/controls",
            "_view_module_version": "1.5.0",
            "_view_name": "HTMLView",
            "description": "",
            "description_tooltip": null,
            "layout": "IPY_MODEL_91cc86861e264fff89fac99c11436933",
            "placeholder": "​",
            "style": "IPY_MODEL_636755cc8e004f27acac73634c4f166b",
            "value": "Downloading (…)olve/main/merges.txt: 100%"
          }
        },
        "3d304c379db9444ca41a46c6184a2976": {
          "model_module": "@jupyter-widgets/controls",
          "model_name": "FloatProgressModel",
          "model_module_version": "1.5.0",
          "state": {
            "_dom_classes": [],
            "_model_module": "@jupyter-widgets/controls",
            "_model_module_version": "1.5.0",
            "_model_name": "FloatProgressModel",
            "_view_count": null,
            "_view_module": "@jupyter-widgets/controls",
            "_view_module_version": "1.5.0",
            "_view_name": "ProgressView",
            "bar_style": "success",
            "description": "",
            "description_tooltip": null,
            "layout": "IPY_MODEL_788d1aebf4d844d1bdc7cd5e399917b4",
            "max": 456318,
            "min": 0,
            "orientation": "horizontal",
            "style": "IPY_MODEL_f5b3bd2caece4cd7b378e13120cae326",
            "value": 456318
          }
        },
        "5ea1c5857a2b4128b2efe92ff0e65520": {
          "model_module": "@jupyter-widgets/controls",
          "model_name": "HTMLModel",
          "model_module_version": "1.5.0",
          "state": {
            "_dom_classes": [],
            "_model_module": "@jupyter-widgets/controls",
            "_model_module_version": "1.5.0",
            "_model_name": "HTMLModel",
            "_view_count": null,
            "_view_module": "@jupyter-widgets/controls",
            "_view_module_version": "1.5.0",
            "_view_name": "HTMLView",
            "description": "",
            "description_tooltip": null,
            "layout": "IPY_MODEL_4d6d6458dd464dd7b27787992c40fb1e",
            "placeholder": "​",
            "style": "IPY_MODEL_a2eb72c7e85c4cc2b4df1124d8d902b6",
            "value": " 456k/456k [00:00&lt;00:00, 6.11MB/s]"
          }
        },
        "4268a6db9b484f0cb6bf58afd5390f97": {
          "model_module": "@jupyter-widgets/base",
          "model_name": "LayoutModel",
          "model_module_version": "1.2.0",
          "state": {
            "_model_module": "@jupyter-widgets/base",
            "_model_module_version": "1.2.0",
            "_model_name": "LayoutModel",
            "_view_count": null,
            "_view_module": "@jupyter-widgets/base",
            "_view_module_version": "1.2.0",
            "_view_name": "LayoutView",
            "align_content": null,
            "align_items": null,
            "align_self": null,
            "border": null,
            "bottom": null,
            "display": null,
            "flex": null,
            "flex_flow": null,
            "grid_area": null,
            "grid_auto_columns": null,
            "grid_auto_flow": null,
            "grid_auto_rows": null,
            "grid_column": null,
            "grid_gap": null,
            "grid_row": null,
            "grid_template_areas": null,
            "grid_template_columns": null,
            "grid_template_rows": null,
            "height": null,
            "justify_content": null,
            "justify_items": null,
            "left": null,
            "margin": null,
            "max_height": null,
            "max_width": null,
            "min_height": null,
            "min_width": null,
            "object_fit": null,
            "object_position": null,
            "order": null,
            "overflow": null,
            "overflow_x": null,
            "overflow_y": null,
            "padding": null,
            "right": null,
            "top": null,
            "visibility": null,
            "width": null
          }
        },
        "91cc86861e264fff89fac99c11436933": {
          "model_module": "@jupyter-widgets/base",
          "model_name": "LayoutModel",
          "model_module_version": "1.2.0",
          "state": {
            "_model_module": "@jupyter-widgets/base",
            "_model_module_version": "1.2.0",
            "_model_name": "LayoutModel",
            "_view_count": null,
            "_view_module": "@jupyter-widgets/base",
            "_view_module_version": "1.2.0",
            "_view_name": "LayoutView",
            "align_content": null,
            "align_items": null,
            "align_self": null,
            "border": null,
            "bottom": null,
            "display": null,
            "flex": null,
            "flex_flow": null,
            "grid_area": null,
            "grid_auto_columns": null,
            "grid_auto_flow": null,
            "grid_auto_rows": null,
            "grid_column": null,
            "grid_gap": null,
            "grid_row": null,
            "grid_template_areas": null,
            "grid_template_columns": null,
            "grid_template_rows": null,
            "height": null,
            "justify_content": null,
            "justify_items": null,
            "left": null,
            "margin": null,
            "max_height": null,
            "max_width": null,
            "min_height": null,
            "min_width": null,
            "object_fit": null,
            "object_position": null,
            "order": null,
            "overflow": null,
            "overflow_x": null,
            "overflow_y": null,
            "padding": null,
            "right": null,
            "top": null,
            "visibility": null,
            "width": null
          }
        },
        "636755cc8e004f27acac73634c4f166b": {
          "model_module": "@jupyter-widgets/controls",
          "model_name": "DescriptionStyleModel",
          "model_module_version": "1.5.0",
          "state": {
            "_model_module": "@jupyter-widgets/controls",
            "_model_module_version": "1.5.0",
            "_model_name": "DescriptionStyleModel",
            "_view_count": null,
            "_view_module": "@jupyter-widgets/base",
            "_view_module_version": "1.2.0",
            "_view_name": "StyleView",
            "description_width": ""
          }
        },
        "788d1aebf4d844d1bdc7cd5e399917b4": {
          "model_module": "@jupyter-widgets/base",
          "model_name": "LayoutModel",
          "model_module_version": "1.2.0",
          "state": {
            "_model_module": "@jupyter-widgets/base",
            "_model_module_version": "1.2.0",
            "_model_name": "LayoutModel",
            "_view_count": null,
            "_view_module": "@jupyter-widgets/base",
            "_view_module_version": "1.2.0",
            "_view_name": "LayoutView",
            "align_content": null,
            "align_items": null,
            "align_self": null,
            "border": null,
            "bottom": null,
            "display": null,
            "flex": null,
            "flex_flow": null,
            "grid_area": null,
            "grid_auto_columns": null,
            "grid_auto_flow": null,
            "grid_auto_rows": null,
            "grid_column": null,
            "grid_gap": null,
            "grid_row": null,
            "grid_template_areas": null,
            "grid_template_columns": null,
            "grid_template_rows": null,
            "height": null,
            "justify_content": null,
            "justify_items": null,
            "left": null,
            "margin": null,
            "max_height": null,
            "max_width": null,
            "min_height": null,
            "min_width": null,
            "object_fit": null,
            "object_position": null,
            "order": null,
            "overflow": null,
            "overflow_x": null,
            "overflow_y": null,
            "padding": null,
            "right": null,
            "top": null,
            "visibility": null,
            "width": null
          }
        },
        "f5b3bd2caece4cd7b378e13120cae326": {
          "model_module": "@jupyter-widgets/controls",
          "model_name": "ProgressStyleModel",
          "model_module_version": "1.5.0",
          "state": {
            "_model_module": "@jupyter-widgets/controls",
            "_model_module_version": "1.5.0",
            "_model_name": "ProgressStyleModel",
            "_view_count": null,
            "_view_module": "@jupyter-widgets/base",
            "_view_module_version": "1.2.0",
            "_view_name": "StyleView",
            "bar_color": null,
            "description_width": ""
          }
        },
        "4d6d6458dd464dd7b27787992c40fb1e": {
          "model_module": "@jupyter-widgets/base",
          "model_name": "LayoutModel",
          "model_module_version": "1.2.0",
          "state": {
            "_model_module": "@jupyter-widgets/base",
            "_model_module_version": "1.2.0",
            "_model_name": "LayoutModel",
            "_view_count": null,
            "_view_module": "@jupyter-widgets/base",
            "_view_module_version": "1.2.0",
            "_view_name": "LayoutView",
            "align_content": null,
            "align_items": null,
            "align_self": null,
            "border": null,
            "bottom": null,
            "display": null,
            "flex": null,
            "flex_flow": null,
            "grid_area": null,
            "grid_auto_columns": null,
            "grid_auto_flow": null,
            "grid_auto_rows": null,
            "grid_column": null,
            "grid_gap": null,
            "grid_row": null,
            "grid_template_areas": null,
            "grid_template_columns": null,
            "grid_template_rows": null,
            "height": null,
            "justify_content": null,
            "justify_items": null,
            "left": null,
            "margin": null,
            "max_height": null,
            "max_width": null,
            "min_height": null,
            "min_width": null,
            "object_fit": null,
            "object_position": null,
            "order": null,
            "overflow": null,
            "overflow_x": null,
            "overflow_y": null,
            "padding": null,
            "right": null,
            "top": null,
            "visibility": null,
            "width": null
          }
        },
        "a2eb72c7e85c4cc2b4df1124d8d902b6": {
          "model_module": "@jupyter-widgets/controls",
          "model_name": "DescriptionStyleModel",
          "model_module_version": "1.5.0",
          "state": {
            "_model_module": "@jupyter-widgets/controls",
            "_model_module_version": "1.5.0",
            "_model_name": "DescriptionStyleModel",
            "_view_count": null,
            "_view_module": "@jupyter-widgets/base",
            "_view_module_version": "1.2.0",
            "_view_name": "StyleView",
            "description_width": ""
          }
        },
        "4726d0ebc3c5405499c6e8aac3eb2528": {
          "model_module": "@jupyter-widgets/controls",
          "model_name": "HBoxModel",
          "model_module_version": "1.5.0",
          "state": {
            "_dom_classes": [],
            "_model_module": "@jupyter-widgets/controls",
            "_model_module_version": "1.5.0",
            "_model_name": "HBoxModel",
            "_view_count": null,
            "_view_module": "@jupyter-widgets/controls",
            "_view_module_version": "1.5.0",
            "_view_name": "HBoxView",
            "box_style": "",
            "children": [
              "IPY_MODEL_d201ad37bdf1466ba913685fad0bbda5",
              "IPY_MODEL_158f3c9bd98d413dbd7fdc833668faf7",
              "IPY_MODEL_1808956b4950493fb1696c6ac679bed4"
            ],
            "layout": "IPY_MODEL_dfe53844c086426e9fb4594ae0878526"
          }
        },
        "d201ad37bdf1466ba913685fad0bbda5": {
          "model_module": "@jupyter-widgets/controls",
          "model_name": "HTMLModel",
          "model_module_version": "1.5.0",
          "state": {
            "_dom_classes": [],
            "_model_module": "@jupyter-widgets/controls",
            "_model_module_version": "1.5.0",
            "_model_name": "HTMLModel",
            "_view_count": null,
            "_view_module": "@jupyter-widgets/controls",
            "_view_module_version": "1.5.0",
            "_view_name": "HTMLView",
            "description": "",
            "description_tooltip": null,
            "layout": "IPY_MODEL_27157e3000de49d68f1b646966635287",
            "placeholder": "​",
            "style": "IPY_MODEL_0b85299f7aa24ffbaa1673dd28acb215",
            "value": "Downloading (…)lve/main/config.json: 100%"
          }
        },
        "158f3c9bd98d413dbd7fdc833668faf7": {
          "model_module": "@jupyter-widgets/controls",
          "model_name": "FloatProgressModel",
          "model_module_version": "1.5.0",
          "state": {
            "_dom_classes": [],
            "_model_module": "@jupyter-widgets/controls",
            "_model_module_version": "1.5.0",
            "_model_name": "FloatProgressModel",
            "_view_count": null,
            "_view_module": "@jupyter-widgets/controls",
            "_view_module_version": "1.5.0",
            "_view_name": "ProgressView",
            "bar_style": "success",
            "description": "",
            "description_tooltip": null,
            "layout": "IPY_MODEL_5daa328fcb1c4ccf8a26ea77e7af14dc",
            "max": 665,
            "min": 0,
            "orientation": "horizontal",
            "style": "IPY_MODEL_9983401384cf47bdb9e10b178b6ac976",
            "value": 665
          }
        },
        "1808956b4950493fb1696c6ac679bed4": {
          "model_module": "@jupyter-widgets/controls",
          "model_name": "HTMLModel",
          "model_module_version": "1.5.0",
          "state": {
            "_dom_classes": [],
            "_model_module": "@jupyter-widgets/controls",
            "_model_module_version": "1.5.0",
            "_model_name": "HTMLModel",
            "_view_count": null,
            "_view_module": "@jupyter-widgets/controls",
            "_view_module_version": "1.5.0",
            "_view_name": "HTMLView",
            "description": "",
            "description_tooltip": null,
            "layout": "IPY_MODEL_a2a1cd2e15f94e46b5cadf7113d64036",
            "placeholder": "​",
            "style": "IPY_MODEL_0661c475b2e84fae9d6c63ae9cb8489f",
            "value": " 665/665 [00:00&lt;00:00, 26.2kB/s]"
          }
        },
        "dfe53844c086426e9fb4594ae0878526": {
          "model_module": "@jupyter-widgets/base",
          "model_name": "LayoutModel",
          "model_module_version": "1.2.0",
          "state": {
            "_model_module": "@jupyter-widgets/base",
            "_model_module_version": "1.2.0",
            "_model_name": "LayoutModel",
            "_view_count": null,
            "_view_module": "@jupyter-widgets/base",
            "_view_module_version": "1.2.0",
            "_view_name": "LayoutView",
            "align_content": null,
            "align_items": null,
            "align_self": null,
            "border": null,
            "bottom": null,
            "display": null,
            "flex": null,
            "flex_flow": null,
            "grid_area": null,
            "grid_auto_columns": null,
            "grid_auto_flow": null,
            "grid_auto_rows": null,
            "grid_column": null,
            "grid_gap": null,
            "grid_row": null,
            "grid_template_areas": null,
            "grid_template_columns": null,
            "grid_template_rows": null,
            "height": null,
            "justify_content": null,
            "justify_items": null,
            "left": null,
            "margin": null,
            "max_height": null,
            "max_width": null,
            "min_height": null,
            "min_width": null,
            "object_fit": null,
            "object_position": null,
            "order": null,
            "overflow": null,
            "overflow_x": null,
            "overflow_y": null,
            "padding": null,
            "right": null,
            "top": null,
            "visibility": null,
            "width": null
          }
        },
        "27157e3000de49d68f1b646966635287": {
          "model_module": "@jupyter-widgets/base",
          "model_name": "LayoutModel",
          "model_module_version": "1.2.0",
          "state": {
            "_model_module": "@jupyter-widgets/base",
            "_model_module_version": "1.2.0",
            "_model_name": "LayoutModel",
            "_view_count": null,
            "_view_module": "@jupyter-widgets/base",
            "_view_module_version": "1.2.0",
            "_view_name": "LayoutView",
            "align_content": null,
            "align_items": null,
            "align_self": null,
            "border": null,
            "bottom": null,
            "display": null,
            "flex": null,
            "flex_flow": null,
            "grid_area": null,
            "grid_auto_columns": null,
            "grid_auto_flow": null,
            "grid_auto_rows": null,
            "grid_column": null,
            "grid_gap": null,
            "grid_row": null,
            "grid_template_areas": null,
            "grid_template_columns": null,
            "grid_template_rows": null,
            "height": null,
            "justify_content": null,
            "justify_items": null,
            "left": null,
            "margin": null,
            "max_height": null,
            "max_width": null,
            "min_height": null,
            "min_width": null,
            "object_fit": null,
            "object_position": null,
            "order": null,
            "overflow": null,
            "overflow_x": null,
            "overflow_y": null,
            "padding": null,
            "right": null,
            "top": null,
            "visibility": null,
            "width": null
          }
        },
        "0b85299f7aa24ffbaa1673dd28acb215": {
          "model_module": "@jupyter-widgets/controls",
          "model_name": "DescriptionStyleModel",
          "model_module_version": "1.5.0",
          "state": {
            "_model_module": "@jupyter-widgets/controls",
            "_model_module_version": "1.5.0",
            "_model_name": "DescriptionStyleModel",
            "_view_count": null,
            "_view_module": "@jupyter-widgets/base",
            "_view_module_version": "1.2.0",
            "_view_name": "StyleView",
            "description_width": ""
          }
        },
        "5daa328fcb1c4ccf8a26ea77e7af14dc": {
          "model_module": "@jupyter-widgets/base",
          "model_name": "LayoutModel",
          "model_module_version": "1.2.0",
          "state": {
            "_model_module": "@jupyter-widgets/base",
            "_model_module_version": "1.2.0",
            "_model_name": "LayoutModel",
            "_view_count": null,
            "_view_module": "@jupyter-widgets/base",
            "_view_module_version": "1.2.0",
            "_view_name": "LayoutView",
            "align_content": null,
            "align_items": null,
            "align_self": null,
            "border": null,
            "bottom": null,
            "display": null,
            "flex": null,
            "flex_flow": null,
            "grid_area": null,
            "grid_auto_columns": null,
            "grid_auto_flow": null,
            "grid_auto_rows": null,
            "grid_column": null,
            "grid_gap": null,
            "grid_row": null,
            "grid_template_areas": null,
            "grid_template_columns": null,
            "grid_template_rows": null,
            "height": null,
            "justify_content": null,
            "justify_items": null,
            "left": null,
            "margin": null,
            "max_height": null,
            "max_width": null,
            "min_height": null,
            "min_width": null,
            "object_fit": null,
            "object_position": null,
            "order": null,
            "overflow": null,
            "overflow_x": null,
            "overflow_y": null,
            "padding": null,
            "right": null,
            "top": null,
            "visibility": null,
            "width": null
          }
        },
        "9983401384cf47bdb9e10b178b6ac976": {
          "model_module": "@jupyter-widgets/controls",
          "model_name": "ProgressStyleModel",
          "model_module_version": "1.5.0",
          "state": {
            "_model_module": "@jupyter-widgets/controls",
            "_model_module_version": "1.5.0",
            "_model_name": "ProgressStyleModel",
            "_view_count": null,
            "_view_module": "@jupyter-widgets/base",
            "_view_module_version": "1.2.0",
            "_view_name": "StyleView",
            "bar_color": null,
            "description_width": ""
          }
        },
        "a2a1cd2e15f94e46b5cadf7113d64036": {
          "model_module": "@jupyter-widgets/base",
          "model_name": "LayoutModel",
          "model_module_version": "1.2.0",
          "state": {
            "_model_module": "@jupyter-widgets/base",
            "_model_module_version": "1.2.0",
            "_model_name": "LayoutModel",
            "_view_count": null,
            "_view_module": "@jupyter-widgets/base",
            "_view_module_version": "1.2.0",
            "_view_name": "LayoutView",
            "align_content": null,
            "align_items": null,
            "align_self": null,
            "border": null,
            "bottom": null,
            "display": null,
            "flex": null,
            "flex_flow": null,
            "grid_area": null,
            "grid_auto_columns": null,
            "grid_auto_flow": null,
            "grid_auto_rows": null,
            "grid_column": null,
            "grid_gap": null,
            "grid_row": null,
            "grid_template_areas": null,
            "grid_template_columns": null,
            "grid_template_rows": null,
            "height": null,
            "justify_content": null,
            "justify_items": null,
            "left": null,
            "margin": null,
            "max_height": null,
            "max_width": null,
            "min_height": null,
            "min_width": null,
            "object_fit": null,
            "object_position": null,
            "order": null,
            "overflow": null,
            "overflow_x": null,
            "overflow_y": null,
            "padding": null,
            "right": null,
            "top": null,
            "visibility": null,
            "width": null
          }
        },
        "0661c475b2e84fae9d6c63ae9cb8489f": {
          "model_module": "@jupyter-widgets/controls",
          "model_name": "DescriptionStyleModel",
          "model_module_version": "1.5.0",
          "state": {
            "_model_module": "@jupyter-widgets/controls",
            "_model_module_version": "1.5.0",
            "_model_name": "DescriptionStyleModel",
            "_view_count": null,
            "_view_module": "@jupyter-widgets/base",
            "_view_module_version": "1.2.0",
            "_view_name": "StyleView",
            "description_width": ""
          }
        }
      }
    }
  },
  "nbformat": 4,
  "nbformat_minor": 0
}