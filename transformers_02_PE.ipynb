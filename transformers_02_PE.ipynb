{
  "cells": [
    {
      "cell_type": "markdown",
      "metadata": {
        "id": "view-in-github",
        "colab_type": "text"
      },
      "source": [
        "<a href=\"https://colab.research.google.com/github/ML-Guy/tutorials_transformers/blob/main/transformers_02_PE.ipynb\" target=\"_parent\"><img src=\"https://colab.research.google.com/assets/colab-badge.svg\" alt=\"Open In Colab\"/></a>"
      ]
    },
    {
      "cell_type": "markdown",
      "metadata": {
        "id": "wJpXpmjEYC_T"
      },
      "source": [
        "\n",
        "# Positional Encoding in Transformers\n",
        "\n",
        "* The traditional approach of PE using sinusoidal positional encoding or learnable embedding adds positional information to the input embeddings before feeding them into the Transformer layers.\n",
        "* Paper is \"Rethinking Positional Encoding in Language Pre-training\" by Wang et al. presents an alternative approach which incorporates positional information inside the attention blocks rather than at the input level.\n",
        "* It inspired further development, most notebly, Relative PE (T5), RoPe (roformer, llama), AliBi (MPT) mechanisms."
      ]
    },
    {
      "cell_type": "code",
      "execution_count": null,
      "metadata": {
        "id": "b79cQ218-yDF",
        "colab": {
          "base_uri": "https://localhost:8080/"
        },
        "outputId": "6987a104-4c85-4894-da9f-7b93e061010f"
      },
      "outputs": [
        {
          "output_type": "stream",
          "name": "stdout",
          "text": [
            "\u001b[2K     \u001b[90m━━━━━━━━━━━━━━━━━━━━━━━━━━━━━━━━━━━━━━━━\u001b[0m \u001b[32m42.2/42.2 kB\u001b[0m \u001b[31m1.5 MB/s\u001b[0m eta \u001b[36m0:00:00\u001b[0m\n",
            "\u001b[2K     \u001b[90m━━━━━━━━━━━━━━━━━━━━━━━━━━━━━━━━━━━━━━━━\u001b[0m \u001b[32m7.4/7.4 MB\u001b[0m \u001b[31m76.3 MB/s\u001b[0m eta \u001b[36m0:00:00\u001b[0m\n",
            "\u001b[2K     \u001b[90m━━━━━━━━━━━━━━━━━━━━━━━━━━━━━━━━━━━━━━━━\u001b[0m \u001b[32m2.1/2.1 MB\u001b[0m \u001b[31m87.5 MB/s\u001b[0m eta \u001b[36m0:00:00\u001b[0m\n",
            "\u001b[2K     \u001b[90m━━━━━━━━━━━━━━━━━━━━━━━━━━━━━━━━━━━━━━\u001b[0m \u001b[32m268.8/268.8 kB\u001b[0m \u001b[31m31.0 MB/s\u001b[0m eta \u001b[36m0:00:00\u001b[0m\n",
            "\u001b[2K     \u001b[90m━━━━━━━━━━━━━━━━━━━━━━━━━━━━━━━━━━━━━━━━\u001b[0m \u001b[32m7.8/7.8 MB\u001b[0m \u001b[31m107.2 MB/s\u001b[0m eta \u001b[36m0:00:00\u001b[0m\n",
            "\u001b[2K     \u001b[90m━━━━━━━━━━━━━━━━━━━━━━━━━━━━━━━━━━━━━━━━\u001b[0m \u001b[32m1.3/1.3 MB\u001b[0m \u001b[31m62.9 MB/s\u001b[0m eta \u001b[36m0:00:00\u001b[0m\n",
            "\u001b[2K     \u001b[90m━━━━━━━━━━━━━━━━━━━━━━━━━━━━━━━━━━━━━━\u001b[0m \u001b[32m188.5/188.5 kB\u001b[0m \u001b[31m22.3 MB/s\u001b[0m eta \u001b[36m0:00:00\u001b[0m\n",
            "\u001b[2K     \u001b[90m━━━━━━━━━━━━━━━━━━━━━━━━━━━━━━━━━━━━━━\u001b[0m \u001b[32m214.7/214.7 kB\u001b[0m \u001b[31m26.8 MB/s\u001b[0m eta \u001b[36m0:00:00\u001b[0m\n",
            "\u001b[?25h  Preparing metadata (setup.py) ... \u001b[?25l\u001b[?25hdone\n",
            "\u001b[2K     \u001b[90m━━━━━━━━━━━━━━━━━━━━━━━━━━━━━━━━━━━━━━━━\u001b[0m \u001b[32m62.7/62.7 kB\u001b[0m \u001b[31m8.1 MB/s\u001b[0m eta \u001b[36m0:00:00\u001b[0m\n",
            "\u001b[?25h  Building wheel for pathtools (setup.py) ... \u001b[?25l\u001b[?25hdone\n"
          ]
        }
      ],
      "source": [
        "%pip install einops transformers rotary-embedding-torch wandb -q"
      ]
    },
    {
      "cell_type": "code",
      "source": [
        "import wandb\n",
        "wandb.login()"
      ],
      "metadata": {
        "colab": {
          "base_uri": "https://localhost:8080/",
          "height": 121
        },
        "id": "wSKhLlOyqL_u",
        "outputId": "39313313-e7f0-4321-ce7e-ee333e761fa2"
      },
      "execution_count": null,
      "outputs": [
        {
          "output_type": "display_data",
          "data": {
            "text/plain": [
              "<IPython.core.display.Javascript object>"
            ],
            "application/javascript": [
              "\n",
              "        window._wandbApiKey = new Promise((resolve, reject) => {\n",
              "            function loadScript(url) {\n",
              "            return new Promise(function(resolve, reject) {\n",
              "                let newScript = document.createElement(\"script\");\n",
              "                newScript.onerror = reject;\n",
              "                newScript.onload = resolve;\n",
              "                document.body.appendChild(newScript);\n",
              "                newScript.src = url;\n",
              "            });\n",
              "            }\n",
              "            loadScript(\"https://cdn.jsdelivr.net/npm/postmate/build/postmate.min.js\").then(() => {\n",
              "            const iframe = document.createElement('iframe')\n",
              "            iframe.style.cssText = \"width:0;height:0;border:none\"\n",
              "            document.body.appendChild(iframe)\n",
              "            const handshake = new Postmate({\n",
              "                container: iframe,\n",
              "                url: 'https://wandb.ai/authorize'\n",
              "            });\n",
              "            const timeout = setTimeout(() => reject(\"Couldn't auto authenticate\"), 5000)\n",
              "            handshake.then(function(child) {\n",
              "                child.on('authorize', data => {\n",
              "                    clearTimeout(timeout)\n",
              "                    resolve(data)\n",
              "                });\n",
              "            });\n",
              "            })\n",
              "        });\n",
              "    "
            ]
          },
          "metadata": {}
        },
        {
          "output_type": "stream",
          "name": "stderr",
          "text": [
            "\u001b[34m\u001b[1mwandb\u001b[0m: Logging into wandb.ai. (Learn how to deploy a W&B server locally: https://wandb.me/wandb-server)\n",
            "\u001b[34m\u001b[1mwandb\u001b[0m: You can find your API key in your browser here: https://wandb.ai/authorize\n",
            "wandb: Paste an API key from your profile and hit enter, or press ctrl+c to quit:"
          ]
        },
        {
          "name": "stdout",
          "output_type": "stream",
          "text": [
            " ··········\n"
          ]
        },
        {
          "output_type": "stream",
          "name": "stderr",
          "text": [
            "\u001b[34m\u001b[1mwandb\u001b[0m: Appending key for api.wandb.ai to your netrc file: /root/.netrc\n"
          ]
        },
        {
          "output_type": "execute_result",
          "data": {
            "text/plain": [
              "True"
            ]
          },
          "metadata": {},
          "execution_count": 6
        }
      ]
    },
    {
      "cell_type": "code",
      "execution_count": null,
      "metadata": {
        "colab": {
          "base_uri": "https://localhost:8080/"
        },
        "id": "h5hjCcLDr2WC",
        "outputId": "642e1c9a-e77a-4228-b1f8-e92af46a936b"
      },
      "outputs": [
        {
          "output_type": "stream",
          "name": "stdout",
          "text": [
            "--2023-07-28 04:13:01--  https://raw.githubusercontent.com/karpathy/char-rnn/master/data/tinyshakespeare/input.txt\n",
            "Resolving raw.githubusercontent.com (raw.githubusercontent.com)... 185.199.111.133, 185.199.108.133, 185.199.109.133, ...\n",
            "Connecting to raw.githubusercontent.com (raw.githubusercontent.com)|185.199.111.133|:443... connected.\n",
            "HTTP request sent, awaiting response... 200 OK\n",
            "Length: 1115394 (1.1M) [text/plain]\n",
            "Saving to: ‘input.txt’\n",
            "\n",
            "\rinput.txt             0%[                    ]       0  --.-KB/s               \rinput.txt           100%[===================>]   1.06M  --.-KB/s    in 0.03s   \n",
            "\n",
            "2023-07-28 04:13:01 (36.3 MB/s) - ‘input.txt’ saved [1115394/1115394]\n",
            "\n"
          ]
        }
      ],
      "source": [
        "# We always start with a dataset to train on. Let's download the tiny shakespeare dataset\n",
        "!wget https://raw.githubusercontent.com/karpathy/char-rnn/master/data/tinyshakespeare/input.txt"
      ]
    },
    {
      "cell_type": "code",
      "execution_count": null,
      "metadata": {
        "id": "O6medjfRsLD9",
        "colab": {
          "base_uri": "https://localhost:8080/"
        },
        "outputId": "32002ffa-7471-49d5-9ca5-6067599ebe67"
      },
      "outputs": [
        {
          "output_type": "stream",
          "name": "stdout",
          "text": [
            "length of dataset in characters:  1115394\n"
          ]
        }
      ],
      "source": [
        "# read it in to inspect it\n",
        "with open('input.txt', 'r', encoding='utf-8') as f:\n",
        "    text = f.read()\n",
        "print(\"length of dataset in characters: \", len(text))"
      ]
    },
    {
      "cell_type": "markdown",
      "metadata": {
        "id": "UUoVRWEXSb70"
      },
      "source": [
        "# 1. Tokenizer"
      ]
    },
    {
      "cell_type": "code",
      "source": [
        "import torch\n",
        "from transformers import GPT2Tokenizer, GPT2LMHeadModel\n",
        "\n",
        "tokenizer = GPT2Tokenizer.from_pretrained('gpt2')\n",
        "tokenised_text=tokenizer.encode(text)\n",
        "vocab = sorted(list(set(tokenised_text)))\n",
        "\n",
        "# create a mapping from token_id to integers\n",
        "stoi = { t:i for i,t in enumerate(vocab) }\n",
        "itos = { i:t for i,t in enumerate(vocab) }\n",
        "encode = lambda s: [stoi[t] for t in tokenizer.encode(s)] # encoder: take a string, output a list of integers\n",
        "decode = lambda l: tokenizer.decode([itos[i] for i in l]) # decoder: take a list of integers, output a string\n",
        "print(f\"vocab_size: {len(vocab)}\")"
      ],
      "metadata": {
        "id": "ZL2hWbjXkQ6k",
        "colab": {
          "base_uri": "https://localhost:8080/",
          "height": 168,
          "referenced_widgets": [
            "2ce776654e89457cae0fac3001908419",
            "8af31df4932c41b19a39dd32b420bf3e",
            "2511f4675b774ab7bdab118f74eaefb6",
            "94cd62c693494956994a57a6658d1074",
            "e45f5f2c9105422b822ac682193b8278",
            "df9346d91e4049558ece0e78de53a8d4",
            "61773c190bc14e8c8ad7dd8f699b18c1",
            "a656cf51bcd3455c8ce6e9e642fd8dde",
            "0a768406717d4c0db8750f892997a4e0",
            "a42e67851c6044f2a5a59418bbbe919a",
            "056e551db1f64153a4ccbf06e5336c1e",
            "6934bee3797d4737a0146c738b39add7",
            "2483aaf47c92455ab3ee5a6a5c542cf0",
            "fddb0c5157b84f83b238dd78863fba3a",
            "9176a0899dfc411b8b56f5fca7a97453",
            "6c32ee0a80eb4aeb99d40dce69927512",
            "7c5e46c9142843aeaa7f6893970260dd",
            "788801fd16a943038321435f831b2dda",
            "4876b13963c545c4b84f08f5ef468582",
            "77822b1cc34547d7aae19da497f7b3ea",
            "74d0a86030d14d1fb1ecc63d823028a0",
            "d49aaec275224c498b1a92242e00ec68",
            "76f3bd04b0894b1b9f625c83f46f16b6",
            "01c533e70eaa45cc9bd4f71e2f19bddb",
            "d218577279b346a886d44c0d3a02ee37",
            "a3b9a6a103364961bf51d9cc81f07f44",
            "3030ccf5e6004eb5836b6d872c7ad593",
            "28b3143201de46d79e7cd19b22a52a49",
            "afd197df28e54c98a9be063ab8a5d305",
            "750c54b95b6f47d4a0b294227ffff0b0",
            "9fc64b2b689c40b480f9fa8c55599ac5",
            "92efc5417f604261adcba46799f58f9a",
            "5c81116b524444e3b6e2b1832d1af727"
          ]
        },
        "outputId": "a1922027-3bd7-46f2-b3a3-bfbdbfdb6bc2"
      },
      "execution_count": null,
      "outputs": [
        {
          "output_type": "display_data",
          "data": {
            "text/plain": [
              "Downloading (…)olve/main/vocab.json:   0%|          | 0.00/1.04M [00:00<?, ?B/s]"
            ],
            "application/vnd.jupyter.widget-view+json": {
              "version_major": 2,
              "version_minor": 0,
              "model_id": "2ce776654e89457cae0fac3001908419"
            }
          },
          "metadata": {}
        },
        {
          "output_type": "display_data",
          "data": {
            "text/plain": [
              "Downloading (…)olve/main/merges.txt:   0%|          | 0.00/456k [00:00<?, ?B/s]"
            ],
            "application/vnd.jupyter.widget-view+json": {
              "version_major": 2,
              "version_minor": 0,
              "model_id": "6934bee3797d4737a0146c738b39add7"
            }
          },
          "metadata": {}
        },
        {
          "output_type": "display_data",
          "data": {
            "text/plain": [
              "Downloading (…)lve/main/config.json:   0%|          | 0.00/665 [00:00<?, ?B/s]"
            ],
            "application/vnd.jupyter.widget-view+json": {
              "version_major": 2,
              "version_minor": 0,
              "model_id": "76f3bd04b0894b1b9f625c83f46f16b6"
            }
          },
          "metadata": {}
        },
        {
          "output_type": "stream",
          "name": "stderr",
          "text": [
            "Token indices sequence length is longer than the specified maximum sequence length for this model (338025 > 1024). Running this sequence through the model will result in indexing errors\n"
          ]
        },
        {
          "output_type": "stream",
          "name": "stdout",
          "text": [
            "vocab_size: 11706\n"
          ]
        }
      ]
    },
    {
      "cell_type": "markdown",
      "metadata": {
        "id": "tZbfnI3vTbQQ"
      },
      "source": [
        "# 2. Data Loader"
      ]
    },
    {
      "cell_type": "code",
      "execution_count": null,
      "metadata": {
        "id": "YJb0OXPwzvqg"
      },
      "outputs": [],
      "source": [
        "# let's now encode the entire text dataset and store it into a torch.Tensor\n",
        "import torch # we use PyTorch: https://pytorch.org\n",
        "data = torch.tensor(encode(text), dtype=torch.long)\n",
        "# Let's now split up the data into train and validation sets\n",
        "n = int(0.9*len(data)) # first 90% will be train, rest val\n",
        "train_data = data[:n]\n",
        "val_data = data[n:]\n",
        "\n",
        "def get_batch(split, device=\"cpu\"):\n",
        "    # generate a small batch of data of inputs x and targets y\n",
        "    data = train_data if split == 'train' else val_data\n",
        "    ix = torch.randint(len(data) - block_size, (batch_size,))\n",
        "    x = torch.stack([data[i:i+block_size] for i in ix])\n",
        "    y = torch.stack([data[i+1:i+block_size+1] for i in ix])\n",
        "    return x.to(device), y.to(device)"
      ]
    },
    {
      "cell_type": "markdown",
      "source": [
        "# Config"
      ],
      "metadata": {
        "id": "Y7yt6WUx14R-"
      }
    },
    {
      "cell_type": "code",
      "execution_count": null,
      "metadata": {
        "colab": {
          "base_uri": "https://localhost:8080/"
        },
        "id": "hoelkOrFY8bN",
        "outputId": "a1fee34b-b67e-4378-a7dc-36a106ac268d"
      },
      "outputs": [
        {
          "output_type": "execute_result",
          "data": {
            "text/plain": [
              "<torch._C.Generator at 0x7d00470aa850>"
            ]
          },
          "metadata": {},
          "execution_count": 54
        }
      ],
      "source": [
        "import torch\n",
        "import torch.nn as nn\n",
        "from torch.nn import functional as F\n",
        "\n",
        "# hyperparameters\n",
        "batch_size = 16 # how many independent sequences will we process in parallel?\n",
        "block_size = 32 # what is the maximum context length for predictions?\n",
        "max_iters = 4000 #5000\n",
        "eval_interval = 100\n",
        "learning_rate = 1e-3\n",
        "device = 'cuda' if torch.cuda.is_available() else 'cpu'\n",
        "eval_iters = 200\n",
        "n_embd = 64\n",
        "n_head = 8\n",
        "n_layer = 4\n",
        "dropout = 0.2\n",
        "# ------------\n",
        "WAND_PROJECT=\"Transformers - PosEmbeddings\"\n",
        "WAND_MODE=\"online\"\n",
        "# WAND_MODE=\"disabled\"\n",
        "\n",
        "# ------------\n",
        "vocab_size = len(vocab)\n",
        "torch.manual_seed(1337)"
      ]
    },
    {
      "cell_type": "markdown",
      "metadata": {
        "id": "3YgluxhTWc7C"
      },
      "source": [
        "# 4. Vanilla Transformer Model"
      ]
    },
    {
      "cell_type": "code",
      "execution_count": null,
      "metadata": {
        "id": "VR-8h0DVx63G"
      },
      "outputs": [],
      "source": [
        "from einops import rearrange\n",
        "exp_name=\"vanilla-transformer\"\n",
        "\n",
        "class MultiHeadAttention(nn.Module):\n",
        "    \"\"\" multi head of self-attention \"\"\"\n",
        "\n",
        "    def __init__(self, num_heads, head_size):\n",
        "        super().__init__()\n",
        "        self.num_heads = num_heads\n",
        "        self.head_size = head_size\n",
        "\n",
        "        self.key = nn.Linear(head_size, head_size, bias=False)\n",
        "        self.query = nn.Linear(head_size, head_size, bias=False)\n",
        "        self.value = nn.Linear(head_size, head_size, bias=False)\n",
        "        self.register_buffer('tril', torch.tril(torch.ones(block_size, block_size)))\n",
        "\n",
        "        self.dropout_wei = nn.Dropout(dropout)\n",
        "        n_embd= num_heads*head_size\n",
        "        self.proj = nn.Linear(n_embd, n_embd)\n",
        "        self.dropout_proj = nn.Dropout(dropout)\n",
        "\n",
        "\n",
        "    def forward(self, x):\n",
        "        # Reshape the tensor to B N T H for N heads\n",
        "        B,T,C = x.shape\n",
        "        x = rearrange(x, 'B T (N H) -> B N T H', N=self.num_heads)\n",
        "\n",
        "        k = self.key(x)   # (B,N,T,H)\n",
        "        q = self.query(x) # (B,N,T,H)\n",
        "\n",
        "        # compute attention scores \\\n",
        "        wei = torch.einsum(\"BNQH, BNKH -> BNQK\", q,k) * self.head_size**-0.5\n",
        "        wei = wei.masked_fill(self.tril[:T, :T] == 0, float('-inf'))\n",
        "        wei = F.softmax(wei, dim=-1)\n",
        "        wei = self.dropout_wei(wei)\n",
        "        # perform the weighted aggregation of the values\n",
        "        v = self.value(x) # (B,N,T,H)\n",
        "        out = torch.einsum(\"BNTS, BNSH -> BNTH\", wei, v)\n",
        "\n",
        "        # concat and mix N Heads\n",
        "        out = rearrange(out, 'B N T H -> B T (N H)')\n",
        "        out = self.dropout_proj(self.proj(out))\n",
        "        return out"
      ]
    },
    {
      "cell_type": "code",
      "execution_count": null,
      "metadata": {
        "id": "vJbeCWfkuwa9"
      },
      "outputs": [],
      "source": [
        "class FeedFoward(nn.Module):\n",
        "    \"\"\" a simple linear layer followed by a non-linearity \"\"\"\n",
        "\n",
        "    def __init__(self, n_embd):\n",
        "        super().__init__()\n",
        "        self.net = nn.Sequential(\n",
        "            nn.Linear(n_embd, 4 * n_embd),\n",
        "            nn.ReLU(),\n",
        "            nn.Linear(4 * n_embd, n_embd),\n",
        "            nn.Dropout(dropout),\n",
        "        )\n",
        "\n",
        "    def forward(self, x):\n",
        "        return self.net(x)\n",
        "\n",
        "class Block(nn.Module):\n",
        "    \"\"\" Transformer block: communication followed by computation \"\"\"\n",
        "\n",
        "    def __init__(self, n_embd, n_head):\n",
        "        # n_embd: embedding dimension, n_head: the number of heads we'd like\n",
        "        super().__init__()\n",
        "        head_size = n_embd // n_head\n",
        "        self.sa = MultiHeadAttention(n_head, head_size)\n",
        "        self.ffwd = FeedFoward(n_embd)\n",
        "        self.ln1 = nn.LayerNorm(n_embd)\n",
        "        self.ln2 = nn.LayerNorm(n_embd)\n",
        "\n",
        "    def forward(self, x):\n",
        "        x = x + self.sa(self.ln1(x))\n",
        "        x = x + self.ffwd(self.ln2(x))\n",
        "        return x\n",
        "\n",
        "class TransformerSeq2Seq(nn.Module):\n",
        "    def __init__(self):\n",
        "        super().__init__()\n",
        "\n",
        "    def generate(self, idx, max_new_tokens):\n",
        "        # idx is (B, T) array of indices in the current context\n",
        "        for _ in range(max_new_tokens):\n",
        "            # crop idx to the last block_size tokens\n",
        "            idx_cond = idx[:, -block_size:]\n",
        "            # get the predictions\n",
        "            logits, loss = self(idx_cond)\n",
        "            # focus only on the last time step\n",
        "            logits = logits[:, -1, :] # becomes (B, C)\n",
        "            # apply softmax to get probabilities\n",
        "            probs = F.softmax(logits, dim=-1) # (B, C)\n",
        "            # sample from the distribution\n",
        "            idx_next = torch.multinomial(probs, num_samples=1) # (B, 1)\n",
        "            # append sampled index to the running sequence\n",
        "            idx = torch.cat((idx, idx_next), dim=1) # (B, T+1)\n",
        "        return idx\n",
        "\n",
        "\n",
        "class TransformerModel(TransformerSeq2Seq):\n",
        "\n",
        "    def __init__(self):\n",
        "        super().__init__()\n",
        "        # each token directly reads off the logits for the next token from a lookup table\n",
        "        self.token_embedding_table = nn.Embedding(vocab_size, n_embd)\n",
        "        self.position_embedding_table = nn.Embedding(block_size, n_embd)\n",
        "        self.blocks = nn.Sequential(*[Block(n_embd, n_head=n_head) for _ in range(n_layer)])\n",
        "        self.ln_f = nn.LayerNorm(n_embd) # final layer norm\n",
        "        self.lm_head = nn.Linear(n_embd, vocab_size)\n",
        "\n",
        "        # https://paperswithcode.com/method/weight-tying\n",
        "        self.token_embedding_table.weight = self.lm_head.weight\n",
        "\n",
        "    def forward(self, idx, targets=None):\n",
        "        B, T = idx.shape\n",
        "\n",
        "        # Position Embedding is calculated in beginning and added to tokens\n",
        "        tok_emb = self.token_embedding_table(idx) # (B,T,C)\n",
        "        pos_emb = self.position_embedding_table(torch.arange(T, device=device)) # (T,C)\n",
        "        x = tok_emb + pos_emb # (B,T,C)\n",
        "\n",
        "        x = self.blocks(x) # (B,T,C)\n",
        "        x = self.ln_f(x) # (B,T,C)\n",
        "        logits = self.lm_head(x) # (B,T,vocab_size)\n",
        "\n",
        "        if targets is None:\n",
        "            loss = None\n",
        "        else:\n",
        "            B, T, C = logits.shape\n",
        "            logits = logits.view(B*T, C)\n",
        "            targets = targets.view(B*T)\n",
        "            loss = F.cross_entropy(logits, targets)\n",
        "\n",
        "        return logits, loss\n",
        "\n"
      ]
    },
    {
      "cell_type": "markdown",
      "metadata": {
        "id": "I4ZutKCcIwJD"
      },
      "source": [
        "# Train and Evaluate"
      ]
    },
    {
      "cell_type": "code",
      "execution_count": null,
      "metadata": {
        "id": "fjjvMifYZf7x"
      },
      "outputs": [],
      "source": [
        "def model_setup(TransformerModel):\n",
        "  wandb.init(project=WAND_PROJECT, name=exp_name, mode=WAND_MODE)\n",
        "\n",
        "  model = TransformerModel()\n",
        "  model = model.to(device)\n",
        "  model = torch.compile(model)\n",
        "  # print the number of parameters in the model\n",
        "  print(sum(p.numel() for p in model.parameters())/1e6, 'M parameters')\n",
        "  wandb.log({\"model_parameters\": sum(p.numel() for p in model.parameters())})\n",
        "\n",
        "  # create a PyTorch optimizer\n",
        "  optimizer = torch.optim.AdamW(model.parameters(), lr=learning_rate)\n",
        "\n",
        "  return model, optimizer\n",
        "\n",
        "@torch.no_grad()\n",
        "def estimate_loss(model):\n",
        "    out = {}\n",
        "    model.eval()\n",
        "    for split in ['train', 'val']:\n",
        "        losses = torch.zeros(eval_iters)\n",
        "        for k in range(eval_iters):\n",
        "            X, Y = get_batch(split, device=device)\n",
        "            logits, loss = model(X, Y)\n",
        "            losses[k] = loss.item()\n",
        "        out[split] = losses.mean()\n",
        "    model.train()\n",
        "    return out\n",
        "\n",
        "\n",
        "model, optimizer = model_setup(TransformerModel)"
      ]
    },
    {
      "cell_type": "code",
      "execution_count": null,
      "metadata": {
        "colab": {
          "base_uri": "https://localhost:8080/"
        },
        "id": "4NMJvLM-9Pfp",
        "outputId": "610f62a5-c5dd-4183-ae78-80b6746a11a3"
      },
      "outputs": [
        {
          "output_type": "stream",
          "name": "stdout",
          "text": [
            "step 0: train loss 9.5550, val loss 9.5406\n"
          ]
        },
        {
          "output_type": "stream",
          "name": "stderr",
          "text": [
            "[2023-07-28 04:23:29,480] torch._inductor.utils: [WARNING] using triton random, expect difference from eager\n",
            "[2023-07-28 04:23:31,330] torch._inductor.utils: [WARNING] using triton random, expect difference from eager\n",
            "[2023-07-28 04:23:32,067] torch._inductor.utils: [WARNING] using triton random, expect difference from eager\n",
            "[2023-07-28 04:23:33,417] torch._inductor.utils: [WARNING] using triton random, expect difference from eager\n",
            "[2023-07-28 04:23:33,608] torch._inductor.utils: [WARNING] using triton random, expect difference from eager\n",
            "[2023-07-28 04:23:33,880] torch._inductor.utils: [WARNING] using triton random, expect difference from eager\n",
            "[2023-07-28 04:23:34,444] torch._inductor.utils: [WARNING] using triton random, expect difference from eager\n",
            "[2023-07-28 04:23:34,632] torch._inductor.utils: [WARNING] using triton random, expect difference from eager\n",
            "[2023-07-28 04:23:34,943] torch._inductor.utils: [WARNING] using triton random, expect difference from eager\n",
            "[2023-07-28 04:23:35,516] torch._inductor.utils: [WARNING] using triton random, expect difference from eager\n",
            "[2023-07-28 04:23:35,706] torch._inductor.utils: [WARNING] using triton random, expect difference from eager\n",
            "[2023-07-28 04:23:35,985] torch._inductor.utils: [WARNING] using triton random, expect difference from eager\n"
          ]
        },
        {
          "output_type": "stream",
          "name": "stdout",
          "text": [
            "step 100: train loss 6.4151, val loss 6.4614\n",
            "step 200: train loss 6.3673, val loss 6.4663\n",
            "step 300: train loss 6.3845, val loss 6.4503\n",
            "step 400: train loss 6.1444, val loss 6.2467\n",
            "step 500: train loss 5.9522, val loss 6.1078\n",
            "step 600: train loss 5.8916, val loss 5.9866\n",
            "step 700: train loss 5.7892, val loss 5.9164\n",
            "step 800: train loss 5.7198, val loss 5.8582\n",
            "step 900: train loss 5.6753, val loss 5.8274\n",
            "step 1000: train loss 5.5624, val loss 5.7493\n",
            "step 1100: train loss 5.4842, val loss 5.6581\n",
            "step 1200: train loss 5.3845, val loss 5.6400\n",
            "step 1300: train loss 5.3324, val loss 5.5691\n",
            "step 1400: train loss 5.2878, val loss 5.5344\n",
            "step 1500: train loss 5.2201, val loss 5.4774\n",
            "step 1600: train loss 5.1997, val loss 5.4590\n",
            "step 1700: train loss 5.1358, val loss 5.4159\n",
            "step 1800: train loss 5.0806, val loss 5.4337\n",
            "step 1900: train loss 5.0268, val loss 5.3688\n",
            "step 2000: train loss 5.0209, val loss 5.3660\n",
            "step 2100: train loss 4.9487, val loss 5.3243\n",
            "step 2200: train loss 4.9334, val loss 5.3242\n",
            "step 2300: train loss 4.8834, val loss 5.3025\n",
            "step 2400: train loss 4.8478, val loss 5.2761\n",
            "step 2500: train loss 4.8288, val loss 5.2758\n",
            "step 2600: train loss 4.8115, val loss 5.2573\n",
            "step 2700: train loss 4.7591, val loss 5.2264\n",
            "step 2800: train loss 4.7234, val loss 5.1780\n",
            "step 2900: train loss 4.7030, val loss 5.1625\n",
            "step 3000: train loss 4.7123, val loss 5.1627\n",
            "step 3100: train loss 4.6955, val loss 5.1739\n",
            "step 3200: train loss 4.6848, val loss 5.1597\n",
            "step 3300: train loss 4.6349, val loss 5.1567\n",
            "step 3400: train loss 4.5932, val loss 5.1422\n",
            "step 3500: train loss 4.5943, val loss 5.1232\n",
            "step 3600: train loss 4.5990, val loss 5.1393\n",
            "step 3700: train loss 4.5908, val loss 5.0977\n",
            "step 3800: train loss 4.5168, val loss 5.1253\n",
            "step 3900: train loss 4.5453, val loss 5.1368\n",
            "step 3999: train loss 4.5204, val loss 5.1590\n"
          ]
        }
      ],
      "source": [
        "def train(model, optimizer, max_iters):\n",
        "  if not model.training:\n",
        "    model.train()\n",
        "    print(\"Enabled Training mode: \",model.training)\n",
        "\n",
        "  for iter in range(max_iters):\n",
        "\n",
        "      # every once in a while evaluate the loss on train and val sets\n",
        "      if iter % eval_interval == 0 or iter == max_iters - 1:\n",
        "          losses = estimate_loss(model)\n",
        "          print(f\"step {iter}: train loss {losses['train']:.4f}, val loss {losses['val']:.4f}\")\n",
        "          wandb.log({\"loss/train\": losses['train'], \"loss/val\": losses['val']}, step=iter)\n",
        "\n",
        "      # sample a batch of data\n",
        "      xb, yb = get_batch('train', device=device)\n",
        "\n",
        "      # evaluate the loss\n",
        "      logits, loss = model(xb, yb)\n",
        "      optimizer.zero_grad(set_to_none=True)\n",
        "      loss.backward()\n",
        "      optimizer.step()\n",
        "\n",
        "  wandb.finish()\n",
        "\n",
        "train(model, optimizer, max_iters)"
      ]
    },
    {
      "cell_type": "code",
      "execution_count": null,
      "metadata": {
        "colab": {
          "base_uri": "https://localhost:8080/"
        },
        "id": "tPIVYGUQ9S5-",
        "outputId": "208cc724-f78c-4660-c7a7-fe9972da4381"
      },
      "outputs": [
        {
          "output_type": "stream",
          "name": "stdout",
          "text": [
            "!\n",
            "\n",
            "DUKE VINCENTIO:\n",
            "I't be satisfied,\n",
            "As friend to baw morn'd calf?\n",
            "\n",
            "ESCALUS:\n",
            "L LEWIS XI:\n",
            "Sub'Tis no tedious sights, had a remove\n",
            "That Eve we it here I shall like an Nell'd.\n",
            "\n",
            "DUKE VINCENTIO:\n",
            "An he bid me to- firmads;\n",
            "Whom Lewis and in one king; which 'And I think\n",
            "Freshly gracious lie with his great wed again.\n",
            "\n",
            "QUEEN MARGARENCE:\n",
            "What, on the part trouble me, and jested painted by one foxs,\n",
            "Made one usurp'd a lasting opinion-kind brother gave me,\n",
            "And this the like my browsals belly,\n",
            "Wh hedgericire in his land's day,\n",
            "Whose Apollo, where the rest incluck'd;\n",
            "countryforth I were sugar, keeps\n",
            "But with King cry 'How I enjoy'd, if they freely come all to dry but by his ears.\n",
            "\n",
            "ESCALUS:\n",
            "Let, solace presently, when\n",
            "Of all in that we came care, my beating and loved thy wit\n",
            "Only and thy tongue, from all an wicked cries in love.\n",
            "Love I hear him in overwhelming car, if reason.\n",
            "What's not, I were inch of weeping\n",
            "By the great gaoler souls to his brotherhood;\n",
            "Which now we have been much or bunchiers,\n",
            "More than the conquer'd spirit\n",
            "I aim in the table-ashing lawyers'ing of kings,\n",
            "That I, his mouth, withick say the leads down hold,\n",
            "And tender sun and worser of the Greeks that any face, as\n",
            "I straight like a guarded gentleman to affecting\n",
            "To be, with his king's allies,\n",
            "To murder your new to be burnt for Warwick.\n",
            "\n",
            "DUKE VINCENTIO:\n",
            "I pray you, brave sir, come now and Richard?\n",
            "\n",
            "CAMILLO:\n",
            "That is the singingmen to your grace not to warrant;\n",
            "My lord, as he is prize. My bustle, her,\n",
            "FRIAR LAURENCE:\n",
            "Though I I entreat them, a thousand air.\n",
            "\n",
            "KING RICHARD III:\n",
            "SA:\n",
            "Why, how which are you love abroad:\n",
            "The leisure think he shall bowels for the reins.\n",
            "\n",
            "Page:\n",
            "What news is me.\n",
            "\n",
            "HASTINGS:\n",
            "You are.\n",
            "ROMEO:\n",
            "O is the frown upon, let's little hard and little pardon.\n",
            "\n",
            "ISHOP OF YORK:\n",
            "How couldst beseech you, truly, that name them seek him but.\n",
            "\n",
            "ANGELO:\n",
            "And be not, man, good indeed 'twere thought, bring the piteous wrong above her!\n",
            "\n",
            "GLOUCESTER:\n",
            "Farewell, Clifford but get thee to tune and men\n",
            "As I'll be in former one bed,\n",
            "To see she but hate they return with the safety serve King Edward dead Richard had quietly be known well\n",
            "Of the present affection.\n",
            "If:\n",
            "And you to havepherd:\n",
            "Accursed beat him high whom's worse,\n",
            "That could lay'd it to know not rated of her hour?\n",
            "\n",
            "ROMEO:\n",
            "'Tis a kind of her beauty busied the days.\n",
            "\n",
            "LADY ANNE:\n",
            "But that is full of the doth; against an now folded upon the parchmentisk to w gue lives,\n",
            "But all such than she would armour to the Ladyhood she appears now,\n",
            "Of an pluck out of Edward's face\n",
            "Or when the executioner between it is dead's\n",
            "amed the newness against his turn.\n",
            "\n",
            "ANGELO:\n",
            "QUEEN ELIZEL:\n",
            "Marsheter, I am sailors and hurt,\n",
            "Being oneed that he does his limbs,\n",
            "now by learningest in the ship shall strike in you.\n",
            "\n",
            "KING RICHARD II:\n",
            "We were so; away!\n",
            "\n",
            "HENRY BOLINGBROKE:\n",
            "Clouchsafe, thou hast in this fly,\n",
            "Which in thy tale mean the dost I can haunt of my hands:\n",
            "But we are ill-day.\n",
            "\n",
            "WARWATER:\n",
            "Bid your lady, poor moe!\n",
            "\n",
            "First Watchman:\n",
            "And I complain to it.\n",
            "\n",
            "First Servingman:\n",
            "Wretch, I amMatory course\n",
            "Tribaking; wander by love and partly Warwick the friend.\n",
            "\n",
            "PETRUCHIO:\n",
            "Hark,Good Lewis Hastings Marcius, Duke of everyon work,\n",
            "One'll bear you whisper no better than my husband?\n",
            "\n",
            "BUSHY:\n",
            "Go, Claudio.\n",
            "\n",
            "Hath a meddling sword to, we be ta' doing.\n",
            "\n",
            "QUEEN ELIZABETH:\n",
            "Lestug not be sacrifice.\n",
            "\n",
            "DUKE VINCENTIO:\n",
            "If there's I hope, then?\n",
            "\n",
            "COMINIUS:\n",
            "What think thy name, where is fled.\n",
            "\n",
            "ISTRESS OVERINIUS:\n",
            "So is that's true to stay!\n",
            "\n",
            "BUCKINGHAM:\n",
            "I collect thee; look, thy breast; and talk'd till derived?\n",
            "\n",
            "KING HENRY VI:\n",
            "Why, I, more it have made her verity,\n",
            "And if the devilless King At sadly how is very ground,\n",
            "Till we are kindly harmless fate misp shall I feed'd.\n",
            "\n",
            "ROMEO:\n",
            "Not my lord.\n",
            "\n",
            "DUKE VINCENTIO:\n",
            "What loss my child'st undone; against all:\n",
            "That's an woman, daughter may be excellent.\n",
            "\n",
            "WARWICK:\n",
            "He had the cloes as such such a villain.\n",
            "\n",
            "VOLUMNurse:\n",
            "He lives he is gone: you see\n",
            "I will not die; I did music? our past a tall service.\n",
            "\n",
            "BRUTUS:\n",
            "No apt it is a madam.\n",
            "\n",
            "BRUTUS:\n",
            "Each none in thy company, sir,\n",
            "For I think he was seen with a door.\n",
            "\n",
            "Nurse:\n",
            "Leave them grace, nor you friends to thee.\n",
            "\n",
            "COMINIUS:\n",
            "I give leave to hunt.\n",
            "\n",
            "Second Keeper:\n",
            "Fair men comes, come to see no mind,\n",
            "As I pray thee not the anger\n",
            "In from the dish, my lord,\n",
            "That ne'er shall thou be made it, your lord.\n",
            "\n",
            "JULIET:\n",
            "I have it is; my kinsman, I perceive her has\n",
            "As well, then to unfold; I call'd a broad,\n",
            "To engovern'd and swift poison in a king!\n",
            "\n",
            "KING RICHARD III:\n",
            "As only given by this present shame?\n",
            "\n",
            "ISABELLA:\n",
            "Why, thou lovest thou know the king--\n",
            "\n",
            "LORD FITZWATER:\n",
            "Speakest thou talk'd in the night the Earl of\n",
            "But the saints raised and I baw'd for him; but I would\n",
            "And neither pass'd me cold with my greatnessestolds.\n",
            "ESCALUS:\n",
            "Nor both the air is very father's son!\n",
            "\n",
            "GLOUCESTER:\n",
            "This friends shows give it.\n",
            "\n",
            "KING HENRY BOLINGBROKE:\n",
            "Oook your queen, let's my lord, we see how In years,\n",
            "To be better flock to the word.\n",
            "\n",
            "LADY ANNE:\n",
            "Alas, what was some eternal times hours.\n",
            "\n",
            "DUKE VINCENTIO:\n",
            "Come, that shall sit thouiss and Montague\n",
            "I cannot be so do all the world;\n",
            "You do but I'll not leave.\n",
            "\n",
            "First Gentleman:\n",
            "every sooner; doubt, wanting?\n",
            "\n",
            "ROMEO:\n",
            "Ay, good king, but while you are\n",
            "To take fearful deputy and ease forth.\n",
            "\n",
            "LADY ANNE:\n",
            "You'll be set a common fault upon his prayers\n",
            "Thiserallyire upon it?\n",
            "\n",
            "AUFORD:\n",
            "What time may see't, as a king with you in pantous;\n",
            "Is your maid, I cannot incensed to amendr,\n",
            "Within our sprites.\n",
            "\n",
            "QUEEN ELIZABETH:\n",
            "What:\n",
            "Ay, at each with her; do beseech you.\n",
            "\n",
            "ROMEO:\n",
            "Nor stay you take out, so to know why before?\n",
            "\n",
            "AUFIDIUS:\n",
            "Wullhip too, it for?\n",
            "\n",
            "DUKE VINCENTIO:\n",
            "What good night the panting, thou chiding, yet in blood\n",
            "Or brain obright'd us harm.\n",
            "\n",
            "QUEEN MARGARET:\n",
            "You make haste be put her reputation;\n",
            "Even all thy case too; if kings feel\n",
            "Is not the eager knee and in the liberties,\n",
            "For I use it as a saint\n",
            "How I accept your father's chair, so suspect\n",
            "The sun and detingly pample down gone.\n",
            "\n",
            "ESCALUS:\n",
            "What news, gentle hell-elect, on,\n",
            "This other seem'd to a brows, or which he\n",
            "they shall stop souls\n",
            "Crowns all one or little soundly- substitute,\n",
            "ereation o'er return on our lot,\n",
            "To wiest that thou wive as kill thee,\n",
            " monastery that our fury: mine,\n",
            "And wear the fair and a pleasing worserignedly birds.\n"
          ]
        }
      ],
      "source": [
        "# generate from the model\n",
        "model.eval()\n",
        "context = torch.zeros((1, 1), dtype=torch.long, device=device)\n",
        "print(decode(model.generate(context, max_new_tokens=2000)[0].tolist()))"
      ]
    },
    {
      "cell_type": "markdown",
      "metadata": {
        "id": "KJKxH3-KIqLT"
      },
      "source": [
        "# Integrated Positional Embedding\n",
        "$$att = softmax(\\frac{1}{√({dim} )}(Q K^T+ Q P))$$\n",
        "<script type=\"text/javascript\" src=\"https://www.hostmath.com/Math/MathJax.js?config=OK\"></script>\n",
        "\n",
        " P is learnable position embedding, learning unique representation for each position."
      ]
    },
    {
      "cell_type": "code",
      "execution_count": null,
      "metadata": {
        "id": "5_-wtah1Jkg1"
      },
      "outputs": [],
      "source": [
        "exp_name=\"integrated-pos-embedding\"\n",
        "\n",
        "class MultiHeadAttention(nn.Module):\n",
        "    \"\"\" multi head of self-attention \"\"\"\n",
        "\n",
        "    def __init__(self, num_heads, head_size, shared_head=False):\n",
        "        super().__init__()\n",
        "        self.num_heads = num_heads\n",
        "        self.head_size = head_size\n",
        "        self.shared_head = shared_head\n",
        "\n",
        "        self.key = nn.Linear(head_size, head_size, bias=False)\n",
        "        self.query = nn.Linear(head_size, head_size, bias=False)\n",
        "        self.value = nn.Linear(head_size, head_size, bias=False)\n",
        "        self.register_buffer('tril', torch.tril(torch.ones(block_size, block_size)))\n",
        "\n",
        "        if self.shared_head:\n",
        "          self.pos_emb = nn.Parameter(torch.randn(block_size, head_size))\n",
        "        else:\n",
        "          self.pos_emb = nn.Parameter(torch.randn(num_heads, block_size, head_size))\n",
        "\n",
        "        self.dropout_wei = nn.Dropout(dropout)\n",
        "        n_embd= num_heads*head_size\n",
        "        self.proj = nn.Linear(n_embd, n_embd)\n",
        "        self.dropout_proj = nn.Dropout(dropout)\n",
        "\n",
        "\n",
        "    def forward(self, x):\n",
        "        # Reshape the tensor to B N T H for N heads\n",
        "        B,T,C = x.shape\n",
        "        x = rearrange(x, 'B T (N H) -> B N T H', N=self.num_heads)\n",
        "\n",
        "        k = self.key(x)   # (B,N,T,H)\n",
        "        q = self.query(x) # (B,N,T,H)\n",
        "\n",
        "        # compute attention scores\n",
        "        q = q * self.head_size**-0.5\n",
        "        wei = torch.einsum(\"BNTH, BNSH -> BNTS\", q,k)\n",
        "\n",
        "        # Position Embedding\n",
        "        if self.shared_head:\n",
        "          p_wei = torch.einsum(\"BNTH, SH-> BNTS\" ,q,self.pos_emb[:T])\n",
        "        else:\n",
        "          p_wei = torch.einsum(\"BNTH, NSH-> BNTS\" ,q,self.pos_emb[:,:T,:])\n",
        "\n",
        "        wei += p_wei\n",
        "\n",
        "        # final attention and value computation\n",
        "        wei = wei.masked_fill(self.tril[:T, :T] == 0, float('-inf'))\n",
        "        wei = F.softmax(wei, dim=-1)\n",
        "        wei = self.dropout_wei(wei)\n",
        "        # perform the weighted aggregation of the values\n",
        "        v = self.value(x) # (B,N,T,H)\n",
        "        out = torch.einsum(\"BNTS, BNSH -> BNTH\", wei, v)\n",
        "\n",
        "        # concat and mix N Heads\n",
        "        out = rearrange(out, 'B N T H -> B T (N H)')\n",
        "        out = self.dropout_proj(self.proj(out))\n",
        "        return out\n"
      ]
    },
    {
      "cell_type": "code",
      "source": [
        "class TransformerModel(TransformerSeq2Seq):\n",
        "    def __init__(self):\n",
        "        super().__init__()\n",
        "        # each token directly reads off the logits for the next token from a lookup table\n",
        "        self.token_embedding_table = nn.Embedding(vocab_size, n_embd)\n",
        "        self.blocks = nn.Sequential(*[Block(n_embd, n_head=n_head) for _ in range(n_layer)])\n",
        "        self.ln_f = nn.LayerNorm(n_embd) # final layer norm\n",
        "        self.lm_head = nn.Linear(n_embd, vocab_size)\n",
        "\n",
        "        # https://paperswithcode.com/method/weight-tying\n",
        "        self.token_embedding_table.weight = self.lm_head.weight\n",
        "\n",
        "\n",
        "    def forward(self, idx, targets=None):\n",
        "        B, T = idx.shape\n",
        "\n",
        "        # idx and targets are both (B,T) tensor of integers\n",
        "        x = self.token_embedding_table(idx) # (B,T,C)\n",
        "\n",
        "        # x = tok_emb + pos_emb # (B,T,C)\n",
        "        x = self.blocks(x) # (B,T,C)\n",
        "        x = self.ln_f(x) # (B,T,C)\n",
        "        logits = self.lm_head(x) # (B,T,vocab_size)\n",
        "\n",
        "        if targets is None:\n",
        "            loss = None\n",
        "        else:\n",
        "            B, T, C = logits.shape\n",
        "            logits = logits.view(B*T, C)\n",
        "            targets = targets.view(B*T)\n",
        "            loss = F.cross_entropy(logits, targets)\n",
        "\n",
        "        return logits, loss"
      ],
      "metadata": {
        "id": "Rc6wH0gqdmLJ"
      },
      "execution_count": null,
      "outputs": []
    },
    {
      "cell_type": "code",
      "source": [
        "model, optimizer = model_setup(TransformerModel)\n",
        "train(model, optimizer, max_iters)"
      ],
      "metadata": {
        "id": "Dp7OgVBN5Gxi"
      },
      "execution_count": null,
      "outputs": []
    },
    {
      "cell_type": "markdown",
      "metadata": {
        "id": "b4dfXtONJfld"
      },
      "source": [
        "# Relative Bias (T5)\n",
        "> Instead of using a fixed embedding for each position, relative position embeddings produce a different learned embedding according to the offset between the “key” and “query” being compared in the self-attention mechanism. We use a simplified form of position embeddings where each “embedding” is simply a scalar that is added to the corresponding logit used for computing the attention weights. For efficiency, we also share the position embedding parameters across all layers in our model, though within a given layer each attention head\n",
        "uses a different learned position embedding. Typically, a fixed number of embeddings are learned, each corresponding to a range of possible key-query offsets.\n",
        "\n",
        "[T5 Paper](https://arxiv.org/pdf/1910.10683.pdf)\n",
        "[Code Implementation](https://github.com/huggingface/transformers/blob/main/src/transformers/models/t5/modeling_t5.py#L435)\n",
        "\n",
        "$$att = softmax(\\frac{1}{√({dim} )}(Q K^T+ PosBias_{rel}))$$\n",
        "<script type=\"text/javascript\" src=\"https://www.hostmath.com/Math/MathJax.js?config=OK\"></script>\n",
        "\n",
        "P is learnable position embedding, learning unique representation for each position.\n",
        "\n",
        "Original T5 implemetation utilised more complex position binning based on linear and logrithmic relative distance for scaling to larger context."
      ]
    },
    {
      "cell_type": "markdown",
      "source": [
        "Relative Position of Query to Keys:\n",
        "$$\n",
        "\\begin{align*}\n",
        "\\text{Query}\n",
        "\\begin{bmatrix} & \\text{Key} \\\\\n",
        "0 & 1 & 2 & \\ldots & k-1\\\\\n",
        "-1 & 0 & 1 & \\ldots & k-2\\\\\n",
        "-2 & -1 & 0 & \\ldots & k-2\\\\\n",
        "\\vdots & & & \\\\\n",
        "-(k-1) & -(k-2) & -(k-3) & \\ldots & 0\n",
        "\\end{bmatrix}\n",
        "\\end{align*}\n",
        "$$\n",
        "\n",
        "\n",
        "All Relative Postions = $[-k+1, ...,  -2, -1, 0, 1, 2, ..., k-1]$"
      ],
      "metadata": {
        "id": "dpnbsbbsYVoi"
      }
    },
    {
      "cell_type": "markdown",
      "source": [
        "* Basic understanding and generic relative_to_absolute implementation can be done based on [Extra Section](https://colab.research.google.com/drive/12w_nu0NHDP73M9xJHxahqDWtJpKb2yvM#scrollTo=3ed8Ri3r98DF&line=1&uniqifier=1).\n",
        "\n",
        "\n",
        "* Following ***relative_to_absolute*** code is borrowed from lucidrains for non-causal implementation\n",
        "\n",
        " https://github.com/lucidrains/bottleneck-transformer-pytorch/blob/main/bottleneck_transformer_pytorch/bottleneck_transformer_pytorch.py#L21\n",
        "\n",
        "* Good reference for more optimised Causal Attention as introduced by [Shaw et al (2018)](https://arxiv.org/pdf/1803.02155.pdf) and refined by [Huang et al (2018)](https://arxiv.org/pdf/1809.04281.pdf) -  https://jaketae.github.io/study/relative-positional-encoding/\n"
      ],
      "metadata": {
        "id": "bDZMZUgNpAYD"
      }
    },
    {
      "cell_type": "code",
      "source": [
        "import torch\n",
        "import torch.nn as nn\n",
        "from einops import rearrange,repeat\n",
        "\n",
        "def relative_to_absolute(q):\n",
        "    \"\"\"\n",
        "    Converts the dimension that is specified from the axis\n",
        "    from relative distances (with length 2*tokens-1) to absolute distance (length tokens)\n",
        "      Input: [bs, heads, length, 2*length - 1]\n",
        "      Output: [bs, heads, length, length]\n",
        "    \"\"\"\n",
        "    b, h, l, _, device, dtype = *q.shape, q.device, q.dtype\n",
        "    dd = {'device': device, 'dtype': dtype}\n",
        "    col_pad = torch.zeros((b, h, l, 1), **dd)\n",
        "    x = torch.cat((q, col_pad), dim=3)  # zero pad 2l-1 to 2l\n",
        "    flat_x = rearrange(x, 'b h l c -> b h (l c)')\n",
        "    flat_pad = torch.zeros((b, h, l - 1), **dd)\n",
        "    flat_x_padded = torch.cat((flat_x, flat_pad), dim=2)\n",
        "    final_x = flat_x_padded.reshape(b, h, l + 1, 2 * l - 1)\n",
        "    final_x = final_x[:, :, :l, (l - 1):]\n",
        "    return final_x"
      ],
      "metadata": {
        "id": "_fLBOpksmsb7"
      },
      "execution_count": null,
      "outputs": []
    },
    {
      "cell_type": "code",
      "source": [
        "x = torch.Tensor([[[[-3,-2,-1,0,1,2,3]]*4]])\n",
        "print(x.shape)\n",
        "x"
      ],
      "metadata": {
        "colab": {
          "base_uri": "https://localhost:8080/"
        },
        "id": "71iPVo7lp9Qx",
        "outputId": "b32f753e-4628-4fc8-ba79-9dbcf5686269"
      },
      "execution_count": null,
      "outputs": [
        {
          "output_type": "stream",
          "name": "stdout",
          "text": [
            "torch.Size([1, 1, 4, 7])\n"
          ]
        },
        {
          "output_type": "execute_result",
          "data": {
            "text/plain": [
              "tensor([[[[-3., -2., -1.,  0.,  1.,  2.,  3.],\n",
              "          [-3., -2., -1.,  0.,  1.,  2.,  3.],\n",
              "          [-3., -2., -1.,  0.,  1.,  2.,  3.],\n",
              "          [-3., -2., -1.,  0.,  1.,  2.,  3.]]]])"
            ]
          },
          "metadata": {},
          "execution_count": 14
        }
      ]
    },
    {
      "cell_type": "code",
      "source": [
        "y = relative_to_absolute(x)\n",
        "print(y.shape)\n",
        "y"
      ],
      "metadata": {
        "colab": {
          "base_uri": "https://localhost:8080/"
        },
        "id": "s7pASecyrVxB",
        "outputId": "bd38d122-6068-4cd2-8524-d9b37cac6a37"
      },
      "execution_count": null,
      "outputs": [
        {
          "output_type": "stream",
          "name": "stdout",
          "text": [
            "torch.Size([1, 1, 4, 4])\n"
          ]
        },
        {
          "output_type": "execute_result",
          "data": {
            "text/plain": [
              "tensor([[[[ 0.,  1.,  2.,  3.],\n",
              "          [-1.,  0.,  1.,  2.],\n",
              "          [-2., -1.,  0.,  1.],\n",
              "          [-3., -2., -1.,  0.]]]])"
            ]
          },
          "metadata": {},
          "execution_count": 15
        }
      ]
    },
    {
      "cell_type": "code",
      "source": [
        "exp_name=\"relative-bias\"\n",
        "class MultiHeadAttention(nn.Module):\n",
        "    \"\"\" multi head of self-attention \"\"\"\n",
        "\n",
        "    def __init__(self, num_heads, head_size, shared_head=False):\n",
        "        super().__init__()\n",
        "        self.num_heads = num_heads\n",
        "        self.head_size = head_size\n",
        "        self.shared_head = shared_head\n",
        "\n",
        "        self.key = nn.Linear(head_size, head_size, bias=False)\n",
        "        self.query = nn.Linear(head_size, head_size, bias=False)\n",
        "        self.value = nn.Linear(head_size, head_size, bias=False)\n",
        "        self.register_buffer('tril', torch.tril(torch.ones(block_size, block_size)))\n",
        "\n",
        "        if self.shared_head:\n",
        "          self.pos_emb = nn.Parameter(torch.randn(2*block_size - 1)) # For causal, size can be of block_size only\n",
        "        else:\n",
        "          self.pos_emb = nn.Parameter(torch.randn(num_heads, 2*block_size - 1))\n",
        "\n",
        "        self.dropout_wei = nn.Dropout(dropout)\n",
        "        n_embd= num_heads*head_size\n",
        "        self.proj = nn.Linear(n_embd, n_embd)\n",
        "        self.dropout_proj = nn.Dropout(dropout)\n",
        "\n",
        "\n",
        "    def forward(self, x):\n",
        "        # Reshape the tensor to B N T H for N heads\n",
        "        B,T,C = x.shape\n",
        "        x = rearrange(x, 'B T (N H) -> B N T H', N=self.num_heads)\n",
        "\n",
        "        k = self.key(x)   # (B,N,T,H)\n",
        "        q = self.query(x) # (B,N,T,H)\n",
        "\n",
        "        # compute attention scores\n",
        "        q = q * self.head_size**-0.5\n",
        "        wei = torch.einsum(\"BNTH, BNSH -> BNTS\", q,k)\n",
        "\n",
        "        # Position Bias\n",
        "        if self.shared_head:\n",
        "          p_wei = relative_to_absolute(repeat(\n",
        "              self.pos_emb ,\n",
        "              \"S -> B N T S\",\n",
        "              B=1, N=1, T=block_size))[:,:,:T, :T]\n",
        "        else:\n",
        "           p_wei = relative_to_absolute(repeat(\n",
        "              self.pos_emb ,\n",
        "              \"N S -> B N T S\",\n",
        "              B=1, T=block_size))[:,:,:T, :T]\n",
        "\n",
        "        wei += p_wei\n",
        "\n",
        "        # final attention and value computation\n",
        "        wei = wei.masked_fill(self.tril[:T, :T] == 0, float('-inf'))\n",
        "        wei = F.softmax(wei, dim=-1)\n",
        "        wei = self.dropout_wei(wei)\n",
        "        # perform the weighted aggregation of the values\n",
        "        v = self.value(x) # (B,N,T,H)\n",
        "        out = torch.einsum(\"BNTS, BNSH -> BNTH\", wei, v)\n",
        "\n",
        "        # concat and mix N Heads\n",
        "        out = rearrange(out, 'B N T H -> B T (N H)')\n",
        "        out = self.dropout_proj(self.proj(out))\n",
        "        return out\n",
        "\n"
      ],
      "metadata": {
        "id": "850dvsbNdgmD"
      },
      "execution_count": null,
      "outputs": []
    },
    {
      "cell_type": "code",
      "source": [
        "model, optimizer = model_setup(TransformerModel)\n",
        "train(model, optimizer, max_iters)"
      ],
      "metadata": {
        "id": "Z-sVL9Lb5DXU"
      },
      "execution_count": null,
      "outputs": []
    },
    {
      "cell_type": "markdown",
      "source": [
        "# Relative Position Embeddings\n",
        "$$att = softmax(\\frac{1}{√({dim} )}(Q K^T+ Q P_{rel}))$$\n",
        "<script type=\"text/javascript\" src=\"https://www.hostmath.com/Math/MathJax.js?config=OK\"></script>\n",
        "\n",
        "P is learnable position embedding, learning unique representation for each relative pair of position."
      ],
      "metadata": {
        "id": "mh3W_Y7GJASg"
      }
    },
    {
      "cell_type": "code",
      "execution_count": null,
      "metadata": {
        "id": "sYxQoFsRIpxR"
      },
      "outputs": [],
      "source": [
        "from einops import rearrange\n",
        "exp_name=\"relative-pos-embeddings\"\n",
        "\n",
        "class MultiHeadAttention(nn.Module):\n",
        "    \"\"\" multi head of self-attention \"\"\"\n",
        "\n",
        "    def __init__(self, num_heads, head_size, shared_head=False):\n",
        "        super().__init__()\n",
        "        self.num_heads = num_heads\n",
        "        self.head_size = head_size\n",
        "        self.shared_head = shared_head\n",
        "\n",
        "        self.qkv = nn.Linear(head_size, 3*head_size, bias=False) # stacked QKV\n",
        "        self.register_buffer('tril', torch.tril(torch.ones(block_size, block_size)))\n",
        "\n",
        "        if self.shared_head:\n",
        "          self.pos_emb = nn.Parameter(torch.randn(2*block_size - 1, head_size)) # For causal, size can be of block_size only\n",
        "        else:\n",
        "          self.pos_emb = nn.Parameter(torch.randn(num_heads, 2*block_size - 1, head_size))\n",
        "\n",
        "        self.dropout_wei = nn.Dropout(dropout)\n",
        "        n_embd= num_heads*head_size\n",
        "        self.proj = nn.Linear(n_embd, n_embd)\n",
        "        self.dropout_proj = nn.Dropout(dropout)\n",
        "\n",
        "\n",
        "    def forward(self, x):\n",
        "        # Reshape the tensor to B N T H for N heads\n",
        "        B,T,C = x.shape\n",
        "        x = rearrange(x, 'B T (N H) -> B N T H', N=self.num_heads)\n",
        "\n",
        "        q,k,v = rearrange(self.qkv(x), \"B N T (n H)-> n B N T H\", n=3)    #(B,N,T,3H) - > 3 B N T H\n",
        "\n",
        "        # compute attention scores \\\n",
        "        wei = torch.einsum(\"BNTH, BNSH -> BNTS\", q,k) * self.head_size**-0.5\n",
        "\n",
        "        # Position Bias\n",
        "        if self.shared_head:\n",
        "            p_wei = relative_to_absolute(torch.einsum(\"BNTH, SH -> BNTS\", q, self.pos_emb))[:,:,:T, :T]  # QP\n",
        "        else:\n",
        "            p_wei = relative_to_absolute(torch.einsum(\"BNTH, NSH -> BNTS\", q, self.pos_emb))[:,:,:T, :T]\n",
        "\n",
        "        wei += p_wei\n",
        "\n",
        "        # final attention and value computation\n",
        "        wei = wei.masked_fill(self.tril[:T, :T] == 0, float('-inf'))\n",
        "        wei = F.softmax(wei, dim=-1)\n",
        "        wei = self.dropout_wei(wei)\n",
        "        # perform the weighted aggregation of the values\n",
        "        out = torch.einsum(\"BNTS, BNSH -> BNTH\", wei, v)\n",
        "\n",
        "\n",
        "        # concat and mix N Heads\n",
        "        out = rearrange(out, 'B N T H -> B T (N H)')\n",
        "        out = self.dropout_proj(self.proj(out))\n",
        "        return out"
      ]
    },
    {
      "cell_type": "code",
      "source": [
        "model, optimizer = model_setup(TransformerModel)\n",
        "train(model, optimizer, max_iters)"
      ],
      "metadata": {
        "id": "gQPRlEKb5AT9"
      },
      "execution_count": null,
      "outputs": []
    },
    {
      "cell_type": "markdown",
      "metadata": {
        "id": "wL4N-6jbKRZv"
      },
      "source": [
        "#  Rotary Position Embedding (RoPE)\n",
        "* The computation of the relative positional bias (T5) requires constructing the full attention matrix between all pairs of positions in the input sequence, which has a quadratic time complexity. While this is feasible for small input sequences, it becomes computationally expensive for longer sequences.\n",
        "* It can be used when using many of the efficient alternatives to softmax attention, including kernelized variants like FAVOR+ dont compute full attention matrix.\n",
        "* RoPE encode position information of tokens with a rotation matrix that naturally incorporates explicit relative position dependency with attention calculations.\n",
        "* It has been widely used in llama, PaLM, Dolly and other latest transformer models"
      ]
    },
    {
      "cell_type": "markdown",
      "source": [
        "[RoPE library Implemetation](https://github.com/lucidrains/rotary-embedding-torch)\n",
        "\n",
        "[LLAMA Code Implementation](https://github.com/juncongmoo/pyllama/blob/main/llama/model_single.py)\n",
        "\n",
        "[eleutherAI Blog ](https://blog.eleuther.ai/rotary-embeddings/)\n"
      ],
      "metadata": {
        "id": "DE8XlbdmtpyS"
      }
    },
    {
      "cell_type": "code",
      "execution_count": null,
      "metadata": {
        "id": "HUaiQJXfQsDA"
      },
      "outputs": [],
      "source": [
        "from einops import rearrange\n",
        "from rotary_embedding_torch import RotaryEmbedding\n",
        "exp_name=\"RoPE\"\n",
        "\n",
        "class MultiHeadAttention(nn.Module):\n",
        "    \"\"\" multi head of self-attention \"\"\"\n",
        "\n",
        "    def __init__(self, num_heads, head_size, shared_head=False):\n",
        "        super().__init__()\n",
        "        self.num_heads = num_heads\n",
        "        self.head_size = head_size\n",
        "        self.shared_head = shared_head\n",
        "\n",
        "        self.qkv = nn.Linear(head_size, 3*head_size, bias=False) # stacked QKV\n",
        "        self.register_buffer('tril', torch.tril(torch.ones(block_size, block_size)))\n",
        "\n",
        "        self.rotary_emb =  RotaryEmbedding(\n",
        "            dim = head_size,\n",
        "            use_xpos = True   # set this to True to make rotary embeddings extrapolate better to sequence lengths greater than the one used at training time\n",
        "            )\n",
        "\n",
        "        self.dropout_wei = nn.Dropout(dropout)\n",
        "        n_embd= num_heads*head_size\n",
        "        self.proj = nn.Linear(n_embd, n_embd)\n",
        "        self.dropout_proj = nn.Dropout(dropout)\n",
        "\n",
        "\n",
        "    def forward(self, x):\n",
        "        # Reshape the tensor to B N T H for N heads\n",
        "        B,T,C = x.shape\n",
        "        x = rearrange(x, 'B T (N H) -> B N T H', N=self.num_heads)\n",
        "\n",
        "        q,k,v = rearrange(self.qkv(x), \"B N T (n H)-> n B N T H\", n=3)    #(B,N,T,3H) - > 3 B N T H\n",
        "\n",
        "        # Apply RoPE\n",
        "        q, k = self.rotary_emb.rotate_queries_and_keys(q, k)\n",
        "\n",
        "        # compute attention scores - Flash attention\n",
        "        out = torch.nn.functional.scaled_dot_product_attention(q, k, v, attn_mask=None, dropout_p=dropout if self.training else 0, is_causal=True)\n",
        "\n",
        "        # concat and mix N Heads\n",
        "        out = rearrange(out, 'B N T H -> B T (N H)')\n",
        "        out = self.dropout_proj(self.proj(out))\n",
        "        return out"
      ]
    },
    {
      "cell_type": "code",
      "source": [
        "model, optimizer = model_setup(TransformerModel)\n",
        "train(model, optimizer, max_iters)"
      ],
      "metadata": {
        "id": "R5Rd5Mx649FG"
      },
      "execution_count": null,
      "outputs": []
    },
    {
      "cell_type": "markdown",
      "source": [
        "# Align and Bias (AliBi)\n",
        "\n",
        "Instead, computing the attention between a certain key and query, ALiBi penalizes the attention value that that query can assign to the key depending on how far away the key and query are. So when a key and query are close by, the penalty is very low, and when they are far away, the penalty is very high.\n",
        "\n",
        "The biases decrease linearly in the log scale and each head has a different slope.\n",
        "\n",
        "It is very fast and and used in MPT. It outperforms Rotary embeddings in accuracy when evaluating sequences that are longer than the ones the model was trained on (extrapolation).\n",
        "\n",
        "![image.png](data:image/png;base64,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)"
      ],
      "metadata": {
        "id": "DkXbd-M-M9FK"
      }
    },
    {
      "cell_type": "code",
      "source": [
        "import math\n",
        "# Code reference from https://nn.labml.ai/transformers/alibi/index.html with some changes\n",
        "\n",
        "def get_slopes(n_heads: int):\n",
        "    n = 2 ** math.floor(math.log2(n_heads))\n",
        "    m_0 = 2.0 ** (-8.0 / n)\n",
        "    m = torch.pow(m_0, torch.arange(1, 1 + n))\n",
        "    if n < n_heads:\n",
        "        m_hat_0 = 2.0 ** (-4.0 / n)\n",
        "        m_hat = torch.pow(m_hat_0, torch.arange(1, 1 + 2 * (n_heads - n), 2))\n",
        "        m = torch.cat([m, m_hat])\n",
        "\n",
        "    return m\n",
        "\n",
        "def get_distance(seq_len: int):\n",
        "    # We use cumsum on causal mask to calculate distance pattern.\n",
        "    # As diagonal elements of distance pattern are zero, we use causal mask of N+1\n",
        "    mask = torch.tril(torch.ones(seq_len+1,seq_len+1))\n",
        "    distance=mask.cumsum(0)[:-1,1:]\n",
        "    return distance\n",
        "\n",
        "\n",
        "@torch.no_grad()\n",
        "def get_alibi_biases(n_heads: int, seq_len: int, device=device):\n",
        "\n",
        "    m = get_slopes(n_heads).to(device)\n",
        "    distance = get_distance(seq_len).to(device)\n",
        "\n",
        "    # Multiply them pair-wise to get the AliBi bias matrix\n",
        "    biases = distance[None,:, :] * (m[:,None, None] *-1)\n",
        "\n",
        "    return biases\n"
      ],
      "metadata": {
        "id": "kBoOHOrfN4VG"
      },
      "execution_count": null,
      "outputs": []
    },
    {
      "cell_type": "code",
      "execution_count": null,
      "metadata": {
        "id": "YQvtOX-TzeXy",
        "colab": {
          "base_uri": "https://localhost:8080/"
        },
        "outputId": "e66f52d6-3fb8-4abd-be8d-79a143764ead"
      },
      "outputs": [
        {
          "output_type": "execute_result",
          "data": {
            "text/plain": [
              "tensor([0.5000, 0.2500, 0.1250, 0.0625, 0.0312, 0.0156, 0.0078, 0.0039])"
            ]
          },
          "metadata": {},
          "execution_count": 56
        }
      ],
      "source": [
        "m=get_slopes(8)\n",
        "m"
      ]
    },
    {
      "cell_type": "code",
      "source": [
        "get_distance(10)"
      ],
      "metadata": {
        "colab": {
          "base_uri": "https://localhost:8080/"
        },
        "id": "Rqvk4Wn3crFF",
        "outputId": "e7a3adf2-85cf-4b77-e746-69dbb0389444"
      },
      "execution_count": null,
      "outputs": [
        {
          "output_type": "execute_result",
          "data": {
            "text/plain": [
              "tensor([[0., 0., 0., 0., 0., 0., 0., 0., 0., 0.],\n",
              "        [1., 0., 0., 0., 0., 0., 0., 0., 0., 0.],\n",
              "        [2., 1., 0., 0., 0., 0., 0., 0., 0., 0.],\n",
              "        [3., 2., 1., 0., 0., 0., 0., 0., 0., 0.],\n",
              "        [4., 3., 2., 1., 0., 0., 0., 0., 0., 0.],\n",
              "        [5., 4., 3., 2., 1., 0., 0., 0., 0., 0.],\n",
              "        [6., 5., 4., 3., 2., 1., 0., 0., 0., 0.],\n",
              "        [7., 6., 5., 4., 3., 2., 1., 0., 0., 0.],\n",
              "        [8., 7., 6., 5., 4., 3., 2., 1., 0., 0.],\n",
              "        [9., 8., 7., 6., 5., 4., 3., 2., 1., 0.]])"
            ]
          },
          "metadata": {},
          "execution_count": 57
        }
      ]
    },
    {
      "cell_type": "code",
      "source": [
        "get_alibi_biases(8, 3)"
      ],
      "metadata": {
        "colab": {
          "base_uri": "https://localhost:8080/"
        },
        "id": "E_R2KMryw0ja",
        "outputId": "f41dd9e2-8e4e-49f6-a787-0d2bc53656f1"
      },
      "execution_count": null,
      "outputs": [
        {
          "output_type": "execute_result",
          "data": {
            "text/plain": [
              "tensor([[[-0.0000, -0.0000, -0.0000],\n",
              "         [-0.5000, -0.0000, -0.0000],\n",
              "         [-1.0000, -0.5000, -0.0000]],\n",
              "\n",
              "        [[-0.0000, -0.0000, -0.0000],\n",
              "         [-0.2500, -0.0000, -0.0000],\n",
              "         [-0.5000, -0.2500, -0.0000]],\n",
              "\n",
              "        [[-0.0000, -0.0000, -0.0000],\n",
              "         [-0.1250, -0.0000, -0.0000],\n",
              "         [-0.2500, -0.1250, -0.0000]],\n",
              "\n",
              "        [[-0.0000, -0.0000, -0.0000],\n",
              "         [-0.0625, -0.0000, -0.0000],\n",
              "         [-0.1250, -0.0625, -0.0000]],\n",
              "\n",
              "        [[-0.0000, -0.0000, -0.0000],\n",
              "         [-0.0312, -0.0000, -0.0000],\n",
              "         [-0.0625, -0.0312, -0.0000]],\n",
              "\n",
              "        [[-0.0000, -0.0000, -0.0000],\n",
              "         [-0.0156, -0.0000, -0.0000],\n",
              "         [-0.0312, -0.0156, -0.0000]],\n",
              "\n",
              "        [[-0.0000, -0.0000, -0.0000],\n",
              "         [-0.0078, -0.0000, -0.0000],\n",
              "         [-0.0156, -0.0078, -0.0000]],\n",
              "\n",
              "        [[-0.0000, -0.0000, -0.0000],\n",
              "         [-0.0039, -0.0000, -0.0000],\n",
              "         [-0.0078, -0.0039, -0.0000]]], device='cuda:0')"
            ]
          },
          "metadata": {},
          "execution_count": 58
        }
      ]
    },
    {
      "cell_type": "code",
      "execution_count": null,
      "metadata": {
        "id": "LaJJ0e17zo21"
      },
      "outputs": [],
      "source": [
        "from einops import rearrange\n",
        "exp_name=\"ALiBi\"\n",
        "\n",
        "class MultiHeadAttention(nn.Module):\n",
        "    \"\"\" multi head of self-attention with ALiBi\"\"\"\n",
        "\n",
        "    def __init__(self, num_heads, head_size, shared_head=False):\n",
        "        super().__init__()\n",
        "        self.num_heads = num_heads\n",
        "        self.head_size = head_size\n",
        "        self.shared_head = shared_head\n",
        "\n",
        "        self.qkv = nn.Linear(head_size, 3*head_size, bias=False) # stacked QKV\n",
        "        self.register_buffer('tril', torch.tril(torch.ones(block_size, block_size)))\n",
        "\n",
        "        # To cache AliBi the biases\n",
        "        self.alibi_biases = None\n",
        "\n",
        "        self.dropout_wei = nn.Dropout(dropout)\n",
        "        n_embd= num_heads*head_size\n",
        "        self.proj = nn.Linear(n_embd, n_embd)\n",
        "        self.dropout_proj = nn.Dropout(dropout)\n",
        "\n",
        "\n",
        "    def forward(self, x):\n",
        "        # Reshape the tensor to B N T H for N heads\n",
        "        B,T,C = x.shape\n",
        "        x = rearrange(x, 'B T (N H) -> B N T H', N=self.num_heads)\n",
        "\n",
        "        q,k,v = rearrange(self.qkv(x), \"B N T (n H)-> n B N T H\", n=3)    #(B,N,T,3H) - > 3 B N T H\n",
        "\n",
        "        # compute attention scores \\\n",
        "        wei = torch.einsum(\"BNTH, BNSH -> BNTS\", q,k) * self.head_size**-0.5\n",
        "\n",
        "        # Position Bias\n",
        "        ## Create AliBi biases if it's not cached\n",
        "        if self.alibi_biases is None or self.alibi_biases.shape[1] < T:\n",
        "            self.alibi_biases = get_alibi_biases(self.num_heads, seq_len=T)\n",
        "\n",
        "        # Add AliBi biases to attention scores.\n",
        "        # ALiBi biases has shape `[n_heads, seq_len, seq_len]`\n",
        "        wei += self.alibi_biases[None, :, :T, :T]\n",
        "\n",
        "        # final attention and value computation\n",
        "        wei = wei.masked_fill(self.tril[:T, :T] == 0, float('-inf'))\n",
        "        wei = F.softmax(wei, dim=-1)\n",
        "        wei = self.dropout_wei(wei)\n",
        "        # perform the weighted aggregation of the values\n",
        "        out = torch.einsum(\"BNTS, BNSH -> BNTH\", wei, v)\n",
        "\n",
        "\n",
        "        # concat and mix N Heads\n",
        "        out = rearrange(out, 'B N T H -> B T (N H)')\n",
        "        out = self.dropout_proj(self.proj(out))\n",
        "        return out"
      ]
    },
    {
      "cell_type": "code",
      "source": [
        "model, optimizer = model_setup(TransformerModel)\n",
        "train(model, optimizer, max_iters)"
      ],
      "metadata": {
        "colab": {
          "base_uri": "https://localhost:8080/",
          "height": 1000,
          "referenced_widgets": [
            "217008082acd48db8f306f94a19090a4",
            "2095f5d3e6584f6c89cca6170bef4e0e",
            "91b0d39839d646cdb7a2ec94c2618b6f",
            "7b0ade1aed5e4935b369bbb391940e8a",
            "ea2d00787c4b4354875eaeea12e56a9c",
            "ef1a84e7e9ca49cdb4d7c840dc517c3c",
            "31a751f024c549e6a9e8dbf10d5d7518",
            "3937c0e27d204f7f82d483031409bd8d"
          ]
        },
        "id": "5DcjzzzOvxfw",
        "outputId": "93cf0e8f-f52e-42a9-f5d2-7ed98b424c6b"
      },
      "execution_count": null,
      "outputs": [
        {
          "metadata": {
            "tags": null
          },
          "name": "stderr",
          "output_type": "stream",
          "text": [
            "\u001b[34m\u001b[1mwandb\u001b[0m: Currently logged in as: \u001b[33msaurabh5228\u001b[0m. Use \u001b[1m`wandb login --relogin`\u001b[0m to force relogin\n"
          ]
        },
        {
          "data": {
            "text/html": [
              "Tracking run with wandb version 0.15.7"
            ],
            "text/plain": [
              "<IPython.core.display.HTML object>"
            ]
          },
          "metadata": {},
          "output_type": "display_data"
        },
        {
          "data": {
            "text/html": [
              "Run data is saved locally in <code>/content/wandb/run-20230728_045850-rw9937ks</code>"
            ],
            "text/plain": [
              "<IPython.core.display.HTML object>"
            ]
          },
          "metadata": {},
          "output_type": "display_data"
        },
        {
          "data": {
            "text/html": [
              "Syncing run <strong><a href='https://wandb.ai/saurabh5228/Transformers%20-%20PosEmbeddings/runs/rw9937ks' target=\"_blank\">ALiBi</a></strong> to <a href='https://wandb.ai/saurabh5228/Transformers%20-%20PosEmbeddings' target=\"_blank\">Weights & Biases</a> (<a href='https://wandb.me/run' target=\"_blank\">docs</a>)<br/>"
            ],
            "text/plain": [
              "<IPython.core.display.HTML object>"
            ]
          },
          "metadata": {},
          "output_type": "display_data"
        },
        {
          "data": {
            "text/html": [
              " View project at <a href='https://wandb.ai/saurabh5228/Transformers%20-%20PosEmbeddings' target=\"_blank\">https://wandb.ai/saurabh5228/Transformers%20-%20PosEmbeddings</a>"
            ],
            "text/plain": [
              "<IPython.core.display.HTML object>"
            ]
          },
          "metadata": {},
          "output_type": "display_data"
        },
        {
          "data": {
            "text/html": [
              " View run at <a href='https://wandb.ai/saurabh5228/Transformers%20-%20PosEmbeddings/runs/rw9937ks' target=\"_blank\">https://wandb.ai/saurabh5228/Transformers%20-%20PosEmbeddings/runs/rw9937ks</a>"
            ],
            "text/plain": [
              "<IPython.core.display.HTML object>"
            ]
          },
          "metadata": {},
          "output_type": "display_data"
        },
        {
          "metadata": {
            "tags": null
          },
          "name": "stdout",
          "output_type": "stream",
          "text": [
            "0.911802 M parameters\n",
            "step 0: train loss 9.6408, val loss 9.6231\n"
          ]
        },
        {
          "metadata": {
            "tags": null
          },
          "name": "stderr",
          "output_type": "stream",
          "text": [
            "[2023-07-28 04:59:03,415] torch._inductor.utils: [WARNING] using triton random, expect difference from eager\n",
            "[2023-07-28 04:59:03,624] torch._inductor.utils: [WARNING] using triton random, expect difference from eager\n",
            "[2023-07-28 04:59:03,881] torch._inductor.utils: [WARNING] using triton random, expect difference from eager\n",
            "[2023-07-28 04:59:04,517] torch._inductor.utils: [WARNING] using triton random, expect difference from eager\n",
            "[2023-07-28 04:59:04,729] torch._inductor.utils: [WARNING] using triton random, expect difference from eager\n",
            "[2023-07-28 04:59:05,026] torch._inductor.utils: [WARNING] using triton random, expect difference from eager\n",
            "[2023-07-28 04:59:05,669] torch._inductor.utils: [WARNING] using triton random, expect difference from eager\n",
            "[2023-07-28 04:59:05,888] torch._inductor.utils: [WARNING] using triton random, expect difference from eager\n",
            "[2023-07-28 04:59:06,161] torch._inductor.utils: [WARNING] using triton random, expect difference from eager\n",
            "[2023-07-28 04:59:06,818] torch._inductor.utils: [WARNING] using triton random, expect difference from eager\n",
            "[2023-07-28 04:59:07,031] torch._inductor.utils: [WARNING] using triton random, expect difference from eager\n",
            "[2023-07-28 04:59:07,304] torch._inductor.utils: [WARNING] using triton random, expect difference from eager\n"
          ]
        },
        {
          "metadata": {
            "tags": null
          },
          "name": "stdout",
          "output_type": "stream",
          "text": [
            "step 100: train loss 6.2136, val loss 6.2760\n",
            "step 200: train loss 5.8172, val loss 5.9437\n",
            "step 300: train loss 5.4904, val loss 5.6388\n",
            "step 400: train loss 5.2231, val loss 5.4420\n",
            "step 500: train loss 5.0816, val loss 5.2844\n",
            "step 600: train loss 4.9334, val loss 5.1729\n",
            "step 700: train loss 4.8362, val loss 5.1252\n",
            "step 800: train loss 4.7153, val loss 5.0880\n",
            "step 900: train loss 4.7059, val loss 5.0322\n",
            "step 1000: train loss 4.5785, val loss 4.9738\n",
            "step 1100: train loss 4.5557, val loss 4.9768\n",
            "step 1200: train loss 4.4948, val loss 4.9530\n",
            "step 1300: train loss 4.4500, val loss 4.9105\n",
            "step 1400: train loss 4.4366, val loss 4.8991\n",
            "step 1500: train loss 4.4013, val loss 4.8822\n",
            "step 1600: train loss 4.3467, val loss 4.8723\n",
            "step 1700: train loss 4.3249, val loss 4.8324\n",
            "step 1800: train loss 4.2808, val loss 4.8033\n",
            "step 1900: train loss 4.2520, val loss 4.7816\n",
            "step 2000: train loss 4.2222, val loss 4.7940\n",
            "step 2100: train loss 4.1770, val loss 4.8222\n",
            "step 2200: train loss 4.1840, val loss 4.8182\n",
            "step 2300: train loss 4.1463, val loss 4.8068\n",
            "step 2400: train loss 4.1392, val loss 4.7445\n",
            "step 2500: train loss 4.1145, val loss 4.8150\n",
            "step 2600: train loss 4.0696, val loss 4.8292\n",
            "step 2700: train loss 4.0668, val loss 4.8344\n",
            "step 2800: train loss 4.0620, val loss 4.8356\n",
            "step 2900: train loss 4.0345, val loss 4.7792\n",
            "step 3000: train loss 4.0279, val loss 4.8335\n",
            "step 3100: train loss 4.0302, val loss 4.7853\n",
            "step 3200: train loss 4.0033, val loss 4.8079\n",
            "step 3300: train loss 3.9929, val loss 4.7899\n",
            "step 3400: train loss 3.9466, val loss 4.7935\n",
            "step 3500: train loss 3.9930, val loss 4.7677\n",
            "step 3600: train loss 3.9837, val loss 4.8345\n",
            "step 3700: train loss 3.9286, val loss 4.8252\n",
            "step 3800: train loss 3.9512, val loss 4.7955\n",
            "step 3900: train loss 3.9254, val loss 4.8057\n",
            "step 3999: train loss 3.9148, val loss 4.8061\n"
          ]
        },
        {
          "data": {
            "text/html": [
              "Waiting for W&B process to finish... <strong style=\"color:green\">(success).</strong>"
            ],
            "text/plain": [
              "<IPython.core.display.HTML object>"
            ]
          },
          "metadata": {},
          "output_type": "display_data"
        },
        {
          "data": {
            "application/vnd.jupyter.widget-view+json": {
              "model_id": "217008082acd48db8f306f94a19090a4",
              "version_major": 2,
              "version_minor": 0
            },
            "text/plain": [
              "VBox(children=(Label(value='0.001 MB of 0.001 MB uploaded (0.000 MB deduped)\\r'), FloatProgress(value=1.0, max…"
            ]
          },
          "metadata": {},
          "output_type": "display_data"
        },
        {
          "data": {
            "text/html": [
              "<style>\n",
              "    table.wandb td:nth-child(1) { padding: 0 10px; text-align: left ; width: auto;} td:nth-child(2) {text-align: left ; width: 100%}\n",
              "    .wandb-row { display: flex; flex-direction: row; flex-wrap: wrap; justify-content: flex-start; width: 100% }\n",
              "    .wandb-col { display: flex; flex-direction: column; flex-basis: 100%; flex: 1; padding: 10px; }\n",
              "    </style>\n",
              "<div class=\"wandb-row\"><div class=\"wandb-col\"><h3>Run history:</h3><br/><table class=\"wandb\"><tr><td>loss/train</td><td>█▇▆▅▅▄▄▃▃▃▃▃▃▃▂▂▂▂▂▂▂▂▂▂▂▁▁▁▁▁▁▁▁▁▁▁▁▁▁▁</td></tr><tr><td>loss/val</td><td>█▆▅▄▃▃▃▃▂▂▂▂▂▂▂▂▁▁▁▁▁▁▁▁▁▁▁▁▁▁▁▁▁▁▁▁▁▁▁▁</td></tr><tr><td>model_parameters</td><td>▁</td></tr></table><br/></div><div class=\"wandb-col\"><h3>Run summary:</h3><br/><table class=\"wandb\"><tr><td>loss/train</td><td>3.91483</td></tr><tr><td>loss/val</td><td>4.8061</td></tr><tr><td>model_parameters</td><td>911802</td></tr></table><br/></div></div>"
            ],
            "text/plain": [
              "<IPython.core.display.HTML object>"
            ]
          },
          "metadata": {},
          "output_type": "display_data"
        },
        {
          "data": {
            "text/html": [
              " View run <strong style=\"color:#cdcd00\">ALiBi</strong> at: <a href='https://wandb.ai/saurabh5228/Transformers%20-%20PosEmbeddings/runs/rw9937ks' target=\"_blank\">https://wandb.ai/saurabh5228/Transformers%20-%20PosEmbeddings/runs/rw9937ks</a><br/>Synced 5 W&B file(s), 0 media file(s), 0 artifact file(s) and 0 other file(s)"
            ],
            "text/plain": [
              "<IPython.core.display.HTML object>"
            ]
          },
          "metadata": {},
          "output_type": "display_data"
        },
        {
          "data": {
            "text/html": [
              "Find logs at: <code>./wandb/run-20230728_045850-rw9937ks/logs</code>"
            ],
            "text/plain": [
              "<IPython.core.display.HTML object>"
            ]
          },
          "metadata": {},
          "output_type": "display_data"
        }
      ]
    },
    {
      "cell_type": "markdown",
      "source": [
        "# Landmark Attention\n",
        "Implementation Details https://github.com/epfml/landmark-attention"
      ],
      "metadata": {
        "id": "Hh3qm7GxBf1L"
      }
    },
    {
      "cell_type": "markdown",
      "metadata": {
        "id": "gYSGXVfVzq8X"
      },
      "source": [
        "# What's Next?"
      ]
    },
    {
      "cell_type": "markdown",
      "source": [
        "Next, we will take a  look at several advancements have been made in Efficient attention mechanisms such as Sparse Attention(BIG BIRD), FAVOR+ (Performer), MultiQuery Attention, and Longformer(Sliding Attention)."
      ],
      "metadata": {
        "id": "U3PCAV8hVHce"
      }
    },
    {
      "cell_type": "markdown",
      "source": [
        "# Extra\n",
        "## Relative to Absolute conversion"
      ],
      "metadata": {
        "id": "3ed8Ri3r98DF"
      }
    },
    {
      "cell_type": "code",
      "execution_count": null,
      "metadata": {
        "id": "G0F0X5toIfkp"
      },
      "outputs": [],
      "source": [
        "from matplotlib import pyplot as plt\n",
        "import numpy as np"
      ]
    },
    {
      "cell_type": "code",
      "source": [
        "k = 5\n",
        "causal = False\n",
        "\n",
        "end =  0 if causal else k-1\n",
        "w= np.arange(-k+1,end+1)\n",
        "l = len(w)\n",
        "w,l"
      ],
      "metadata": {
        "colab": {
          "base_uri": "https://localhost:8080/"
        },
        "id": "zuBJjPf9zOhV",
        "outputId": "88d05514-5c5d-4ed3-e59b-0aa3a73e8adb"
      },
      "execution_count": null,
      "outputs": [
        {
          "output_type": "execute_result",
          "data": {
            "text/plain": [
              "(array([-4, -3, -2, -1,  0,  1,  2,  3,  4]), 9)"
            ]
          },
          "metadata": {},
          "execution_count": 116
        }
      ]
    },
    {
      "cell_type": "code",
      "source": [
        "w1=np.concatenate([w,[-np.inf]])\n",
        "w1"
      ],
      "metadata": {
        "colab": {
          "base_uri": "https://localhost:8080/"
        },
        "id": "oRjlnbd08fzH",
        "outputId": "246a7442-03bc-4b7a-9516-1d1f0cea6daf"
      },
      "execution_count": null,
      "outputs": [
        {
          "output_type": "execute_result",
          "data": {
            "text/plain": [
              "array([ -4.,  -3.,  -2.,  -1.,   0.,   1.,   2.,   3.,   4., -inf])"
            ]
          },
          "metadata": {},
          "execution_count": 117
        }
      ]
    },
    {
      "cell_type": "code",
      "source": [
        "w1 = np.repeat(w1[np.newaxis, :], l, axis=0)\n",
        "w1"
      ],
      "metadata": {
        "colab": {
          "base_uri": "https://localhost:8080/"
        },
        "id": "wt-C4TA900-6",
        "outputId": "9e541753-326d-4b8b-99ab-242a870d72dd"
      },
      "execution_count": null,
      "outputs": [
        {
          "output_type": "execute_result",
          "data": {
            "text/plain": [
              "array([[ -4.,  -3.,  -2.,  -1.,   0.,   1.,   2.,   3.,   4., -inf],\n",
              "       [ -4.,  -3.,  -2.,  -1.,   0.,   1.,   2.,   3.,   4., -inf],\n",
              "       [ -4.,  -3.,  -2.,  -1.,   0.,   1.,   2.,   3.,   4., -inf],\n",
              "       [ -4.,  -3.,  -2.,  -1.,   0.,   1.,   2.,   3.,   4., -inf],\n",
              "       [ -4.,  -3.,  -2.,  -1.,   0.,   1.,   2.,   3.,   4., -inf],\n",
              "       [ -4.,  -3.,  -2.,  -1.,   0.,   1.,   2.,   3.,   4., -inf],\n",
              "       [ -4.,  -3.,  -2.,  -1.,   0.,   1.,   2.,   3.,   4., -inf],\n",
              "       [ -4.,  -3.,  -2.,  -1.,   0.,   1.,   2.,   3.,   4., -inf],\n",
              "       [ -4.,  -3.,  -2.,  -1.,   0.,   1.,   2.,   3.,   4., -inf]])"
            ]
          },
          "metadata": {},
          "execution_count": 118
        }
      ]
    },
    {
      "cell_type": "code",
      "source": [
        "w1, w1.shape"
      ],
      "metadata": {
        "colab": {
          "base_uri": "https://localhost:8080/"
        },
        "id": "dcFyQGkO4uwp",
        "outputId": "b7b463b5-5c6f-4434-eb54-c749afa77bd5"
      },
      "execution_count": null,
      "outputs": [
        {
          "output_type": "execute_result",
          "data": {
            "text/plain": [
              "(array([[ -4.,  -3.,  -2.,  -1.,   0.,   1.,   2.,   3.,   4., -inf],\n",
              "        [ -4.,  -3.,  -2.,  -1.,   0.,   1.,   2.,   3.,   4., -inf],\n",
              "        [ -4.,  -3.,  -2.,  -1.,   0.,   1.,   2.,   3.,   4., -inf],\n",
              "        [ -4.,  -3.,  -2.,  -1.,   0.,   1.,   2.,   3.,   4., -inf],\n",
              "        [ -4.,  -3.,  -2.,  -1.,   0.,   1.,   2.,   3.,   4., -inf],\n",
              "        [ -4.,  -3.,  -2.,  -1.,   0.,   1.,   2.,   3.,   4., -inf],\n",
              "        [ -4.,  -3.,  -2.,  -1.,   0.,   1.,   2.,   3.,   4., -inf],\n",
              "        [ -4.,  -3.,  -2.,  -1.,   0.,   1.,   2.,   3.,   4., -inf],\n",
              "        [ -4.,  -3.,  -2.,  -1.,   0.,   1.,   2.,   3.,   4., -inf]]),\n",
              " (9, 10))"
            ]
          },
          "metadata": {},
          "execution_count": 119
        }
      ]
    },
    {
      "cell_type": "code",
      "source": [
        "w1 = w1.reshape((l+1,l))\n",
        "w1"
      ],
      "metadata": {
        "colab": {
          "base_uri": "https://localhost:8080/"
        },
        "id": "a-ZHMPr7vV82",
        "outputId": "4750380d-a515-42d8-b006-b677c5557ed9"
      },
      "execution_count": null,
      "outputs": [
        {
          "output_type": "execute_result",
          "data": {
            "text/plain": [
              "array([[ -4.,  -3.,  -2.,  -1.,   0.,   1.,   2.,   3.,   4.],\n",
              "       [-inf,  -4.,  -3.,  -2.,  -1.,   0.,   1.,   2.,   3.],\n",
              "       [  4., -inf,  -4.,  -3.,  -2.,  -1.,   0.,   1.,   2.],\n",
              "       [  3.,   4., -inf,  -4.,  -3.,  -2.,  -1.,   0.,   1.],\n",
              "       [  2.,   3.,   4., -inf,  -4.,  -3.,  -2.,  -1.,   0.],\n",
              "       [  1.,   2.,   3.,   4., -inf,  -4.,  -3.,  -2.,  -1.],\n",
              "       [  0.,   1.,   2.,   3.,   4., -inf,  -4.,  -3.,  -2.],\n",
              "       [ -1.,   0.,   1.,   2.,   3.,   4., -inf,  -4.,  -3.],\n",
              "       [ -2.,  -1.,   0.,   1.,   2.,   3.,   4., -inf,  -4.],\n",
              "       [ -3.,  -2.,  -1.,   0.,   1.,   2.,   3.,   4., -inf]])"
            ]
          },
          "metadata": {},
          "execution_count": 120
        }
      ]
    },
    {
      "cell_type": "code",
      "source": [
        "if not causal:\n",
        "  w1 = w1[:k,k-1:]\n",
        "  w1"
      ],
      "metadata": {
        "id": "W1j70dQDvp8O"
      },
      "execution_count": null,
      "outputs": []
    },
    {
      "cell_type": "code",
      "source": [
        "if causal:\n",
        "  w1 =np.concatenate([w1[2:],w1[0:1,:]])\n",
        "  causal_mask = np.tril(np.ones((k, k)))\n",
        "  w1 = np.where(causal_mask == 0, -np.inf, w1)\n",
        "  w1"
      ],
      "metadata": {
        "id": "0zJsGLgEvt_9"
      },
      "execution_count": null,
      "outputs": []
    },
    {
      "cell_type": "code",
      "source": [
        "w1"
      ],
      "metadata": {
        "colab": {
          "base_uri": "https://localhost:8080/"
        },
        "id": "Ky4rYq9iwdXr",
        "outputId": "b66f75e7-6c2c-4810-8a95-bea55448e19e"
      },
      "execution_count": null,
      "outputs": [
        {
          "output_type": "execute_result",
          "data": {
            "text/plain": [
              "array([[ 0.,  1.,  2.,  3.,  4.],\n",
              "       [-1.,  0.,  1.,  2.,  3.],\n",
              "       [-2., -1.,  0.,  1.,  2.],\n",
              "       [-3., -2., -1.,  0.,  1.],\n",
              "       [-4., -3., -2., -1.,  0.]])"
            ]
          },
          "metadata": {},
          "execution_count": 123
        }
      ]
    },
    {
      "cell_type": "code",
      "source": [],
      "metadata": {
        "id": "NKfUYMCv-775"
      },
      "execution_count": null,
      "outputs": []
    }
  ],
  "metadata": {
    "accelerator": "GPU",
    "colab": {
      "provenance": [],
      "toc_visible": true,
      "gpuType": "T4",
      "include_colab_link": true
    },
    "kernelspec": {
      "display_name": "Python 3",
      "name": "python3"
    },
    "language_info": {
      "name": "python"
    },
    "widgets": {
      "application/vnd.jupyter.widget-state+json": {
        "2ce776654e89457cae0fac3001908419": {
          "model_module": "@jupyter-widgets/controls",
          "model_name": "HBoxModel",
          "model_module_version": "1.5.0",
          "state": {
            "_dom_classes": [],
            "_model_module": "@jupyter-widgets/controls",
            "_model_module_version": "1.5.0",
            "_model_name": "HBoxModel",
            "_view_count": null,
            "_view_module": "@jupyter-widgets/controls",
            "_view_module_version": "1.5.0",
            "_view_name": "HBoxView",
            "box_style": "",
            "children": [
              "IPY_MODEL_8af31df4932c41b19a39dd32b420bf3e",
              "IPY_MODEL_2511f4675b774ab7bdab118f74eaefb6",
              "IPY_MODEL_94cd62c693494956994a57a6658d1074"
            ],
            "layout": "IPY_MODEL_e45f5f2c9105422b822ac682193b8278"
          }
        },
        "8af31df4932c41b19a39dd32b420bf3e": {
          "model_module": "@jupyter-widgets/controls",
          "model_name": "HTMLModel",
          "model_module_version": "1.5.0",
          "state": {
            "_dom_classes": [],
            "_model_module": "@jupyter-widgets/controls",
            "_model_module_version": "1.5.0",
            "_model_name": "HTMLModel",
            "_view_count": null,
            "_view_module": "@jupyter-widgets/controls",
            "_view_module_version": "1.5.0",
            "_view_name": "HTMLView",
            "description": "",
            "description_tooltip": null,
            "layout": "IPY_MODEL_df9346d91e4049558ece0e78de53a8d4",
            "placeholder": "​",
            "style": "IPY_MODEL_61773c190bc14e8c8ad7dd8f699b18c1",
            "value": "Downloading (…)olve/main/vocab.json: 100%"
          }
        },
        "2511f4675b774ab7bdab118f74eaefb6": {
          "model_module": "@jupyter-widgets/controls",
          "model_name": "FloatProgressModel",
          "model_module_version": "1.5.0",
          "state": {
            "_dom_classes": [],
            "_model_module": "@jupyter-widgets/controls",
            "_model_module_version": "1.5.0",
            "_model_name": "FloatProgressModel",
            "_view_count": null,
            "_view_module": "@jupyter-widgets/controls",
            "_view_module_version": "1.5.0",
            "_view_name": "ProgressView",
            "bar_style": "success",
            "description": "",
            "description_tooltip": null,
            "layout": "IPY_MODEL_a656cf51bcd3455c8ce6e9e642fd8dde",
            "max": 1042301,
            "min": 0,
            "orientation": "horizontal",
            "style": "IPY_MODEL_0a768406717d4c0db8750f892997a4e0",
            "value": 1042301
          }
        },
        "94cd62c693494956994a57a6658d1074": {
          "model_module": "@jupyter-widgets/controls",
          "model_name": "HTMLModel",
          "model_module_version": "1.5.0",
          "state": {
            "_dom_classes": [],
            "_model_module": "@jupyter-widgets/controls",
            "_model_module_version": "1.5.0",
            "_model_name": "HTMLModel",
            "_view_count": null,
            "_view_module": "@jupyter-widgets/controls",
            "_view_module_version": "1.5.0",
            "_view_name": "HTMLView",
            "description": "",
            "description_tooltip": null,
            "layout": "IPY_MODEL_a42e67851c6044f2a5a59418bbbe919a",
            "placeholder": "​",
            "style": "IPY_MODEL_056e551db1f64153a4ccbf06e5336c1e",
            "value": " 1.04M/1.04M [00:00&lt;00:00, 8.74MB/s]"
          }
        },
        "e45f5f2c9105422b822ac682193b8278": {
          "model_module": "@jupyter-widgets/base",
          "model_name": "LayoutModel",
          "model_module_version": "1.2.0",
          "state": {
            "_model_module": "@jupyter-widgets/base",
            "_model_module_version": "1.2.0",
            "_model_name": "LayoutModel",
            "_view_count": null,
            "_view_module": "@jupyter-widgets/base",
            "_view_module_version": "1.2.0",
            "_view_name": "LayoutView",
            "align_content": null,
            "align_items": null,
            "align_self": null,
            "border": null,
            "bottom": null,
            "display": null,
            "flex": null,
            "flex_flow": null,
            "grid_area": null,
            "grid_auto_columns": null,
            "grid_auto_flow": null,
            "grid_auto_rows": null,
            "grid_column": null,
            "grid_gap": null,
            "grid_row": null,
            "grid_template_areas": null,
            "grid_template_columns": null,
            "grid_template_rows": null,
            "height": null,
            "justify_content": null,
            "justify_items": null,
            "left": null,
            "margin": null,
            "max_height": null,
            "max_width": null,
            "min_height": null,
            "min_width": null,
            "object_fit": null,
            "object_position": null,
            "order": null,
            "overflow": null,
            "overflow_x": null,
            "overflow_y": null,
            "padding": null,
            "right": null,
            "top": null,
            "visibility": null,
            "width": null
          }
        },
        "df9346d91e4049558ece0e78de53a8d4": {
          "model_module": "@jupyter-widgets/base",
          "model_name": "LayoutModel",
          "model_module_version": "1.2.0",
          "state": {
            "_model_module": "@jupyter-widgets/base",
            "_model_module_version": "1.2.0",
            "_model_name": "LayoutModel",
            "_view_count": null,
            "_view_module": "@jupyter-widgets/base",
            "_view_module_version": "1.2.0",
            "_view_name": "LayoutView",
            "align_content": null,
            "align_items": null,
            "align_self": null,
            "border": null,
            "bottom": null,
            "display": null,
            "flex": null,
            "flex_flow": null,
            "grid_area": null,
            "grid_auto_columns": null,
            "grid_auto_flow": null,
            "grid_auto_rows": null,
            "grid_column": null,
            "grid_gap": null,
            "grid_row": null,
            "grid_template_areas": null,
            "grid_template_columns": null,
            "grid_template_rows": null,
            "height": null,
            "justify_content": null,
            "justify_items": null,
            "left": null,
            "margin": null,
            "max_height": null,
            "max_width": null,
            "min_height": null,
            "min_width": null,
            "object_fit": null,
            "object_position": null,
            "order": null,
            "overflow": null,
            "overflow_x": null,
            "overflow_y": null,
            "padding": null,
            "right": null,
            "top": null,
            "visibility": null,
            "width": null
          }
        },
        "61773c190bc14e8c8ad7dd8f699b18c1": {
          "model_module": "@jupyter-widgets/controls",
          "model_name": "DescriptionStyleModel",
          "model_module_version": "1.5.0",
          "state": {
            "_model_module": "@jupyter-widgets/controls",
            "_model_module_version": "1.5.0",
            "_model_name": "DescriptionStyleModel",
            "_view_count": null,
            "_view_module": "@jupyter-widgets/base",
            "_view_module_version": "1.2.0",
            "_view_name": "StyleView",
            "description_width": ""
          }
        },
        "a656cf51bcd3455c8ce6e9e642fd8dde": {
          "model_module": "@jupyter-widgets/base",
          "model_name": "LayoutModel",
          "model_module_version": "1.2.0",
          "state": {
            "_model_module": "@jupyter-widgets/base",
            "_model_module_version": "1.2.0",
            "_model_name": "LayoutModel",
            "_view_count": null,
            "_view_module": "@jupyter-widgets/base",
            "_view_module_version": "1.2.0",
            "_view_name": "LayoutView",
            "align_content": null,
            "align_items": null,
            "align_self": null,
            "border": null,
            "bottom": null,
            "display": null,
            "flex": null,
            "flex_flow": null,
            "grid_area": null,
            "grid_auto_columns": null,
            "grid_auto_flow": null,
            "grid_auto_rows": null,
            "grid_column": null,
            "grid_gap": null,
            "grid_row": null,
            "grid_template_areas": null,
            "grid_template_columns": null,
            "grid_template_rows": null,
            "height": null,
            "justify_content": null,
            "justify_items": null,
            "left": null,
            "margin": null,
            "max_height": null,
            "max_width": null,
            "min_height": null,
            "min_width": null,
            "object_fit": null,
            "object_position": null,
            "order": null,
            "overflow": null,
            "overflow_x": null,
            "overflow_y": null,
            "padding": null,
            "right": null,
            "top": null,
            "visibility": null,
            "width": null
          }
        },
        "0a768406717d4c0db8750f892997a4e0": {
          "model_module": "@jupyter-widgets/controls",
          "model_name": "ProgressStyleModel",
          "model_module_version": "1.5.0",
          "state": {
            "_model_module": "@jupyter-widgets/controls",
            "_model_module_version": "1.5.0",
            "_model_name": "ProgressStyleModel",
            "_view_count": null,
            "_view_module": "@jupyter-widgets/base",
            "_view_module_version": "1.2.0",
            "_view_name": "StyleView",
            "bar_color": null,
            "description_width": ""
          }
        },
        "a42e67851c6044f2a5a59418bbbe919a": {
          "model_module": "@jupyter-widgets/base",
          "model_name": "LayoutModel",
          "model_module_version": "1.2.0",
          "state": {
            "_model_module": "@jupyter-widgets/base",
            "_model_module_version": "1.2.0",
            "_model_name": "LayoutModel",
            "_view_count": null,
            "_view_module": "@jupyter-widgets/base",
            "_view_module_version": "1.2.0",
            "_view_name": "LayoutView",
            "align_content": null,
            "align_items": null,
            "align_self": null,
            "border": null,
            "bottom": null,
            "display": null,
            "flex": null,
            "flex_flow": null,
            "grid_area": null,
            "grid_auto_columns": null,
            "grid_auto_flow": null,
            "grid_auto_rows": null,
            "grid_column": null,
            "grid_gap": null,
            "grid_row": null,
            "grid_template_areas": null,
            "grid_template_columns": null,
            "grid_template_rows": null,
            "height": null,
            "justify_content": null,
            "justify_items": null,
            "left": null,
            "margin": null,
            "max_height": null,
            "max_width": null,
            "min_height": null,
            "min_width": null,
            "object_fit": null,
            "object_position": null,
            "order": null,
            "overflow": null,
            "overflow_x": null,
            "overflow_y": null,
            "padding": null,
            "right": null,
            "top": null,
            "visibility": null,
            "width": null
          }
        },
        "056e551db1f64153a4ccbf06e5336c1e": {
          "model_module": "@jupyter-widgets/controls",
          "model_name": "DescriptionStyleModel",
          "model_module_version": "1.5.0",
          "state": {
            "_model_module": "@jupyter-widgets/controls",
            "_model_module_version": "1.5.0",
            "_model_name": "DescriptionStyleModel",
            "_view_count": null,
            "_view_module": "@jupyter-widgets/base",
            "_view_module_version": "1.2.0",
            "_view_name": "StyleView",
            "description_width": ""
          }
        },
        "6934bee3797d4737a0146c738b39add7": {
          "model_module": "@jupyter-widgets/controls",
          "model_name": "HBoxModel",
          "model_module_version": "1.5.0",
          "state": {
            "_dom_classes": [],
            "_model_module": "@jupyter-widgets/controls",
            "_model_module_version": "1.5.0",
            "_model_name": "HBoxModel",
            "_view_count": null,
            "_view_module": "@jupyter-widgets/controls",
            "_view_module_version": "1.5.0",
            "_view_name": "HBoxView",
            "box_style": "",
            "children": [
              "IPY_MODEL_2483aaf47c92455ab3ee5a6a5c542cf0",
              "IPY_MODEL_fddb0c5157b84f83b238dd78863fba3a",
              "IPY_MODEL_9176a0899dfc411b8b56f5fca7a97453"
            ],
            "layout": "IPY_MODEL_6c32ee0a80eb4aeb99d40dce69927512"
          }
        },
        "2483aaf47c92455ab3ee5a6a5c542cf0": {
          "model_module": "@jupyter-widgets/controls",
          "model_name": "HTMLModel",
          "model_module_version": "1.5.0",
          "state": {
            "_dom_classes": [],
            "_model_module": "@jupyter-widgets/controls",
            "_model_module_version": "1.5.0",
            "_model_name": "HTMLModel",
            "_view_count": null,
            "_view_module": "@jupyter-widgets/controls",
            "_view_module_version": "1.5.0",
            "_view_name": "HTMLView",
            "description": "",
            "description_tooltip": null,
            "layout": "IPY_MODEL_7c5e46c9142843aeaa7f6893970260dd",
            "placeholder": "​",
            "style": "IPY_MODEL_788801fd16a943038321435f831b2dda",
            "value": "Downloading (…)olve/main/merges.txt: 100%"
          }
        },
        "fddb0c5157b84f83b238dd78863fba3a": {
          "model_module": "@jupyter-widgets/controls",
          "model_name": "FloatProgressModel",
          "model_module_version": "1.5.0",
          "state": {
            "_dom_classes": [],
            "_model_module": "@jupyter-widgets/controls",
            "_model_module_version": "1.5.0",
            "_model_name": "FloatProgressModel",
            "_view_count": null,
            "_view_module": "@jupyter-widgets/controls",
            "_view_module_version": "1.5.0",
            "_view_name": "ProgressView",
            "bar_style": "success",
            "description": "",
            "description_tooltip": null,
            "layout": "IPY_MODEL_4876b13963c545c4b84f08f5ef468582",
            "max": 456318,
            "min": 0,
            "orientation": "horizontal",
            "style": "IPY_MODEL_77822b1cc34547d7aae19da497f7b3ea",
            "value": 456318
          }
        },
        "9176a0899dfc411b8b56f5fca7a97453": {
          "model_module": "@jupyter-widgets/controls",
          "model_name": "HTMLModel",
          "model_module_version": "1.5.0",
          "state": {
            "_dom_classes": [],
            "_model_module": "@jupyter-widgets/controls",
            "_model_module_version": "1.5.0",
            "_model_name": "HTMLModel",
            "_view_count": null,
            "_view_module": "@jupyter-widgets/controls",
            "_view_module_version": "1.5.0",
            "_view_name": "HTMLView",
            "description": "",
            "description_tooltip": null,
            "layout": "IPY_MODEL_74d0a86030d14d1fb1ecc63d823028a0",
            "placeholder": "​",
            "style": "IPY_MODEL_d49aaec275224c498b1a92242e00ec68",
            "value": " 456k/456k [00:00&lt;00:00, 3.60MB/s]"
          }
        },
        "6c32ee0a80eb4aeb99d40dce69927512": {
          "model_module": "@jupyter-widgets/base",
          "model_name": "LayoutModel",
          "model_module_version": "1.2.0",
          "state": {
            "_model_module": "@jupyter-widgets/base",
            "_model_module_version": "1.2.0",
            "_model_name": "LayoutModel",
            "_view_count": null,
            "_view_module": "@jupyter-widgets/base",
            "_view_module_version": "1.2.0",
            "_view_name": "LayoutView",
            "align_content": null,
            "align_items": null,
            "align_self": null,
            "border": null,
            "bottom": null,
            "display": null,
            "flex": null,
            "flex_flow": null,
            "grid_area": null,
            "grid_auto_columns": null,
            "grid_auto_flow": null,
            "grid_auto_rows": null,
            "grid_column": null,
            "grid_gap": null,
            "grid_row": null,
            "grid_template_areas": null,
            "grid_template_columns": null,
            "grid_template_rows": null,
            "height": null,
            "justify_content": null,
            "justify_items": null,
            "left": null,
            "margin": null,
            "max_height": null,
            "max_width": null,
            "min_height": null,
            "min_width": null,
            "object_fit": null,
            "object_position": null,
            "order": null,
            "overflow": null,
            "overflow_x": null,
            "overflow_y": null,
            "padding": null,
            "right": null,
            "top": null,
            "visibility": null,
            "width": null
          }
        },
        "7c5e46c9142843aeaa7f6893970260dd": {
          "model_module": "@jupyter-widgets/base",
          "model_name": "LayoutModel",
          "model_module_version": "1.2.0",
          "state": {
            "_model_module": "@jupyter-widgets/base",
            "_model_module_version": "1.2.0",
            "_model_name": "LayoutModel",
            "_view_count": null,
            "_view_module": "@jupyter-widgets/base",
            "_view_module_version": "1.2.0",
            "_view_name": "LayoutView",
            "align_content": null,
            "align_items": null,
            "align_self": null,
            "border": null,
            "bottom": null,
            "display": null,
            "flex": null,
            "flex_flow": null,
            "grid_area": null,
            "grid_auto_columns": null,
            "grid_auto_flow": null,
            "grid_auto_rows": null,
            "grid_column": null,
            "grid_gap": null,
            "grid_row": null,
            "grid_template_areas": null,
            "grid_template_columns": null,
            "grid_template_rows": null,
            "height": null,
            "justify_content": null,
            "justify_items": null,
            "left": null,
            "margin": null,
            "max_height": null,
            "max_width": null,
            "min_height": null,
            "min_width": null,
            "object_fit": null,
            "object_position": null,
            "order": null,
            "overflow": null,
            "overflow_x": null,
            "overflow_y": null,
            "padding": null,
            "right": null,
            "top": null,
            "visibility": null,
            "width": null
          }
        },
        "788801fd16a943038321435f831b2dda": {
          "model_module": "@jupyter-widgets/controls",
          "model_name": "DescriptionStyleModel",
          "model_module_version": "1.5.0",
          "state": {
            "_model_module": "@jupyter-widgets/controls",
            "_model_module_version": "1.5.0",
            "_model_name": "DescriptionStyleModel",
            "_view_count": null,
            "_view_module": "@jupyter-widgets/base",
            "_view_module_version": "1.2.0",
            "_view_name": "StyleView",
            "description_width": ""
          }
        },
        "4876b13963c545c4b84f08f5ef468582": {
          "model_module": "@jupyter-widgets/base",
          "model_name": "LayoutModel",
          "model_module_version": "1.2.0",
          "state": {
            "_model_module": "@jupyter-widgets/base",
            "_model_module_version": "1.2.0",
            "_model_name": "LayoutModel",
            "_view_count": null,
            "_view_module": "@jupyter-widgets/base",
            "_view_module_version": "1.2.0",
            "_view_name": "LayoutView",
            "align_content": null,
            "align_items": null,
            "align_self": null,
            "border": null,
            "bottom": null,
            "display": null,
            "flex": null,
            "flex_flow": null,
            "grid_area": null,
            "grid_auto_columns": null,
            "grid_auto_flow": null,
            "grid_auto_rows": null,
            "grid_column": null,
            "grid_gap": null,
            "grid_row": null,
            "grid_template_areas": null,
            "grid_template_columns": null,
            "grid_template_rows": null,
            "height": null,
            "justify_content": null,
            "justify_items": null,
            "left": null,
            "margin": null,
            "max_height": null,
            "max_width": null,
            "min_height": null,
            "min_width": null,
            "object_fit": null,
            "object_position": null,
            "order": null,
            "overflow": null,
            "overflow_x": null,
            "overflow_y": null,
            "padding": null,
            "right": null,
            "top": null,
            "visibility": null,
            "width": null
          }
        },
        "77822b1cc34547d7aae19da497f7b3ea": {
          "model_module": "@jupyter-widgets/controls",
          "model_name": "ProgressStyleModel",
          "model_module_version": "1.5.0",
          "state": {
            "_model_module": "@jupyter-widgets/controls",
            "_model_module_version": "1.5.0",
            "_model_name": "ProgressStyleModel",
            "_view_count": null,
            "_view_module": "@jupyter-widgets/base",
            "_view_module_version": "1.2.0",
            "_view_name": "StyleView",
            "bar_color": null,
            "description_width": ""
          }
        },
        "74d0a86030d14d1fb1ecc63d823028a0": {
          "model_module": "@jupyter-widgets/base",
          "model_name": "LayoutModel",
          "model_module_version": "1.2.0",
          "state": {
            "_model_module": "@jupyter-widgets/base",
            "_model_module_version": "1.2.0",
            "_model_name": "LayoutModel",
            "_view_count": null,
            "_view_module": "@jupyter-widgets/base",
            "_view_module_version": "1.2.0",
            "_view_name": "LayoutView",
            "align_content": null,
            "align_items": null,
            "align_self": null,
            "border": null,
            "bottom": null,
            "display": null,
            "flex": null,
            "flex_flow": null,
            "grid_area": null,
            "grid_auto_columns": null,
            "grid_auto_flow": null,
            "grid_auto_rows": null,
            "grid_column": null,
            "grid_gap": null,
            "grid_row": null,
            "grid_template_areas": null,
            "grid_template_columns": null,
            "grid_template_rows": null,
            "height": null,
            "justify_content": null,
            "justify_items": null,
            "left": null,
            "margin": null,
            "max_height": null,
            "max_width": null,
            "min_height": null,
            "min_width": null,
            "object_fit": null,
            "object_position": null,
            "order": null,
            "overflow": null,
            "overflow_x": null,
            "overflow_y": null,
            "padding": null,
            "right": null,
            "top": null,
            "visibility": null,
            "width": null
          }
        },
        "d49aaec275224c498b1a92242e00ec68": {
          "model_module": "@jupyter-widgets/controls",
          "model_name": "DescriptionStyleModel",
          "model_module_version": "1.5.0",
          "state": {
            "_model_module": "@jupyter-widgets/controls",
            "_model_module_version": "1.5.0",
            "_model_name": "DescriptionStyleModel",
            "_view_count": null,
            "_view_module": "@jupyter-widgets/base",
            "_view_module_version": "1.2.0",
            "_view_name": "StyleView",
            "description_width": ""
          }
        },
        "76f3bd04b0894b1b9f625c83f46f16b6": {
          "model_module": "@jupyter-widgets/controls",
          "model_name": "HBoxModel",
          "model_module_version": "1.5.0",
          "state": {
            "_dom_classes": [],
            "_model_module": "@jupyter-widgets/controls",
            "_model_module_version": "1.5.0",
            "_model_name": "HBoxModel",
            "_view_count": null,
            "_view_module": "@jupyter-widgets/controls",
            "_view_module_version": "1.5.0",
            "_view_name": "HBoxView",
            "box_style": "",
            "children": [
              "IPY_MODEL_01c533e70eaa45cc9bd4f71e2f19bddb",
              "IPY_MODEL_d218577279b346a886d44c0d3a02ee37",
              "IPY_MODEL_a3b9a6a103364961bf51d9cc81f07f44"
            ],
            "layout": "IPY_MODEL_3030ccf5e6004eb5836b6d872c7ad593"
          }
        },
        "01c533e70eaa45cc9bd4f71e2f19bddb": {
          "model_module": "@jupyter-widgets/controls",
          "model_name": "HTMLModel",
          "model_module_version": "1.5.0",
          "state": {
            "_dom_classes": [],
            "_model_module": "@jupyter-widgets/controls",
            "_model_module_version": "1.5.0",
            "_model_name": "HTMLModel",
            "_view_count": null,
            "_view_module": "@jupyter-widgets/controls",
            "_view_module_version": "1.5.0",
            "_view_name": "HTMLView",
            "description": "",
            "description_tooltip": null,
            "layout": "IPY_MODEL_28b3143201de46d79e7cd19b22a52a49",
            "placeholder": "​",
            "style": "IPY_MODEL_afd197df28e54c98a9be063ab8a5d305",
            "value": "Downloading (…)lve/main/config.json: 100%"
          }
        },
        "d218577279b346a886d44c0d3a02ee37": {
          "model_module": "@jupyter-widgets/controls",
          "model_name": "FloatProgressModel",
          "model_module_version": "1.5.0",
          "state": {
            "_dom_classes": [],
            "_model_module": "@jupyter-widgets/controls",
            "_model_module_version": "1.5.0",
            "_model_name": "FloatProgressModel",
            "_view_count": null,
            "_view_module": "@jupyter-widgets/controls",
            "_view_module_version": "1.5.0",
            "_view_name": "ProgressView",
            "bar_style": "success",
            "description": "",
            "description_tooltip": null,
            "layout": "IPY_MODEL_750c54b95b6f47d4a0b294227ffff0b0",
            "max": 665,
            "min": 0,
            "orientation": "horizontal",
            "style": "IPY_MODEL_9fc64b2b689c40b480f9fa8c55599ac5",
            "value": 665
          }
        },
        "a3b9a6a103364961bf51d9cc81f07f44": {
          "model_module": "@jupyter-widgets/controls",
          "model_name": "HTMLModel",
          "model_module_version": "1.5.0",
          "state": {
            "_dom_classes": [],
            "_model_module": "@jupyter-widgets/controls",
            "_model_module_version": "1.5.0",
            "_model_name": "HTMLModel",
            "_view_count": null,
            "_view_module": "@jupyter-widgets/controls",
            "_view_module_version": "1.5.0",
            "_view_name": "HTMLView",
            "description": "",
            "description_tooltip": null,
            "layout": "IPY_MODEL_92efc5417f604261adcba46799f58f9a",
            "placeholder": "​",
            "style": "IPY_MODEL_5c81116b524444e3b6e2b1832d1af727",
            "value": " 665/665 [00:00&lt;00:00, 40.8kB/s]"
          }
        },
        "3030ccf5e6004eb5836b6d872c7ad593": {
          "model_module": "@jupyter-widgets/base",
          "model_name": "LayoutModel",
          "model_module_version": "1.2.0",
          "state": {
            "_model_module": "@jupyter-widgets/base",
            "_model_module_version": "1.2.0",
            "_model_name": "LayoutModel",
            "_view_count": null,
            "_view_module": "@jupyter-widgets/base",
            "_view_module_version": "1.2.0",
            "_view_name": "LayoutView",
            "align_content": null,
            "align_items": null,
            "align_self": null,
            "border": null,
            "bottom": null,
            "display": null,
            "flex": null,
            "flex_flow": null,
            "grid_area": null,
            "grid_auto_columns": null,
            "grid_auto_flow": null,
            "grid_auto_rows": null,
            "grid_column": null,
            "grid_gap": null,
            "grid_row": null,
            "grid_template_areas": null,
            "grid_template_columns": null,
            "grid_template_rows": null,
            "height": null,
            "justify_content": null,
            "justify_items": null,
            "left": null,
            "margin": null,
            "max_height": null,
            "max_width": null,
            "min_height": null,
            "min_width": null,
            "object_fit": null,
            "object_position": null,
            "order": null,
            "overflow": null,
            "overflow_x": null,
            "overflow_y": null,
            "padding": null,
            "right": null,
            "top": null,
            "visibility": null,
            "width": null
          }
        },
        "28b3143201de46d79e7cd19b22a52a49": {
          "model_module": "@jupyter-widgets/base",
          "model_name": "LayoutModel",
          "model_module_version": "1.2.0",
          "state": {
            "_model_module": "@jupyter-widgets/base",
            "_model_module_version": "1.2.0",
            "_model_name": "LayoutModel",
            "_view_count": null,
            "_view_module": "@jupyter-widgets/base",
            "_view_module_version": "1.2.0",
            "_view_name": "LayoutView",
            "align_content": null,
            "align_items": null,
            "align_self": null,
            "border": null,
            "bottom": null,
            "display": null,
            "flex": null,
            "flex_flow": null,
            "grid_area": null,
            "grid_auto_columns": null,
            "grid_auto_flow": null,
            "grid_auto_rows": null,
            "grid_column": null,
            "grid_gap": null,
            "grid_row": null,
            "grid_template_areas": null,
            "grid_template_columns": null,
            "grid_template_rows": null,
            "height": null,
            "justify_content": null,
            "justify_items": null,
            "left": null,
            "margin": null,
            "max_height": null,
            "max_width": null,
            "min_height": null,
            "min_width": null,
            "object_fit": null,
            "object_position": null,
            "order": null,
            "overflow": null,
            "overflow_x": null,
            "overflow_y": null,
            "padding": null,
            "right": null,
            "top": null,
            "visibility": null,
            "width": null
          }
        },
        "afd197df28e54c98a9be063ab8a5d305": {
          "model_module": "@jupyter-widgets/controls",
          "model_name": "DescriptionStyleModel",
          "model_module_version": "1.5.0",
          "state": {
            "_model_module": "@jupyter-widgets/controls",
            "_model_module_version": "1.5.0",
            "_model_name": "DescriptionStyleModel",
            "_view_count": null,
            "_view_module": "@jupyter-widgets/base",
            "_view_module_version": "1.2.0",
            "_view_name": "StyleView",
            "description_width": ""
          }
        },
        "750c54b95b6f47d4a0b294227ffff0b0": {
          "model_module": "@jupyter-widgets/base",
          "model_name": "LayoutModel",
          "model_module_version": "1.2.0",
          "state": {
            "_model_module": "@jupyter-widgets/base",
            "_model_module_version": "1.2.0",
            "_model_name": "LayoutModel",
            "_view_count": null,
            "_view_module": "@jupyter-widgets/base",
            "_view_module_version": "1.2.0",
            "_view_name": "LayoutView",
            "align_content": null,
            "align_items": null,
            "align_self": null,
            "border": null,
            "bottom": null,
            "display": null,
            "flex": null,
            "flex_flow": null,
            "grid_area": null,
            "grid_auto_columns": null,
            "grid_auto_flow": null,
            "grid_auto_rows": null,
            "grid_column": null,
            "grid_gap": null,
            "grid_row": null,
            "grid_template_areas": null,
            "grid_template_columns": null,
            "grid_template_rows": null,
            "height": null,
            "justify_content": null,
            "justify_items": null,
            "left": null,
            "margin": null,
            "max_height": null,
            "max_width": null,
            "min_height": null,
            "min_width": null,
            "object_fit": null,
            "object_position": null,
            "order": null,
            "overflow": null,
            "overflow_x": null,
            "overflow_y": null,
            "padding": null,
            "right": null,
            "top": null,
            "visibility": null,
            "width": null
          }
        },
        "9fc64b2b689c40b480f9fa8c55599ac5": {
          "model_module": "@jupyter-widgets/controls",
          "model_name": "ProgressStyleModel",
          "model_module_version": "1.5.0",
          "state": {
            "_model_module": "@jupyter-widgets/controls",
            "_model_module_version": "1.5.0",
            "_model_name": "ProgressStyleModel",
            "_view_count": null,
            "_view_module": "@jupyter-widgets/base",
            "_view_module_version": "1.2.0",
            "_view_name": "StyleView",
            "bar_color": null,
            "description_width": ""
          }
        },
        "92efc5417f604261adcba46799f58f9a": {
          "model_module": "@jupyter-widgets/base",
          "model_name": "LayoutModel",
          "model_module_version": "1.2.0",
          "state": {
            "_model_module": "@jupyter-widgets/base",
            "_model_module_version": "1.2.0",
            "_model_name": "LayoutModel",
            "_view_count": null,
            "_view_module": "@jupyter-widgets/base",
            "_view_module_version": "1.2.0",
            "_view_name": "LayoutView",
            "align_content": null,
            "align_items": null,
            "align_self": null,
            "border": null,
            "bottom": null,
            "display": null,
            "flex": null,
            "flex_flow": null,
            "grid_area": null,
            "grid_auto_columns": null,
            "grid_auto_flow": null,
            "grid_auto_rows": null,
            "grid_column": null,
            "grid_gap": null,
            "grid_row": null,
            "grid_template_areas": null,
            "grid_template_columns": null,
            "grid_template_rows": null,
            "height": null,
            "justify_content": null,
            "justify_items": null,
            "left": null,
            "margin": null,
            "max_height": null,
            "max_width": null,
            "min_height": null,
            "min_width": null,
            "object_fit": null,
            "object_position": null,
            "order": null,
            "overflow": null,
            "overflow_x": null,
            "overflow_y": null,
            "padding": null,
            "right": null,
            "top": null,
            "visibility": null,
            "width": null
          }
        },
        "5c81116b524444e3b6e2b1832d1af727": {
          "model_module": "@jupyter-widgets/controls",
          "model_name": "DescriptionStyleModel",
          "model_module_version": "1.5.0",
          "state": {
            "_model_module": "@jupyter-widgets/controls",
            "_model_module_version": "1.5.0",
            "_model_name": "DescriptionStyleModel",
            "_view_count": null,
            "_view_module": "@jupyter-widgets/base",
            "_view_module_version": "1.2.0",
            "_view_name": "StyleView",
            "description_width": ""
          }
        },
        "217008082acd48db8f306f94a19090a4": {
          "model_module": "@jupyter-widgets/controls",
          "model_name": "VBoxModel",
          "model_module_version": "1.5.0",
          "state": {
            "_dom_classes": [],
            "_model_module": "@jupyter-widgets/controls",
            "_model_module_version": "1.5.0",
            "_model_name": "VBoxModel",
            "_view_count": null,
            "_view_module": "@jupyter-widgets/controls",
            "_view_module_version": "1.5.0",
            "_view_name": "VBoxView",
            "box_style": "",
            "children": [
              "IPY_MODEL_2095f5d3e6584f6c89cca6170bef4e0e",
              "IPY_MODEL_91b0d39839d646cdb7a2ec94c2618b6f"
            ],
            "layout": "IPY_MODEL_7b0ade1aed5e4935b369bbb391940e8a"
          }
        },
        "2095f5d3e6584f6c89cca6170bef4e0e": {
          "model_module": "@jupyter-widgets/controls",
          "model_name": "LabelModel",
          "model_module_version": "1.5.0",
          "state": {
            "_dom_classes": [],
            "_model_module": "@jupyter-widgets/controls",
            "_model_module_version": "1.5.0",
            "_model_name": "LabelModel",
            "_view_count": null,
            "_view_module": "@jupyter-widgets/controls",
            "_view_module_version": "1.5.0",
            "_view_name": "LabelView",
            "description": "",
            "description_tooltip": null,
            "layout": "IPY_MODEL_ea2d00787c4b4354875eaeea12e56a9c",
            "placeholder": "​",
            "style": "IPY_MODEL_ef1a84e7e9ca49cdb4d7c840dc517c3c",
            "value": "0.001 MB of 0.013 MB uploaded (0.000 MB deduped)\r"
          }
        },
        "91b0d39839d646cdb7a2ec94c2618b6f": {
          "model_module": "@jupyter-widgets/controls",
          "model_name": "FloatProgressModel",
          "model_module_version": "1.5.0",
          "state": {
            "_dom_classes": [],
            "_model_module": "@jupyter-widgets/controls",
            "_model_module_version": "1.5.0",
            "_model_name": "FloatProgressModel",
            "_view_count": null,
            "_view_module": "@jupyter-widgets/controls",
            "_view_module_version": "1.5.0",
            "_view_name": "ProgressView",
            "bar_style": "",
            "description": "",
            "description_tooltip": null,
            "layout": "IPY_MODEL_31a751f024c549e6a9e8dbf10d5d7518",
            "max": 1,
            "min": 0,
            "orientation": "horizontal",
            "style": "IPY_MODEL_3937c0e27d204f7f82d483031409bd8d",
            "value": 0.08788740829465488
          }
        },
        "7b0ade1aed5e4935b369bbb391940e8a": {
          "model_module": "@jupyter-widgets/base",
          "model_name": "LayoutModel",
          "model_module_version": "1.2.0",
          "state": {
            "_model_module": "@jupyter-widgets/base",
            "_model_module_version": "1.2.0",
            "_model_name": "LayoutModel",
            "_view_count": null,
            "_view_module": "@jupyter-widgets/base",
            "_view_module_version": "1.2.0",
            "_view_name": "LayoutView",
            "align_content": null,
            "align_items": null,
            "align_self": null,
            "border": null,
            "bottom": null,
            "display": null,
            "flex": null,
            "flex_flow": null,
            "grid_area": null,
            "grid_auto_columns": null,
            "grid_auto_flow": null,
            "grid_auto_rows": null,
            "grid_column": null,
            "grid_gap": null,
            "grid_row": null,
            "grid_template_areas": null,
            "grid_template_columns": null,
            "grid_template_rows": null,
            "height": null,
            "justify_content": null,
            "justify_items": null,
            "left": null,
            "margin": null,
            "max_height": null,
            "max_width": null,
            "min_height": null,
            "min_width": null,
            "object_fit": null,
            "object_position": null,
            "order": null,
            "overflow": null,
            "overflow_x": null,
            "overflow_y": null,
            "padding": null,
            "right": null,
            "top": null,
            "visibility": null,
            "width": null
          }
        },
        "ea2d00787c4b4354875eaeea12e56a9c": {
          "model_module": "@jupyter-widgets/base",
          "model_name": "LayoutModel",
          "model_module_version": "1.2.0",
          "state": {
            "_model_module": "@jupyter-widgets/base",
            "_model_module_version": "1.2.0",
            "_model_name": "LayoutModel",
            "_view_count": null,
            "_view_module": "@jupyter-widgets/base",
            "_view_module_version": "1.2.0",
            "_view_name": "LayoutView",
            "align_content": null,
            "align_items": null,
            "align_self": null,
            "border": null,
            "bottom": null,
            "display": null,
            "flex": null,
            "flex_flow": null,
            "grid_area": null,
            "grid_auto_columns": null,
            "grid_auto_flow": null,
            "grid_auto_rows": null,
            "grid_column": null,
            "grid_gap": null,
            "grid_row": null,
            "grid_template_areas": null,
            "grid_template_columns": null,
            "grid_template_rows": null,
            "height": null,
            "justify_content": null,
            "justify_items": null,
            "left": null,
            "margin": null,
            "max_height": null,
            "max_width": null,
            "min_height": null,
            "min_width": null,
            "object_fit": null,
            "object_position": null,
            "order": null,
            "overflow": null,
            "overflow_x": null,
            "overflow_y": null,
            "padding": null,
            "right": null,
            "top": null,
            "visibility": null,
            "width": null
          }
        },
        "ef1a84e7e9ca49cdb4d7c840dc517c3c": {
          "model_module": "@jupyter-widgets/controls",
          "model_name": "DescriptionStyleModel",
          "model_module_version": "1.5.0",
          "state": {
            "_model_module": "@jupyter-widgets/controls",
            "_model_module_version": "1.5.0",
            "_model_name": "DescriptionStyleModel",
            "_view_count": null,
            "_view_module": "@jupyter-widgets/base",
            "_view_module_version": "1.2.0",
            "_view_name": "StyleView",
            "description_width": ""
          }
        },
        "31a751f024c549e6a9e8dbf10d5d7518": {
          "model_module": "@jupyter-widgets/base",
          "model_name": "LayoutModel",
          "model_module_version": "1.2.0",
          "state": {
            "_model_module": "@jupyter-widgets/base",
            "_model_module_version": "1.2.0",
            "_model_name": "LayoutModel",
            "_view_count": null,
            "_view_module": "@jupyter-widgets/base",
            "_view_module_version": "1.2.0",
            "_view_name": "LayoutView",
            "align_content": null,
            "align_items": null,
            "align_self": null,
            "border": null,
            "bottom": null,
            "display": null,
            "flex": null,
            "flex_flow": null,
            "grid_area": null,
            "grid_auto_columns": null,
            "grid_auto_flow": null,
            "grid_auto_rows": null,
            "grid_column": null,
            "grid_gap": null,
            "grid_row": null,
            "grid_template_areas": null,
            "grid_template_columns": null,
            "grid_template_rows": null,
            "height": null,
            "justify_content": null,
            "justify_items": null,
            "left": null,
            "margin": null,
            "max_height": null,
            "max_width": null,
            "min_height": null,
            "min_width": null,
            "object_fit": null,
            "object_position": null,
            "order": null,
            "overflow": null,
            "overflow_x": null,
            "overflow_y": null,
            "padding": null,
            "right": null,
            "top": null,
            "visibility": null,
            "width": null
          }
        },
        "3937c0e27d204f7f82d483031409bd8d": {
          "model_module": "@jupyter-widgets/controls",
          "model_name": "ProgressStyleModel",
          "model_module_version": "1.5.0",
          "state": {
            "_model_module": "@jupyter-widgets/controls",
            "_model_module_version": "1.5.0",
            "_model_name": "ProgressStyleModel",
            "_view_count": null,
            "_view_module": "@jupyter-widgets/base",
            "_view_module_version": "1.2.0",
            "_view_name": "StyleView",
            "bar_color": null,
            "description_width": ""
          }
        }
      }
    }
  },
  "nbformat": 4,
  "nbformat_minor": 0
}